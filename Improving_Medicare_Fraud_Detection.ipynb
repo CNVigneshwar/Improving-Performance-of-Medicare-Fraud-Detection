{
  "cells": [
    {
      "cell_type": "code",
      "execution_count": null,
      "metadata": {
        "execution": {
          "iopub.execute_input": "2023-11-27T05:40:01.040400Z",
          "iopub.status.busy": "2023-11-27T05:40:01.039978Z",
          "iopub.status.idle": "2023-11-27T05:42:46.296489Z",
          "shell.execute_reply": "2023-11-27T05:42:46.295398Z",
          "shell.execute_reply.started": "2023-11-27T05:40:01.040341Z"
        },
        "trusted": true,
        "id": "xbIed2EOcikn",
        "outputId": "b93634af-5efe-4efe-c6ff-5a559910d71e"
      },
      "outputs": [
        {
          "name": "stdout",
          "output_type": "stream",
          "text": [
            "Requirement already satisfied: scipy>=1.8 in /opt/conda/lib/python3.10/site-packages (1.11.3)\n",
            "Requirement already satisfied: numpy<1.28.0,>=1.21.6 in /opt/conda/lib/python3.10/site-packages (from scipy>=1.8) (1.24.3)\n",
            "Collecting networkx<2.7\n",
            "  Downloading networkx-2.6.3-py3-none-any.whl (1.9 MB)\n",
            "\u001b[2K     \u001b[90m━━━━━━━━━━━━━━━━━━━━━━━━━━━━━━━━━━━━━━━━\u001b[0m \u001b[32m1.9/1.9 MB\u001b[0m \u001b[31m21.2 MB/s\u001b[0m eta \u001b[36m0:00:00\u001b[0m00:01\u001b[0m0:01\u001b[0m\n",
            "\u001b[?25hInstalling collected packages: networkx\n",
            "  Attempting uninstall: networkx\n",
            "    Found existing installation: networkx 3.1\n",
            "    Uninstalling networkx-3.1:\n",
            "      Successfully uninstalled networkx-3.1\n",
            "\u001b[31mERROR: pip's dependency resolver does not currently take into account all the packages that are installed. This behaviour is the source of the following dependency conflicts.\n",
            "momepy 0.6.0 requires shapely>=2, but you have shapely 1.8.5.post1 which is incompatible.\n",
            "scikit-image 0.21.0 requires networkx>=2.8, but you have networkx 2.6.3 which is incompatible.\n",
            "ydata-profiling 4.5.1 requires numpy<1.24,>=1.16.0, but you have numpy 1.24.3 which is incompatible.\u001b[0m\u001b[31m\n",
            "\u001b[0mSuccessfully installed networkx-2.6.3\n",
            "Requirement already satisfied: igraph in /opt/conda/lib/python3.10/site-packages (0.11.2)\n",
            "Requirement already satisfied: texttable>=1.6.2 in /opt/conda/lib/python3.10/site-packages (from igraph) (1.7.0)\n",
            "Collecting pandas==1.5.3\n",
            "  Downloading pandas-1.5.3-cp310-cp310-manylinux_2_17_x86_64.manylinux2014_x86_64.whl (12.1 MB)\n",
            "\u001b[2K     \u001b[90m━━━━━━━━━━━━━━━━━━━━━━━━━━━━━━━━━━━━━━━━\u001b[0m \u001b[32m12.1/12.1 MB\u001b[0m \u001b[31m76.5 MB/s\u001b[0m eta \u001b[36m0:00:00\u001b[0m00:01\u001b[0m0:01\u001b[0m\n",
            "\u001b[?25hRequirement already satisfied: python-dateutil>=2.8.1 in /opt/conda/lib/python3.10/site-packages (from pandas==1.5.3) (2.8.2)\n",
            "Requirement already satisfied: pytz>=2020.1 in /opt/conda/lib/python3.10/site-packages (from pandas==1.5.3) (2023.3)\n",
            "Requirement already satisfied: numpy>=1.21.0 in /opt/conda/lib/python3.10/site-packages (from pandas==1.5.3) (1.24.3)\n",
            "Requirement already satisfied: six>=1.5 in /opt/conda/lib/python3.10/site-packages (from python-dateutil>=2.8.1->pandas==1.5.3) (1.16.0)\n",
            "Installing collected packages: pandas\n",
            "  Attempting uninstall: pandas\n",
            "    Found existing installation: pandas 2.0.3\n",
            "    Uninstalling pandas-2.0.3:\n",
            "      Successfully uninstalled pandas-2.0.3\n",
            "\u001b[31mERROR: pip's dependency resolver does not currently take into account all the packages that are installed. This behaviour is the source of the following dependency conflicts.\n",
            "cudf 23.8.0 requires cupy-cuda11x>=12.0.0, which is not installed.\n",
            "cuml 23.8.0 requires cupy-cuda11x>=12.0.0, which is not installed.\n",
            "dask-cudf 23.8.0 requires cupy-cuda11x>=12.0.0, which is not installed.\n",
            "beatrix-jupyterlab 2023.814.150030 requires jupyter-server~=1.16, but you have jupyter-server 2.10.0 which is incompatible.\n",
            "beatrix-jupyterlab 2023.814.150030 requires jupyterlab~=3.4, but you have jupyterlab 4.0.5 which is incompatible.\n",
            "cudf 23.8.0 requires protobuf<5,>=4.21, but you have protobuf 3.20.3 which is incompatible.\n",
            "cuml 23.8.0 requires dask==2023.7.1, but you have dask 2023.11.0 which is incompatible.\n",
            "cuml 23.8.0 requires distributed==2023.7.1, but you have distributed 2023.11.0 which is incompatible.\n",
            "dask-cuda 23.8.0 requires dask==2023.7.1, but you have dask 2023.11.0 which is incompatible.\n",
            "dask-cuda 23.8.0 requires distributed==2023.7.1, but you have distributed 2023.11.0 which is incompatible.\n",
            "dask-cudf 23.8.0 requires dask==2023.7.1, but you have dask 2023.11.0 which is incompatible.\n",
            "dask-cudf 23.8.0 requires distributed==2023.7.1, but you have distributed 2023.11.0 which is incompatible.\n",
            "fitter 1.6.0 requires pandas<3.0.0,>=2.0.3, but you have pandas 1.5.3 which is incompatible.\n",
            "libpysal 4.9.2 requires packaging>=22, but you have packaging 21.3 which is incompatible.\n",
            "libpysal 4.9.2 requires shapely>=2.0.1, but you have shapely 1.8.5.post1 which is incompatible.\n",
            "momepy 0.6.0 requires shapely>=2, but you have shapely 1.8.5.post1 which is incompatible.\n",
            "pymc3 3.11.5 requires numpy<1.22.2,>=1.15.0, but you have numpy 1.24.3 which is incompatible.\n",
            "pymc3 3.11.5 requires scipy<1.8.0,>=1.7.3, but you have scipy 1.11.3 which is incompatible.\n",
            "raft-dask 23.8.0 requires dask==2023.7.1, but you have dask 2023.11.0 which is incompatible.\n",
            "raft-dask 23.8.0 requires distributed==2023.7.1, but you have distributed 2023.11.0 which is incompatible.\n",
            "tensorflowjs 4.13.0 requires packaging~=23.1, but you have packaging 21.3 which is incompatible.\n",
            "ydata-profiling 4.5.1 requires numpy<1.24,>=1.16.0, but you have numpy 1.24.3 which is incompatible.\u001b[0m\u001b[31m\n",
            "\u001b[0mSuccessfully installed pandas-1.5.3\n",
            "Collecting infomap\n",
            "  Downloading infomap-2.7.1.tar.gz (263 kB)\n",
            "\u001b[2K     \u001b[90m━━━━━━━━━━━━━━━━━━━━━━━━━━━━━━━━━━━━━━━\u001b[0m \u001b[32m263.1/263.1 kB\u001b[0m \u001b[31m3.9 MB/s\u001b[0m eta \u001b[36m0:00:00\u001b[0ma \u001b[36m0:00:01\u001b[0m\n",
            "\u001b[?25h  Preparing metadata (setup.py) ... \u001b[?25ldone\n",
            "\u001b[?25hBuilding wheels for collected packages: infomap\n",
            "  Building wheel for infomap (setup.py) ... \u001b[?25ldone\n",
            "\u001b[?25h  Created wheel for infomap: filename=infomap-2.7.1-cp310-cp310-linux_x86_64.whl size=741014 sha256=7c3fcf3f8c3d1b45e6339ab1fa42274cbc5f779cd9d3ae094b02374cf2d0b9e1\n",
            "  Stored in directory: /root/.cache/pip/wheels/e4/01/53/fd7c62079098140cd582b999592b4592c0dad7300cac32b6e1\n",
            "Successfully built infomap\n",
            "Installing collected packages: infomap\n",
            "Successfully installed infomap-2.7.1\n",
            "Collecting numpy<1.23.0\n",
            "  Downloading numpy-1.22.4-cp310-cp310-manylinux_2_17_x86_64.manylinux2014_x86_64.whl (16.8 MB)\n",
            "\u001b[2K     \u001b[90m━━━━━━━━━━━━━━━━━━━━━━━━━━━━━━━━━━━━━━━━\u001b[0m \u001b[32m16.8/16.8 MB\u001b[0m \u001b[31m55.8 MB/s\u001b[0m eta \u001b[36m0:00:00\u001b[0m00:01\u001b[0m00:01\u001b[0m\n",
            "\u001b[?25hInstalling collected packages: numpy\n",
            "  Attempting uninstall: numpy\n",
            "    Found existing installation: numpy 1.24.3\n",
            "    Uninstalling numpy-1.24.3:\n",
            "      Successfully uninstalled numpy-1.24.3\n",
            "\u001b[31mERROR: pip's dependency resolver does not currently take into account all the packages that are installed. This behaviour is the source of the following dependency conflicts.\n",
            "cudf 23.8.0 requires cupy-cuda11x>=12.0.0, which is not installed.\n",
            "cuml 23.8.0 requires cupy-cuda11x>=12.0.0, which is not installed.\n",
            "dask-cudf 23.8.0 requires cupy-cuda11x>=12.0.0, which is not installed.\n",
            "apache-beam 2.46.0 requires dill<0.3.2,>=0.3.1.1, but you have dill 0.3.7 which is incompatible.\n",
            "apache-beam 2.46.0 requires pyarrow<10.0.0,>=3.0.0, but you have pyarrow 11.0.0 which is incompatible.\n",
            "chex 0.1.84 requires numpy>=1.24.1, but you have numpy 1.22.4 which is incompatible.\n",
            "cudf 23.8.0 requires protobuf<5,>=4.21, but you have protobuf 3.20.3 which is incompatible.\n",
            "cuml 23.8.0 requires dask==2023.7.1, but you have dask 2023.11.0 which is incompatible.\n",
            "cuml 23.8.0 requires distributed==2023.7.1, but you have distributed 2023.11.0 which is incompatible.\n",
            "dask-cuda 23.8.0 requires dask==2023.7.1, but you have dask 2023.11.0 which is incompatible.\n",
            "dask-cuda 23.8.0 requires distributed==2023.7.1, but you have distributed 2023.11.0 which is incompatible.\n",
            "dask-cudf 23.8.0 requires dask==2023.7.1, but you have dask 2023.11.0 which is incompatible.\n",
            "dask-cudf 23.8.0 requires distributed==2023.7.1, but you have distributed 2023.11.0 which is incompatible.\n",
            "fitter 1.6.0 requires pandas<3.0.0,>=2.0.3, but you have pandas 1.5.3 which is incompatible.\n",
            "inequality 1.0.1 requires numpy>=1.23, but you have numpy 1.22.4 which is incompatible.\n",
            "libpysal 4.9.2 requires packaging>=22, but you have packaging 21.3 which is incompatible.\n",
            "libpysal 4.9.2 requires shapely>=2.0.1, but you have shapely 1.8.5.post1 which is incompatible.\n",
            "momepy 0.6.0 requires shapely>=2, but you have shapely 1.8.5.post1 which is incompatible.\n",
            "pymc3 3.11.5 requires numpy<1.22.2,>=1.15.0, but you have numpy 1.22.4 which is incompatible.\n",
            "pymc3 3.11.5 requires scipy<1.8.0,>=1.7.3, but you have scipy 1.11.3 which is incompatible.\n",
            "raft-dask 23.8.0 requires dask==2023.7.1, but you have dask 2023.11.0 which is incompatible.\n",
            "raft-dask 23.8.0 requires distributed==2023.7.1, but you have distributed 2023.11.0 which is incompatible.\n",
            "scikit-image 0.21.0 requires networkx>=2.8, but you have networkx 2.6.3 which is incompatible.\n",
            "spglm 1.1.0 requires numpy>=1.23, but you have numpy 1.22.4 which is incompatible.\n",
            "spreg 1.4.2 requires numpy>=1.23, but you have numpy 1.22.4 which is incompatible.\n",
            "tensorflowjs 4.13.0 requires packaging~=23.1, but you have packaging 21.3 which is incompatible.\u001b[0m\u001b[31m\n",
            "\u001b[0mSuccessfully installed numpy-1.22.4\n"
          ]
        }
      ],
      "source": [
        "!pip install 'scipy>=1.8'\n",
        "!pip install 'networkx<2.7'\n",
        "!pip install igraph\n",
        "!pip install pandas==1.5.3\n",
        "!pip install infomap\n",
        "!pip install 'numpy<1.23.0'"
      ]
    },
    {
      "cell_type": "markdown",
      "metadata": {
        "id": "Fj56nsRAcikp"
      },
      "source": [
        "Importing Libraries\n"
      ]
    },
    {
      "cell_type": "code",
      "execution_count": null,
      "metadata": {
        "execution": {
          "iopub.execute_input": "2023-11-27T05:42:46.298197Z",
          "iopub.status.busy": "2023-11-27T05:42:46.297920Z",
          "iopub.status.idle": "2023-11-27T05:43:07.065384Z",
          "shell.execute_reply": "2023-11-27T05:43:07.064602Z",
          "shell.execute_reply.started": "2023-11-27T05:42:46.298170Z"
        },
        "trusted": true,
        "id": "Lr0DInkQcikp",
        "outputId": "d5fae1d8-1a47-4261-d90f-69a8ebfe7962"
      },
      "outputs": [
        {
          "name": "stderr",
          "output_type": "stream",
          "text": [
            "/opt/conda/lib/python3.10/site-packages/scipy/__init__.py:146: UserWarning: A NumPy version >=1.16.5 and <1.23.0 is required for this version of SciPy (detected version 1.24.3\n",
            "  warnings.warn(f\"A NumPy version >={np_minversion} and <{np_maxversion}\"\n"
          ]
        }
      ],
      "source": [
        "\n",
        "from collections import Counter\n",
        "\n",
        "\n",
        "import numpy as np\n",
        "import pandas as pd\n",
        "from datetime import datetime\n",
        "\n",
        "import matplotlib.pyplot as plt\n",
        "import seaborn as sns\n",
        "import plotly.express as px\n",
        "import matplotlib.colors as colors\n",
        "\n",
        "from sklearn.model_selection import train_test_split, cross_val_score, StratifiedKFold, RandomizedSearchCV\n",
        "from sklearn.pipeline import Pipeline,make_pipeline\n",
        "from category_encoders.binary import BinaryEncoder\n",
        "from sklearn.preprocessing import StandardScaler\n",
        "\n",
        "import tensorflow as tf\n",
        "from sklearn import metrics\n",
        "from sklearn.tree import DecisionTreeClassifier\n",
        "from sklearn.linear_model import LogisticRegression\n",
        "from sklearn.ensemble import RandomForestClassifier\n",
        "from sklearn.experimental import enable_halving_search_cv\n",
        "from sklearn.model_selection import HalvingGridSearchCV\n",
        "\n",
        "import warnings\n",
        "warnings.filterwarnings('ignore')\n",
        "import networkx as nx\n",
        "import infomap"
      ]
    },
    {
      "cell_type": "code",
      "execution_count": null,
      "metadata": {
        "execution": {
          "iopub.execute_input": "2023-11-27T05:43:07.068028Z",
          "iopub.status.busy": "2023-11-27T05:43:07.067401Z",
          "iopub.status.idle": "2023-11-27T05:43:07.071812Z",
          "shell.execute_reply": "2023-11-27T05:43:07.070981Z",
          "shell.execute_reply.started": "2023-11-27T05:43:07.067999Z"
        },
        "trusted": true,
        "id": "JpwSpx5qcikq"
      },
      "outputs": [],
      "source": [
        "PATH = '/kaggle/input/healthcare-provider-fraud-detection-analysis/'"
      ]
    },
    {
      "cell_type": "code",
      "execution_count": null,
      "metadata": {
        "execution": {
          "iopub.execute_input": "2023-11-27T05:43:07.073359Z",
          "iopub.status.busy": "2023-11-27T05:43:07.072981Z",
          "iopub.status.idle": "2023-11-27T05:43:11.186540Z",
          "shell.execute_reply": "2023-11-27T05:43:11.185678Z",
          "shell.execute_reply.started": "2023-11-27T05:43:07.073306Z"
        },
        "trusted": true,
        "id": "pgSyvG8hcikq"
      },
      "outputs": [],
      "source": [
        "inpatients = pd.read_csv(PATH + 'Train_Inpatientdata-1542865627584.csv')\n",
        "outpatients = pd.read_csv(PATH + 'Train_Outpatientdata-1542865627584.csv')\n",
        "beneficiaries = pd.read_csv(PATH + 'Train_Beneficiarydata-1542865627584.csv')\n",
        "\n",
        "labels = pd.read_csv(PATH + 'Train-1542865627584.csv')"
      ]
    },
    {
      "cell_type": "code",
      "execution_count": null,
      "metadata": {
        "execution": {
          "iopub.execute_input": "2023-11-27T05:43:11.187995Z",
          "iopub.status.busy": "2023-11-27T05:43:11.187691Z",
          "iopub.status.idle": "2023-11-27T05:43:13.548643Z",
          "shell.execute_reply": "2023-11-27T05:43:13.547537Z",
          "shell.execute_reply.started": "2023-11-27T05:43:11.187964Z"
        },
        "trusted": true,
        "id": "RDiu2iDEcikq",
        "outputId": "029e51a5-b2a3-4996-c7ae-8d8a76c9a747"
      },
      "outputs": [
        {
          "data": {
            "text/html": [
              "<div>\n",
              "<style scoped>\n",
              "    .dataframe tbody tr th:only-of-type {\n",
              "        vertical-align: middle;\n",
              "    }\n",
              "\n",
              "    .dataframe tbody tr th {\n",
              "        vertical-align: top;\n",
              "    }\n",
              "\n",
              "    .dataframe thead th {\n",
              "        text-align: right;\n",
              "    }\n",
              "</style>\n",
              "<table border=\"1\" class=\"dataframe\">\n",
              "  <thead>\n",
              "    <tr style=\"text-align: right;\">\n",
              "      <th></th>\n",
              "      <th>BeneID</th>\n",
              "      <th>Provider</th>\n",
              "      <th>ClaimID</th>\n",
              "      <th>InscClaimAmtReimbursed</th>\n",
              "      <th>AttendingPhysician</th>\n",
              "      <th>DeductibleAmtPaid</th>\n",
              "      <th>PotentialFraud</th>\n",
              "      <th>Gender</th>\n",
              "      <th>Race</th>\n",
              "      <th>NoOfMonths_PartACov</th>\n",
              "      <th>NoOfMonths_PartBCov</th>\n",
              "      <th>IPAnnualReimbursementAmt</th>\n",
              "      <th>IPAnnualDeductibleAmt</th>\n",
              "      <th>OPAnnualReimbursementAmt</th>\n",
              "      <th>OPAnnualDeductibleAmt</th>\n",
              "    </tr>\n",
              "  </thead>\n",
              "  <tbody>\n",
              "    <tr>\n",
              "      <th>0</th>\n",
              "      <td>BENE100000</td>\n",
              "      <td>PRV57172</td>\n",
              "      <td>CLM126832</td>\n",
              "      <td>50</td>\n",
              "      <td>PHY383401</td>\n",
              "      <td>0.0</td>\n",
              "      <td>1</td>\n",
              "      <td>1</td>\n",
              "      <td>1</td>\n",
              "      <td>12</td>\n",
              "      <td>12</td>\n",
              "      <td>0</td>\n",
              "      <td>0</td>\n",
              "      <td>120</td>\n",
              "      <td>30</td>\n",
              "    </tr>\n",
              "    <tr>\n",
              "      <th>1</th>\n",
              "      <td>BENE100000</td>\n",
              "      <td>PRV57172</td>\n",
              "      <td>CLM351838</td>\n",
              "      <td>70</td>\n",
              "      <td>PHY370909</td>\n",
              "      <td>0.0</td>\n",
              "      <td>1</td>\n",
              "      <td>1</td>\n",
              "      <td>1</td>\n",
              "      <td>12</td>\n",
              "      <td>12</td>\n",
              "      <td>0</td>\n",
              "      <td>0</td>\n",
              "      <td>120</td>\n",
              "      <td>30</td>\n",
              "    </tr>\n",
              "    <tr>\n",
              "      <th>2</th>\n",
              "      <td>BENE100001</td>\n",
              "      <td>PRV52145</td>\n",
              "      <td>CLM626521</td>\n",
              "      <td>10</td>\n",
              "      <td>PHY430032</td>\n",
              "      <td>0.0</td>\n",
              "      <td>0</td>\n",
              "      <td>1</td>\n",
              "      <td>1</td>\n",
              "      <td>12</td>\n",
              "      <td>12</td>\n",
              "      <td>0</td>\n",
              "      <td>0</td>\n",
              "      <td>2530</td>\n",
              "      <td>540</td>\n",
              "    </tr>\n",
              "    <tr>\n",
              "      <th>3</th>\n",
              "      <td>BENE100001</td>\n",
              "      <td>PRV54683</td>\n",
              "      <td>CLM633318</td>\n",
              "      <td>100</td>\n",
              "      <td>PHY408282</td>\n",
              "      <td>0.0</td>\n",
              "      <td>0</td>\n",
              "      <td>1</td>\n",
              "      <td>1</td>\n",
              "      <td>12</td>\n",
              "      <td>12</td>\n",
              "      <td>0</td>\n",
              "      <td>0</td>\n",
              "      <td>2530</td>\n",
              "      <td>540</td>\n",
              "    </tr>\n",
              "    <tr>\n",
              "      <th>4</th>\n",
              "      <td>BENE100001</td>\n",
              "      <td>PRV54890</td>\n",
              "      <td>CLM332544</td>\n",
              "      <td>90</td>\n",
              "      <td>PHY343317</td>\n",
              "      <td>0.0</td>\n",
              "      <td>0</td>\n",
              "      <td>1</td>\n",
              "      <td>1</td>\n",
              "      <td>12</td>\n",
              "      <td>12</td>\n",
              "      <td>0</td>\n",
              "      <td>0</td>\n",
              "      <td>2530</td>\n",
              "      <td>540</td>\n",
              "    </tr>\n",
              "  </tbody>\n",
              "</table>\n",
              "</div>"
            ],
            "text/plain": [
              "       BeneID  Provider    ClaimID  InscClaimAmtReimbursed AttendingPhysician   \n",
              "0  BENE100000  PRV57172  CLM126832                      50          PHY383401  \\\n",
              "1  BENE100000  PRV57172  CLM351838                      70          PHY370909   \n",
              "2  BENE100001  PRV52145  CLM626521                      10          PHY430032   \n",
              "3  BENE100001  PRV54683  CLM633318                     100          PHY408282   \n",
              "4  BENE100001  PRV54890  CLM332544                      90          PHY343317   \n",
              "\n",
              "   DeductibleAmtPaid  PotentialFraud  Gender  Race  NoOfMonths_PartACov   \n",
              "0                0.0               1       1     1                   12  \\\n",
              "1                0.0               1       1     1                   12   \n",
              "2                0.0               0       1     1                   12   \n",
              "3                0.0               0       1     1                   12   \n",
              "4                0.0               0       1     1                   12   \n",
              "\n",
              "   NoOfMonths_PartBCov  IPAnnualReimbursementAmt  IPAnnualDeductibleAmt   \n",
              "0                   12                         0                      0  \\\n",
              "1                   12                         0                      0   \n",
              "2                   12                         0                      0   \n",
              "3                   12                         0                      0   \n",
              "4                   12                         0                      0   \n",
              "\n",
              "   OPAnnualReimbursementAmt  OPAnnualDeductibleAmt  \n",
              "0                       120                     30  \n",
              "1                       120                     30  \n",
              "2                      2530                    540  \n",
              "3                      2530                    540  \n",
              "4                      2530                    540  "
            ]
          },
          "execution_count": 6,
          "metadata": {},
          "output_type": "execute_result"
        }
      ],
      "source": [
        "df1 = inpatients[['BeneID', 'ClaimID', 'Provider', 'InscClaimAmtReimbursed', 'AttendingPhysician','DeductibleAmtPaid']]\n",
        "df2 = outpatients[['BeneID', 'ClaimID', 'Provider', 'InscClaimAmtReimbursed', 'AttendingPhysician', 'DeductibleAmtPaid']]\n",
        "df3 = beneficiaries[['BeneID', 'Gender', 'Race', 'NoOfMonths_PartACov', 'NoOfMonths_PartBCov', 'IPAnnualReimbursementAmt', 'IPAnnualDeductibleAmt', 'OPAnnualReimbursementAmt', 'OPAnnualDeductibleAmt']]\n",
        "\n",
        "\n",
        "df = pd.concat([df1, df2])\n",
        "\n",
        "df = df.set_index('Provider').join(labels.set_index('Provider')).reset_index().set_index('BeneID').join(df3.set_index('BeneID')).reset_index()\n",
        "\n",
        "df['PotentialFraud'] = df['PotentialFraud'].replace(\"No\", 0).replace(\"Yes\", 1).astype(int)\n",
        "\n",
        "df.head()"
      ]
    },
    {
      "cell_type": "code",
      "execution_count": null,
      "metadata": {
        "execution": {
          "iopub.execute_input": "2023-11-27T05:43:13.550066Z",
          "iopub.status.busy": "2023-11-27T05:43:13.549765Z",
          "iopub.status.idle": "2023-11-27T05:43:14.063814Z",
          "shell.execute_reply": "2023-11-27T05:43:14.062838Z",
          "shell.execute_reply.started": "2023-11-27T05:43:13.550040Z"
        },
        "trusted": true,
        "id": "6g0jfTfhcikr",
        "outputId": "d0d417b6-1143-4dd3-93e3-7216f5c4344d"
      },
      "outputs": [
        {
          "data": {
            "text/plain": [
              "311001.0"
            ]
          },
          "execution_count": 7,
          "metadata": {},
          "output_type": "execute_result"
        }
      ],
      "source": [
        "df['AttendingPhysician'].str.removeprefix(\"PHY\").astype(float).min()"
      ]
    },
    {
      "cell_type": "code",
      "execution_count": null,
      "metadata": {
        "execution": {
          "iopub.execute_input": "2023-11-27T05:43:14.066037Z",
          "iopub.status.busy": "2023-11-27T05:43:14.065628Z",
          "iopub.status.idle": "2023-11-27T05:43:15.108592Z",
          "shell.execute_reply": "2023-11-27T05:43:15.107586Z",
          "shell.execute_reply.started": "2023-11-27T05:43:14.065991Z"
        },
        "trusted": true,
        "id": "nsD3opLBcikr",
        "outputId": "8aadbfed-2c3e-4012-8e7c-51689f870e05"
      },
      "outputs": [
        {
          "data": {
            "text/html": [
              "<div>\n",
              "<style scoped>\n",
              "    .dataframe tbody tr th:only-of-type {\n",
              "        vertical-align: middle;\n",
              "    }\n",
              "\n",
              "    .dataframe tbody tr th {\n",
              "        vertical-align: top;\n",
              "    }\n",
              "\n",
              "    .dataframe thead th {\n",
              "        text-align: right;\n",
              "    }\n",
              "</style>\n",
              "<table border=\"1\" class=\"dataframe\">\n",
              "  <thead>\n",
              "    <tr style=\"text-align: right;\">\n",
              "      <th></th>\n",
              "      <th>BeneID</th>\n",
              "      <th>Provider</th>\n",
              "      <th>ClaimID</th>\n",
              "      <th>InscClaimAmtReimbursed</th>\n",
              "      <th>AttendingPhysician</th>\n",
              "      <th>DeductibleAmtPaid</th>\n",
              "      <th>PotentialFraud</th>\n",
              "      <th>Gender</th>\n",
              "      <th>Race</th>\n",
              "      <th>NoOfMonths_PartACov</th>\n",
              "      <th>NoOfMonths_PartBCov</th>\n",
              "      <th>IPAnnualReimbursementAmt</th>\n",
              "      <th>IPAnnualDeductibleAmt</th>\n",
              "      <th>OPAnnualReimbursementAmt</th>\n",
              "      <th>OPAnnualDeductibleAmt</th>\n",
              "    </tr>\n",
              "  </thead>\n",
              "  <tbody>\n",
              "    <tr>\n",
              "      <th>0</th>\n",
              "      <td>BENE100000</td>\n",
              "      <td>1057172</td>\n",
              "      <td>CLM126832</td>\n",
              "      <td>50</td>\n",
              "      <td>2383401</td>\n",
              "      <td>0.0</td>\n",
              "      <td>1</td>\n",
              "      <td>1</td>\n",
              "      <td>1</td>\n",
              "      <td>12</td>\n",
              "      <td>12</td>\n",
              "      <td>0</td>\n",
              "      <td>0</td>\n",
              "      <td>120</td>\n",
              "      <td>30</td>\n",
              "    </tr>\n",
              "    <tr>\n",
              "      <th>1</th>\n",
              "      <td>BENE100000</td>\n",
              "      <td>1057172</td>\n",
              "      <td>CLM351838</td>\n",
              "      <td>70</td>\n",
              "      <td>2370909</td>\n",
              "      <td>0.0</td>\n",
              "      <td>1</td>\n",
              "      <td>1</td>\n",
              "      <td>1</td>\n",
              "      <td>12</td>\n",
              "      <td>12</td>\n",
              "      <td>0</td>\n",
              "      <td>0</td>\n",
              "      <td>120</td>\n",
              "      <td>30</td>\n",
              "    </tr>\n",
              "    <tr>\n",
              "      <th>2</th>\n",
              "      <td>BENE100001</td>\n",
              "      <td>1052145</td>\n",
              "      <td>CLM626521</td>\n",
              "      <td>10</td>\n",
              "      <td>2430032</td>\n",
              "      <td>0.0</td>\n",
              "      <td>0</td>\n",
              "      <td>1</td>\n",
              "      <td>1</td>\n",
              "      <td>12</td>\n",
              "      <td>12</td>\n",
              "      <td>0</td>\n",
              "      <td>0</td>\n",
              "      <td>2530</td>\n",
              "      <td>540</td>\n",
              "    </tr>\n",
              "    <tr>\n",
              "      <th>3</th>\n",
              "      <td>BENE100001</td>\n",
              "      <td>1054683</td>\n",
              "      <td>CLM633318</td>\n",
              "      <td>100</td>\n",
              "      <td>2408282</td>\n",
              "      <td>0.0</td>\n",
              "      <td>0</td>\n",
              "      <td>1</td>\n",
              "      <td>1</td>\n",
              "      <td>12</td>\n",
              "      <td>12</td>\n",
              "      <td>0</td>\n",
              "      <td>0</td>\n",
              "      <td>2530</td>\n",
              "      <td>540</td>\n",
              "    </tr>\n",
              "    <tr>\n",
              "      <th>4</th>\n",
              "      <td>BENE100001</td>\n",
              "      <td>1054890</td>\n",
              "      <td>CLM332544</td>\n",
              "      <td>90</td>\n",
              "      <td>2343317</td>\n",
              "      <td>0.0</td>\n",
              "      <td>0</td>\n",
              "      <td>1</td>\n",
              "      <td>1</td>\n",
              "      <td>12</td>\n",
              "      <td>12</td>\n",
              "      <td>0</td>\n",
              "      <td>0</td>\n",
              "      <td>2530</td>\n",
              "      <td>540</td>\n",
              "    </tr>\n",
              "    <tr>\n",
              "      <th>...</th>\n",
              "      <td>...</td>\n",
              "      <td>...</td>\n",
              "      <td>...</td>\n",
              "      <td>...</td>\n",
              "      <td>...</td>\n",
              "      <td>...</td>\n",
              "      <td>...</td>\n",
              "      <td>...</td>\n",
              "      <td>...</td>\n",
              "      <td>...</td>\n",
              "      <td>...</td>\n",
              "      <td>...</td>\n",
              "      <td>...</td>\n",
              "      <td>...</td>\n",
              "      <td>...</td>\n",
              "    </tr>\n",
              "    <tr>\n",
              "      <th>558206</th>\n",
              "      <td>BENE99999</td>\n",
              "      <td>1054670</td>\n",
              "      <td>CLM475422</td>\n",
              "      <td>80</td>\n",
              "      <td>2351000</td>\n",
              "      <td>0.0</td>\n",
              "      <td>0</td>\n",
              "      <td>2</td>\n",
              "      <td>1</td>\n",
              "      <td>12</td>\n",
              "      <td>12</td>\n",
              "      <td>0</td>\n",
              "      <td>0</td>\n",
              "      <td>1270</td>\n",
              "      <td>690</td>\n",
              "    </tr>\n",
              "    <tr>\n",
              "      <th>558207</th>\n",
              "      <td>BENE99999</td>\n",
              "      <td>1054670</td>\n",
              "      <td>CLM750563</td>\n",
              "      <td>50</td>\n",
              "      <td>2359641</td>\n",
              "      <td>0.0</td>\n",
              "      <td>0</td>\n",
              "      <td>2</td>\n",
              "      <td>1</td>\n",
              "      <td>12</td>\n",
              "      <td>12</td>\n",
              "      <td>0</td>\n",
              "      <td>0</td>\n",
              "      <td>1270</td>\n",
              "      <td>690</td>\n",
              "    </tr>\n",
              "    <tr>\n",
              "      <th>558208</th>\n",
              "      <td>BENE99999</td>\n",
              "      <td>1055510</td>\n",
              "      <td>CLM187739</td>\n",
              "      <td>60</td>\n",
              "      <td>2318212</td>\n",
              "      <td>0.0</td>\n",
              "      <td>0</td>\n",
              "      <td>2</td>\n",
              "      <td>1</td>\n",
              "      <td>12</td>\n",
              "      <td>12</td>\n",
              "      <td>0</td>\n",
              "      <td>0</td>\n",
              "      <td>1270</td>\n",
              "      <td>690</td>\n",
              "    </tr>\n",
              "    <tr>\n",
              "      <th>558209</th>\n",
              "      <td>BENE99999</td>\n",
              "      <td>1055826</td>\n",
              "      <td>CLM359214</td>\n",
              "      <td>80</td>\n",
              "      <td>2341548</td>\n",
              "      <td>0.0</td>\n",
              "      <td>0</td>\n",
              "      <td>2</td>\n",
              "      <td>1</td>\n",
              "      <td>12</td>\n",
              "      <td>12</td>\n",
              "      <td>0</td>\n",
              "      <td>0</td>\n",
              "      <td>1270</td>\n",
              "      <td>690</td>\n",
              "    </tr>\n",
              "    <tr>\n",
              "      <th>558210</th>\n",
              "      <td>BENE99999</td>\n",
              "      <td>1057336</td>\n",
              "      <td>CLM591853</td>\n",
              "      <td>30</td>\n",
              "      <td>2422310</td>\n",
              "      <td>0.0</td>\n",
              "      <td>0</td>\n",
              "      <td>2</td>\n",
              "      <td>1</td>\n",
              "      <td>12</td>\n",
              "      <td>12</td>\n",
              "      <td>0</td>\n",
              "      <td>0</td>\n",
              "      <td>1270</td>\n",
              "      <td>690</td>\n",
              "    </tr>\n",
              "  </tbody>\n",
              "</table>\n",
              "<p>558211 rows × 15 columns</p>\n",
              "</div>"
            ],
            "text/plain": [
              "            BeneID  Provider    ClaimID  InscClaimAmtReimbursed   \n",
              "0       BENE100000   1057172  CLM126832                      50  \\\n",
              "1       BENE100000   1057172  CLM351838                      70   \n",
              "2       BENE100001   1052145  CLM626521                      10   \n",
              "3       BENE100001   1054683  CLM633318                     100   \n",
              "4       BENE100001   1054890  CLM332544                      90   \n",
              "...            ...       ...        ...                     ...   \n",
              "558206   BENE99999   1054670  CLM475422                      80   \n",
              "558207   BENE99999   1054670  CLM750563                      50   \n",
              "558208   BENE99999   1055510  CLM187739                      60   \n",
              "558209   BENE99999   1055826  CLM359214                      80   \n",
              "558210   BENE99999   1057336  CLM591853                      30   \n",
              "\n",
              "        AttendingPhysician  DeductibleAmtPaid  PotentialFraud  Gender  Race   \n",
              "0                  2383401                0.0               1       1     1  \\\n",
              "1                  2370909                0.0               1       1     1   \n",
              "2                  2430032                0.0               0       1     1   \n",
              "3                  2408282                0.0               0       1     1   \n",
              "4                  2343317                0.0               0       1     1   \n",
              "...                    ...                ...             ...     ...   ...   \n",
              "558206             2351000                0.0               0       2     1   \n",
              "558207             2359641                0.0               0       2     1   \n",
              "558208             2318212                0.0               0       2     1   \n",
              "558209             2341548                0.0               0       2     1   \n",
              "558210             2422310                0.0               0       2     1   \n",
              "\n",
              "        NoOfMonths_PartACov  NoOfMonths_PartBCov  IPAnnualReimbursementAmt   \n",
              "0                        12                   12                         0  \\\n",
              "1                        12                   12                         0   \n",
              "2                        12                   12                         0   \n",
              "3                        12                   12                         0   \n",
              "4                        12                   12                         0   \n",
              "...                     ...                  ...                       ...   \n",
              "558206                   12                   12                         0   \n",
              "558207                   12                   12                         0   \n",
              "558208                   12                   12                         0   \n",
              "558209                   12                   12                         0   \n",
              "558210                   12                   12                         0   \n",
              "\n",
              "        IPAnnualDeductibleAmt  OPAnnualReimbursementAmt  OPAnnualDeductibleAmt  \n",
              "0                           0                       120                     30  \n",
              "1                           0                       120                     30  \n",
              "2                           0                      2530                    540  \n",
              "3                           0                      2530                    540  \n",
              "4                           0                      2530                    540  \n",
              "...                       ...                       ...                    ...  \n",
              "558206                      0                      1270                    690  \n",
              "558207                      0                      1270                    690  \n",
              "558208                      0                      1270                    690  \n",
              "558209                      0                      1270                    690  \n",
              "558210                      0                      1270                    690  \n",
              "\n",
              "[558211 rows x 15 columns]"
            ]
          },
          "execution_count": 8,
          "metadata": {},
          "output_type": "execute_result"
        }
      ],
      "source": [
        "df['Provider'] = df['Provider'].str.removeprefix(\"PRV\").astype(int) + 1_000_000\n",
        "df['AttendingPhysician'] = df['AttendingPhysician'].str.removeprefix(\"PHY\").fillna(0).astype(int) + 2_000_000\n",
        "df"
      ]
    },
    {
      "cell_type": "code",
      "execution_count": null,
      "metadata": {
        "execution": {
          "iopub.execute_input": "2023-11-27T05:43:15.110033Z",
          "iopub.status.busy": "2023-11-27T05:43:15.109702Z",
          "iopub.status.idle": "2023-11-27T05:43:15.587364Z",
          "shell.execute_reply": "2023-11-27T05:43:15.586388Z",
          "shell.execute_reply.started": "2023-11-27T05:43:15.110006Z"
        },
        "trusted": true,
        "id": "TMlCw5CYcikr"
      },
      "outputs": [],
      "source": [
        "df['BeneID'] = df['BeneID'].str.removeprefix(\"BENE\").astype(int) + 3_000_000"
      ]
    },
    {
      "cell_type": "code",
      "execution_count": null,
      "metadata": {
        "execution": {
          "iopub.execute_input": "2023-11-27T05:43:15.591795Z",
          "iopub.status.busy": "2023-11-27T05:43:15.590940Z",
          "iopub.status.idle": "2023-11-27T05:43:16.128501Z",
          "shell.execute_reply": "2023-11-27T05:43:16.127526Z",
          "shell.execute_reply.started": "2023-11-27T05:43:15.591758Z"
        },
        "trusted": true,
        "id": "FprlElHmcikr"
      },
      "outputs": [],
      "source": [
        "df['ClaimID'] = df['ClaimID'].str.removeprefix(\"CLM\").astype(int) + 4_000_000"
      ]
    },
    {
      "cell_type": "code",
      "execution_count": null,
      "metadata": {
        "execution": {
          "iopub.execute_input": "2023-11-27T05:43:16.130155Z",
          "iopub.status.busy": "2023-11-27T05:43:16.129763Z",
          "iopub.status.idle": "2023-11-27T05:43:17.633717Z",
          "shell.execute_reply": "2023-11-27T05:43:17.632757Z",
          "shell.execute_reply.started": "2023-11-27T05:43:16.130120Z"
        },
        "trusted": true,
        "id": "fg-4w_4_cikr"
      },
      "outputs": [],
      "source": [
        "source = 'Provider'\n",
        "target = 'AttendingPhysician'\n",
        "\n",
        "G = nx.from_pandas_edgelist(df, source=source, target = target)"
      ]
    },
    {
      "cell_type": "code",
      "execution_count": null,
      "metadata": {
        "execution": {
          "iopub.execute_input": "2023-11-27T05:43:17.635546Z",
          "iopub.status.busy": "2023-11-27T05:43:17.635144Z",
          "iopub.status.idle": "2023-11-27T05:43:41.808821Z",
          "shell.execute_reply": "2023-11-27T05:43:41.807849Z",
          "shell.execute_reply.started": "2023-11-27T05:43:17.635493Z"
        },
        "trusted": true,
        "id": "P7DMajRmciks",
        "outputId": "8aa42a8b-01af-44b6-c24a-0edbbb4c6901"
      },
      "outputs": [
        {
          "data": {
            "text/html": [
              "        <script type=\"text/javascript\">\n",
              "        window.PlotlyConfig = {MathJaxConfig: 'local'};\n",
              "        if (window.MathJax && window.MathJax.Hub && window.MathJax.Hub.Config) {window.MathJax.Hub.Config({SVG: {font: \"STIX-Web\"}});}\n",
              "        if (typeof require !== 'undefined') {\n",
              "        require.undef(\"plotly\");\n",
              "        requirejs.config({\n",
              "            paths: {\n",
              "                'plotly': ['https://cdn.plot.ly/plotly-2.25.2.min']\n",
              "            }\n",
              "        });\n",
              "        require(['plotly'], function(Plotly) {\n",
              "            window._Plotly = Plotly;\n",
              "        });\n",
              "        }\n",
              "        </script>\n",
              "        "
            ]
          },
          "metadata": {},
          "output_type": "display_data"
        },
        {
          "data": {
            "text/html": [
              "<div>                            <div id=\"726fccc8-f12d-424d-bee0-04602d4042da\" class=\"plotly-graph-div\" style=\"height:525px; width:100%;\"></div>            <script type=\"text/javascript\">                require([\"plotly\"], function(Plotly) {                    window.PLOTLYENV=window.PLOTLYENV || {};                                    if (document.getElementById(\"726fccc8-f12d-424d-bee0-04602d4042da\")) {                    Plotly.newPlot(                        \"726fccc8-f12d-424d-bee0-04602d4042da\",                        [{\"hoverinfo\":\"none\",\"line\":{\"color\":\"#010203\",\"width\":0.5},\"mode\":\"lines\",\"x\":[0.6577054858207703,0.907243549823761,null,0.444425106048584,0.9196538925170898,null,0.444425106048584,0.22896580398082733,null,0.444425106048584,0.9250686168670654,null,0.444425106048584,0.37046316266059875,null,0.444425106048584,0.397879421710968,null,0.444425106048584,0.6811182498931885,null,0.38087692856788635,0.10608872771263123,null,0.8436762690544128,0.4491044282913208,null,0.10043306648731232,0.13323822617530823,null,0.10043306648731232,0.35753384232521057,null,0.6125257015228271,0.8933253288269043,null,0.5832262635231018,0.7723603844642639,null,0.4673409163951874,0.09949800372123718,null,0.2643420398235321,0.7555356621742249,null,0.7669101357460022,0.8213907480239868,null,0.7669101357460022,0.8213271498680115,null,0.831242561340332,0.16189219057559967,null,0.15402823686599731,0.4820510149002075,null,0.5872092247009277,0.7589802145957947,null,0.44725751876831055,0.35113221406936646,null,0.4218766987323761,0.6713662147521973,null,0.4218766987323761,0.8352855443954468,null,0.15155300498008728,0.5644297003746033,null,0.06830663979053497,0.2984065115451813,null,0.06830663979053497,0.3505573272705078,null,0.06830663979053497,0.6729727983474731,null,0.6445968747138977,0.578679621219635,null,0.6445968747138977,0.5038716197013855,null,0.6445968747138977,0.5594205856323242,null,0.6445968747138977,0.6507499814033508,null,0.6445968747138977,0.23661786317825317,null,0.7650106549263,0.47619569301605225,null,0.29686135053634644,0.8116677403450012,null,0.29686135053634644,0.7997485399246216,null,0.3913980722427368,0.7007253170013428,null,0.3913980722427368,0.34032773971557617,null,0.49568620324134827,0.49011459946632385,null,0.49568620324134827,0.3548698425292969,null,0.8013109564781189,0.14247146248817444,null,0.8013109564781189,0.9652368426322937,null,0.8013109564781189,0.11754160374403,null,0.8013109564781189,0.00779573991894722,null,0.8013109564781189,0.16505929827690125,null,0.8013109564781189,0.9335024952888489,null,0.8013109564781189,0.5340235233306885,null,0.49995091557502747,0.6317712068557739,null,0.6857890486717224,0.6739062666893005,null,0.6857890486717224,0.29736876487731934,null,0.6688337326049805,0.9794616103172302,null,0.9116796255111694,0.060585442930459976,null,0.983327329158783,0.7712811231613159,null,0.7174392938613892,0.2145567238330841,null,0.7174392938613892,0.9914138913154602,null,0.814775824546814,0.5036919116973877,null,0.814775824546814,0.9583031535148621,null,0.814775824546814,0.5164090394973755,null,0.814775824546814,0.15373095870018005,null,0.938291609287262,0.23061352968215942,null,0.938291609287262,0.6634104251861572,null,0.45256179571151733,0.8216687440872192,null,0.4152268171310425,0.4535185694694519,null,0.4152268171310425,0.04384233430027962,null,0.4152268171310425,0.12961366772651672,null,0.4800322651863098,0.4879339039325714,null,0.4800322651863098,0.9409108757972717,null,0.4800322651863098,0.08664610981941223,null,0.4800322651863098,0.3214176297187805,null,0.4800322651863098,0.6050679683685303,null,0.4800322651863098,0.6017813682556152,null,0.4800322651863098,0.5089377164840698,null,0.6825566291809082,0.2650647759437561,null,0.6825566291809082,0.9251635670661926,null,0.038816750049591064,0.9710299968719482,null,0.038816750049591064,0.5233299136161804,null,0.11946394294500351,0.9054175019264221,null,0.11946394294500351,0.6302443146705627,null,0.8008386492729187,0.3677658140659332,null,0.8008386492729187,0.8861259818077087,null,0.3558785617351532,0.049096494913101196,null,0.3558785617351532,0.5352508425712585,null,0.3558785617351532,0.4281836152076721,null,0.3558785617351532,0.833422064781189,null,0.01564580202102661,0.1552707701921463,null,0.01564580202102661,0.2138472944498062,null,0.908429741859436,0.9046861529350281,null,0.7853192687034607,0.5151375532150269,null,0.7853192687034607,0.18622256815433502,null,0.6956418752670288,0.9062294960021973,null,0.6383406519889832,0.7561256289482117,null,0.13075663149356842,0.9089102745056152,null,0.13075663149356842,0.45388689637184143,null,0.7498833537101746,0.43746432662010193,null,0.1273290514945984,0.7034723162651062,null,0.20070461928844452,0.9753981828689575,null,0.1373331993818283,0.12337135523557663,null,0.8453958630561829,0.9051434993743896,null,0.8453958630561829,0.6569474339485168,null,0.9757319092750549,0.7788191437721252,null,0.4433189928531647,0.5286697745323181,null,0.7791352868080139,0.09949641674757004,null,0.9576770663261414,0.47727298736572266,null,0.7410231232643127,0.7243260741233826,null,0.7410231232643127,0.8539062738418579,null,0.6407857537269592,0.7492780685424805,null,0.5014602541923523,0.023844830691814423,null,0.8485127687454224,0.12737363576889038,null,0.5681406259536743,0.5753174424171448,null,0.2279195338487625,0.7839892506599426,null,0.9253230094909668,0.289457768201828,null,0.9253230094909668,0.06750498712062836,null,0.6902313232421875,0.22400711476802826,null,0.42712488770484924,0.6658381819725037,null,0.6275442838668823,0.5854777693748474,null,0.6275442838668823,0.15427608788013458,null,0.42090511322021484,0.42229992151260376,null,0.1528915911912918,0.70207679271698,null,0.1528915911912918,0.15463677048683167,null,0.6395792961120605,0.45361462235450745,null,0.13616210222244263,0.5876192450523376,null,0.13616210222244263,0.15655985474586487,null,0.3344877362251282,0.5475035905838013,null,0.3344877362251282,0.7493121027946472,null,0.030423076823353767,0.3929932415485382,null,0.4677896499633789,0.3803456723690033,null,0.4677896499633789,0.6456778645515442,null,0.4736902713775635,0.7648961544036865,null,0.19981777667999268,0.1180785670876503,null,0.3940940201282501,0.7399162650108337,null,0.7229960560798645,0.6406496167182922,null,0.7229960560798645,0.47863224148750305,null,0.7229960560798645,0.8521472811698914,null,0.7229960560798645,0.014082755893468857,null,0.7229960560798645,0.784903883934021,null,0.7229960560798645,0.9169527888298035,null,0.7229960560798645,0.30349114537239075,null,0.7229960560798645,0.3204541802406311,null,0.9489822387695312,0.8774957656860352,null,0.9044464826583862,0.9005329608917236,null,0.9044464826583862,0.06653935462236404,null,0.9044464826583862,0.5334015488624573,null,0.8361889123916626,0.05606110021471977,null,0.16381923854351044,0.76607346534729,null,0.32129159569740295,0.5844186544418335,null,0.8729897141456604,0.32089123129844666,null,0.2275083065032959,0.7793110609054565,null,0.2275083065032959,0.3153207302093506,null,0.2275083065032959,0.015931053087115288,null,0.2682914733886719,0.8492283821105957,null,0.9873592853546143,0.5313478112220764,null,0.9873592853546143,0.012943929061293602,null,0.09659776091575623,0.11568030714988708,null,0.09659776091575623,0.5309895873069763,null,0.599291980266571,0.2875596582889557,null,0.4205997884273529,0.15201839804649353,null,0.4561988115310669,0.652653157711029,null,0.08258580416440964,0.15607212483882904,null,0.1770939975976944,0.2427154928445816,null,0.4003918170928955,0.5263717174530029,null,0.4003918170928955,0.5554693341255188,null,0.4003918170928955,0.9303752779960632,null,0.4003918170928955,0.15749850869178772,null,0.4003918170928955,0.046560704708099365,null,0.4003918170928955,0.14209230244159698,null,0.0604824423789978,0.8647550940513611,null,0.6549970507621765,0.37111762166023254,null,0.5704296231269836,0.366060733795166,null,0.848984956741333,0.09919410943984985,null,0.848984956741333,0.26829850673675537,null,0.848984956741333,0.12645144760608673,null,0.848984956741333,0.7216231822967529,null,0.2417812943458557,0.053088728338479996,null,0.10253565013408661,0.8795796036720276,null,0.5245779752731323,0.8034793734550476,null,0.5245779752731323,0.7917084693908691,null,0.5245779752731323,0.35939300060272217,null,0.269081175327301,0.19940558075904846,null,0.7643813490867615,0.7513495087623596,null,0.7643813490867615,0.65535968542099,null,0.4955906271934509,0.6530333757400513,null,0.4955906271934509,0.3013351559638977,null,0.10636360943317413,0.8786197900772095,null,0.08709210902452469,0.30464547872543335,null,0.08709210902452469,0.9541635513305664,null,0.5902108550071716,0.9583630561828613,null,0.13181214034557343,0.2257181704044342,null,0.13181214034557343,0.4936066269874573,null,0.4675898253917694,0.3816767632961273,null,0.42895108461380005,0.14713303744792938,null,0.42895108461380005,0.3127346932888031,null,0.49829426407814026,0.0017216260312125087,null,0.8049027323722839,0.48096415400505066,null,0.8049027323722839,0.34032881259918213,null,0.8049027323722839,0.30358076095581055,null,0.4769650101661682,0.7877376675605774,null,0.4769650101661682,0.587451696395874,null,0.4769650101661682,0.0814262330532074,null,0.5022820830345154,0.17248931527137756,null,0.7909039258956909,0.0005752248107455671,null,0.7909039258956909,0.6717443466186523,null,0.3421069085597992,0.4059508740901947,null,0.3421069085597992,0.14709237217903137,null,0.7179501056671143,0.273852676153183,null,0.7179501056671143,0.6764001846313477,null,0.5640985369682312,0.5156931281089783,null,0.7992345690727234,0.44984734058380127,null,0.7992345690727234,0.5401611924171448,null,0.7992345690727234,0.7933474779129028,null,0.7992345690727234,0.43025365471839905,null,0.7868458032608032,0.597905695438385,null,0.7868458032608032,0.6394572854042053,null,0.08429919928312302,0.07410488277673721,null,0.08429919928312302,0.23210065066814423,null,0.08429919928312302,0.5128215551376343,null,0.08429919928312302,0.283329576253891,null,0.08429919928312302,0.997546911239624,null,0.7345361709594727,0.4330175220966339,null,0.3306024968624115,0.04819906875491142,null,0.3306024968624115,0.06004355102777481,null,0.9896811842918396,0.43225395679473877,null,0.6440553069114685,0.43385815620422363,null,0.8380312919616699,0.19958598911762238,null,0.8380312919616699,0.948395311832428,null,0.8380312919616699,0.16815508902072906,null,0.8380312919616699,0.7242089509963989,null,0.8380312919616699,0.656324565410614,null,0.8380312919616699,0.7421082854270935,null,0.8380312919616699,0.3947772979736328,null,0.8380312919616699,0.09068472683429718,null,0.8380312919616699,0.7189940810203552,null,0.22064223885536194,0.5401322245597839,null,0.22064223885536194,0.6656212210655212,null,0.7282015085220337,0.07178784906864166,null,0.4610251486301422,0.7570170760154724,null,0.4610251486301422,0.5567878484725952,null,0.36288198828697205,0.6892469525337219,null,0.9432951211929321,0.00473713269457221,null,0.9432951211929321,0.4043138027191162,null,0.676698625087738,0.2577666938304901,null,0.600367546081543,0.8056818842887878,null,0.41962793469429016,0.4736684560775757,null,0.7389461994171143,0.8802378177642822,null,0.3541117310523987,0.7009329199790955,null,0.06671775877475739,0.07277464866638184,null,0.36849966645240784,0.5997353792190552,null,0.35878270864486694,0.6269888281822205,null,0.4892023205757141,0.8475931882858276,null,0.4892023205757141,0.2831498086452484,null,0.4892023205757141,0.0049369377084076405,null,0.0010919723426923156,0.19698312878608704,null,0.378849595785141,0.11634251475334167,null,0.378849595785141,0.78885418176651,null,0.8542118668556213,0.20842485129833221,null,0.6383241415023804,0.3909863829612732,null,0.37500256299972534,0.12012743949890137,null,0.5171249508857727,0.6683524250984192,null,0.5171249508857727,0.11993821710348129,null,0.985886812210083,0.4681791663169861,null,0.9953235387802124,0.8453377485275269,null,0.9764723777770996,0.6614965200424194,null,0.9764723777770996,0.241080641746521,null,0.537007749080658,0.3324359655380249,null,0.537007749080658,0.7469658255577087,null,0.537007749080658,0.7170183062553406,null,0.537007749080658,0.5320698022842407,null,0.537007749080658,0.11978472024202347,null,0.9071509838104248,0.67844158411026,null,0.5189337730407715,0.2859131097793579,null,0.898496150970459,0.18125225603580475,null,0.9803761839866638,0.15353524684906006,null,0.5725812911987305,0.4987882673740387,null,0.2798980474472046,0.4488394260406494,null,0.03939640522003174,0.01238961797207594,null,0.1597403734922409,0.12778840959072113,null,0.1597403734922409,0.3906790614128113,null,0.5237381458282471,0.5492907762527466,null,0.08718156814575195,0.7199768424034119,null,0.30661287903785706,0.5896106958389282,null,0.5089089274406433,0.4474846422672272,null,0.7882779240608215,0.8000081777572632,null,0.9573352932929993,0.7333052158355713,null,0.032413776963949203,0.4565284550189972,null,0.13970352709293365,0.5198857188224792,null,0.020926838740706444,0.3178747296333313,null,0.020926838740706444,0.3057010769844055,null,0.6469836235046387,0.9181798100471497,null,0.7869619727134705,0.4552535116672516,null,0.7018986344337463,0.21636012196540833,null,0.5969690680503845,0.6951536536216736,null,0.8773762583732605,0.8877373933792114,null,0.16252627968788147,0.8007659316062927,null,0.6119241714477539,0.3626362085342407,null,0.1969568282365799,0.46142444014549255,null,0.46142444014549255,0.7164058089256287,null,0.047859273850917816,0.08109362423419952,null,0.047859273850917816,0.9891422390937805,null,0.3497908115386963,0.9585369229316711,null,0.12860892713069916,0.9661761522293091,null,0.17650973796844482,0.7679440975189209,null,0.17650973796844482,0.2833353877067566,null,0.2314860075712204,0.685057520866394,null,0.2314860075712204,0.2923317551612854,null,0.2314860075712204,0.04695804417133331,null,0.2314860075712204,0.9031938314437866,null,0.2314860075712204,0.8612067699432373,null,0.9216929078102112,0.07508645206689835,null,0.4417225122451782,0.3034181296825409,null,0.6317209601402283,0.7955628633499146,null,0.37190723419189453,0.11824989318847656,null,0.629250705242157,0.9374088048934937,null,0.823394775390625,0.5085167288780212,null,0.823394775390625,0.15133477747440338,null,0.823394775390625,0.550504744052887,null,0.6711536049842834,0.9900884032249451,null,0.6711536049842834,0.15266375243663788,null,0.2982427179813385,0.4709213078022003,null,0.6740951538085938,0.6037665605545044,null,0.6740951538085938,0.4385017454624176,null,0.759029746055603,0.8135054111480713,null,0.5484344363212585,0.248300239443779,null,0.00043562831706367433,0.9467523097991943,null,0.4763008952140808,0.4459342360496521,null,0.04535334184765816,0.9870219826698303,null,0.5457208156585693,0.980882465839386,null,0.9842760562896729,0.14697594940662384,null,0.2882932722568512,0.01702127233147621,null,0.2882932722568512,0.12349218130111694,null,0.24106045067310333,0.6053422689437866,null,0.24106045067310333,0.782319962978363,null,0.7359381318092346,0.024525931105017662,null,0.6058666706085205,0.10982251167297363,null,0.9894733428955078,0.041688840836286545,null,0.8060152530670166,0.48457351326942444,null,0.8060152530670166,0.013973889872431755,null,0.29605311155319214,0.095097117125988,null,0.16545385122299194,0.5393083095550537,null,0.16545385122299194,0.8873905539512634,null,0.25694739818573,0.5678574442863464,null,0.25694739818573,0.33159345388412476,null,0.25694739818573,0.41172829270362854,null,0.25694739818573,0.5136474370956421,null,0.2723733186721802,0.2024930864572525,null,0.15098360180854797,0.8941898345947266,null,0.15098360180854797,0.03192266449332237,null,0.15098360180854797,0.06539336591959,null,0.15098360180854797,0.6739011406898499,null,0.9914989471435547,0.9937255382537842,null,0.9914989471435547,0.26132869720458984,null,0.7541919350624084,0.5228433609008789,null,0.81663578748703,0.8110713362693787,null,0.8380194306373596,0.37850937247276306,null,0.8380194306373596,0.5804460644721985,null,0.8200433254241943,0.9395674467086792,null,0.5720052719116211,0.8395163416862488,null,0.5720052719116211,0.03824317082762718,null,0.5720052719116211,0.17893186211585999,null,0.05928187817335129,0.7513669729232788,null,0.4953119456768036,0.2389499843120575,null,0.9796291589736938,0.17010053992271423,null,0.049765799194574356,0.4986107647418976,null,0.6854789853096008,0.9451914429664612,null,0.6854789853096008,0.056850168853998184,null,0.770183265209198,0.8670898079872131,null,0.7628689408302307,0.8447754979133606,null,0.7628689408302307,0.32152509689331055,null,0.7628689408302307,0.826747477054596,null,0.7628689408302307,0.6340168714523315,null,0.6444944143295288,0.8707618117332458,null,0.41956037282943726,0.6616598963737488,null,0.15093761682510376,0.23910002410411835,null,0.15093761682510376,0.7325208187103271,null,0.6017072796821594,0.4471126198768616,null,0.10267748683691025,0.8521280884742737,null,0.10267748683691025,0.01832452230155468,null,0.10267748683691025,0.01878543756902218,null,0.0067253089509904385,0.5964415669441223,null,0.0067253089509904385,0.21450400352478027,null,0.0067253089509904385,0.7553520202636719,null,0.702041506767273,0.9248490333557129,null,0.7414306998252869,0.8551857471466064,null,0.24156905710697174,0.5691094994544983,null,0.05266912654042244,0.027306795120239258,null,0.7639042735099792,0.9287787079811096,null,0.5214216113090515,0.21289348602294922,null,0.9856983423233032,0.20599554479122162,null,0.009731627069413662,0.7025427222251892,null,0.009731627069413662,0.11288979649543762,null,0.9453046917915344,0.13724428415298462,null,0.7605335116386414,0.40466928482055664,null,0.16588523983955383,0.4458639323711395,null,0.16588523983955383,0.9816945195198059,null,0.7567554712295532,0.619242250919342,null,0.41023075580596924,0.09253107756376266,null,0.26560649275779724,0.8827217221260071,null,0.26560649275779724,0.8655971884727478,null,0.26560649275779724,0.7154824733734131,null,0.3800499439239502,0.026390409097075462,null,0.5826666951179504,0.4689745008945465,null,0.7857956886291504,0.6719193458557129,null,0.8210067749023438,0.6771670579910278,null,0.010549236088991165,0.17658255994319916,null,0.010549236088991165,0.7668136358261108,null,0.5959683060646057,0.4838137626647949,null,0.49631211161613464,0.3093380630016327,null,0.801687479019165,0.6526879072189331,null,0.801687479019165,0.3373873233795166,null,0.495003342628479,0.8790382742881775,null,0.1677532196044922,0.6729402542114258,null,0.24431011080741882,0.9763381481170654,null,0.24431011080741882,0.7275637984275818,null,0.6127147674560547,0.6332243084907532,null,0.2373845875263214,0.9506630897521973,null,0.16852709650993347,0.1548893004655838,null,0.62675541639328,0.6109855771064758,null,0.62675541639328,0.41404685378074646,null,0.43614399433135986,0.2773749828338623,null,0.4200710952281952,0.24273455142974854,null,0.9166786074638367,0.4318963885307312,null,0.7164058089256287,0.5244901180267334,null,0.7164058089256287,0.5726699233055115,null,0.5739121437072754,0.8900603652000427,null,0.3958057761192322,0.820769190788269,null,0.01582486741244793,0.522545576095581,null,0.01582486741244793,0.08708775043487549,null,0.7650928497314453,0.11643552780151367,null,0.5770826935768127,0.7585756182670593,null,0.5816089510917664,0.2662677764892578,null,0.5816089510917664,0.7993127107620239,null,0.7666842937469482,0.8739223480224609,null,0.07736577093601227,0.3373904824256897,null,0.19357651472091675,0.478742778301239,null,0.2521059513092041,0.20104117691516876,null,0.6005655527114868,0.03876550868153572,null,0.3636649250984192,0.34591788053512573,null,0.4328164756298065,0.5683668255805969,null,0.19744619727134705,0.8587311506271362,null,0.06050970405340195,0.7089137434959412,null,0.15361171960830688,0.16929849982261658,null,0.5028098821640015,0.29356059432029724,null,0.5028098821640015,0.9364551901817322,null,0.43321603536605835,0.8595271110534668,null,0.5145106911659241,0.7046439051628113,null,0.22011873126029968,0.12705069780349731,null,0.5570458173751831,0.3359459340572357,null,0.5570458173751831,0.782758355140686,null,0.760707437992096,0.8421835899353027,null,0.760707437992096,0.5198485255241394,null,0.760707437992096,0.6240133047103882,null,0.46068018674850464,0.5095071196556091,null,0.35759490728378296,0.29657891392707825,null,0.35759490728378296,0.16330234706401825,null,0.37906327843666077,0.9533731341362,null,0.7379012107849121,0.9476473927497864,null,0.08268822729587555,0.6818819642066956,null,0.2860706150531769,0.4380909204483032,null,0.39105311036109924,0.01279262825846672,null,0.46792536973953247,0.8633739948272705,null,0.46792536973953247,0.42770254611968994,null,0.05264139547944069,0.08229359984397888,null,0.2380378693342209,0.06199551001191139,null,0.2380378693342209,0.8491917252540588,null,0.2380378693342209,0.04866144061088562,null,0.2380378693342209,0.7150589227676392,null,0.8395193815231323,0.9030007719993591,null,0.048407163470983505,0.8692348599433899,null,0.757037878036499,0.3272155821323395,null,0.15066538751125336,0.6592044234275818,null,0.273599237203598,0.30255958437919617,null,0.9450509548187256,0.9246126413345337,null,0.9450509548187256,0.4111960530281067,null,0.9450509548187256,0.12348940968513489,null,0.9450509548187256,0.5674950480461121,null,0.9450509548187256,0.842344343662262,null,0.3833447992801666,0.8232954740524292,null,0.886827290058136,0.7934145927429199,null,0.606833279132843,0.6592739224433899,null,0.606833279132843,0.325700581073761,null,0.606833279132843,0.22283825278282166,null,0.606833279132843,0.5356937646865845,null,0.030901970341801643,0.9387897849082947,null,0.4663078784942627,0.7673674821853638,null,0.4663078784942627,0.12736056745052338,null,0.8747184872627258,0.03738098964095116,null,0.6471019387245178,0.004365438595414162,null,0.12386252731084824,0.5022633671760559,null,0.755767285823822,0.3782522678375244,null,0.2895330488681793,0.16964159905910492,null,0.017475666478276253,0.9371666312217712,null,0.806994616985321,0.16044385731220245,null,0.806994616985321,0.4485011100769043,null,0.7698845863342285,0.37391114234924316,null,0.11228881031274796,0.6670941114425659,null,0.20774240791797638,0.5340984463691711,null,0.8442679643630981,0.7205396890640259,null,0.7380306124687195,0.08189701288938522,null,0.711593747138977,0.27168673276901245,null,0.45195549726486206,0.5827061533927917,null,0.9358215928077698,0.2208586186170578,null,0.9358215928077698,0.4677773118019104,null,0.9358215928077698,0.2589608132839203,null,0.9358215928077698,0.5873100161552429,null,0.40545815229415894,0.5026032328605652,null,0.48691126704216003,0.6861211657524109,null,0.27062350511550903,0.13538111746311188,null,0.27062350511550903,0.7718822360038757,null,0.27062350511550903,0.3816740810871124,null,0.27062350511550903,0.01951669156551361,null,0.5058476328849792,0.12225773930549622,null,0.002060660859569907,0.6355419754981995,null,0.04569133743643761,0.028927601873874664,null,0.7080942392349243,0.6567991375923157,null,0.4565032720565796,0.3059759736061096,null,0.3858442008495331,0.758022665977478,null,0.3858442008495331,0.7469496130943298,null,0.33846667408943176,0.9129571914672852,null,0.33846667408943176,0.7259449362754822,null,0.6725675463676453,0.8292942643165588,null,0.026539675891399384,0.9435264468193054,null,0.40573611855506897,0.7793304324150085,null,0.8939911723136902,0.5654457211494446,null,0.8939911723136902,0.4193801283836365,null,0.8939911723136902,0.993679940700531,null,0.1464754343032837,0.15652331709861755,null,0.8539667129516602,0.4690830111503601,null,0.9956977367401123,0.6771324872970581,null,0.7111210227012634,0.24320998787879944,null,0.7111210227012634,0.493245393037796,null,0.3011457622051239,0.05562505125999451,null,0.47348877787590027,0.45430272817611694,null,0.6941887140274048,0.35406777262687683,null,0.5745177268981934,0.5559254288673401,null,0.5392391681671143,0.9626399874687195,null,0.07922825217247009,0.8291324377059937,null,0.39241766929626465,0.12634985148906708,null,0.39241766929626465,0.8522193431854248,null,0.4163267910480499,0.17176038026809692,null,0.3628435730934143,0.09831263870000839,null,0.6291882991790771,0.130991131067276,null,0.19337913393974304,0.7294820547103882,null,0.1128251776099205,0.5362446308135986,null,0.9939323663711548,0.7502486705780029,null,0.7490346431732178,0.8581218123435974,null,0.038766808807849884,0.7208309173583984,null,0.5613885521888733,0.4384171664714813,null,0.35071778297424316,0.051290422677993774,null,0.1946730613708496,0.9915338754653931,null,0.18261004984378815,0.8862537145614624,null,0.6272456049919128,0.06618484854698181,null,0.9831050038337708,0.3989141881465912,null,0.6938609480857849,0.7415266633033752,null,0.4628990888595581,0.42197099328041077,null,0.09442506730556488,0.148351788520813,null,0.6125892400741577,0.4946162700653076,null,0.18099819123744965,0.507079005241394,null,0.4461027979850769,0.6529847383499146,null,0.8718428611755371,0.7409552335739136,null,0.7657245993614197,0.17998497188091278,null,0.5812870860099792,0.008746103383600712,null,0.5812870860099792,0.6185522675514221,null,0.9373748898506165,0.9978632926940918,null,0.6762738227844238,0.1267259567975998,null,0.3160846531391144,0.3586926758289337,null,0.569863498210907,0.7176224589347839,null,0.7925739288330078,0.7377064824104309,null,0.08218137174844742,0.8185977339744568,null,0.30633142590522766,0.22359730303287506,null,0.8579668402671814,0.6613687872886658,null,0.6860289573669434,0.18913134932518005,null,0.5438329577445984,0.35178980231285095,null,0.5645900368690491,0.580305278301239,null,0.6856030821800232,0.9182009696960449,null,0.6856030821800232,0.9951860308647156,null,0.028115471825003624,0.20510394871234894,null,0.04646420478820801,0.8861576914787292,null,0.6726035475730896,0.8142653703689575,null,0.566782534122467,0.9584142565727234,null,0.4654455780982971,0.08224423974752426,null,0.09012118726968765,0.6603278517723083,null,0.4948662519454956,0.27577754855155945,null,0.8775493502616882,0.1097237840294838,null,0.6216980814933777,0.7720124125480652,null,0.6216980814933777,0.7689588665962219,null,0.7473036646842957,0.4656519591808319,null,0.7473036646842957,0.8304314017295837,null,0.528089702129364,0.155913308262825,null,0.6105453968048096,0.9129635691642761,null,0.4933720827102661,0.3740592896938324,null,0.984917402267456,0.26890987157821655,null,0.94000244140625,0.330994576215744,null,0.3124758303165436,0.29725080728530884,null,0.3124758303165436,0.9013069868087769,null,0.6243723630905151,0.05757259577512741,null,0.3249334394931793,0.4147987365722656,null,0.38087591528892517,0.6781549453735352,null,0.38087591528892517,0.642838716506958,null,0.1964893937110901,0.3473418951034546,null,0.47884494066238403,0.2626290023326874,null,0.16060563921928406,0.7142543792724609,null,0.1639016717672348,0.5160285234451294,null,0.4673501253128052,0.7670271396636963,null,0.9263840317726135,0.7628350853919983,null,0.31597745418548584,0.5170245170593262,null,0.7381985783576965,0.9104127287864685,null,0.6555454134941101,0.02415475621819496,null,0.06070912629365921,0.2871190309524536,null,0.717850923538208,0.017893435433506966,null,0.8184841275215149,0.993137776851654,null,0.23905795812606812,0.04612797498703003,null,0.23905795812606812,0.5935125350952148,null,0.262516587972641,0.43269965052604675,null,0.6604255437850952,0.5500121712684631,null,0.5678538084030151,0.7506768107414246,null,0.12453876435756683,0.21636958420276642,null,0.3605409562587738,0.3289935886859894,null,0.3605409562587738,0.8626255393028259,null,0.9008808732032776,0.522134006023407,null,0.9008808732032776,0.42038100957870483,null,0.9008808732032776,0.5822959542274475,null,0.8996052742004395,0.8903728127479553,null,0.5075379610061646,0.1719023436307907,null,0.07635654509067535,0.9533452987670898,null,0.1486061066389084,0.41418027877807617,null,0.2362304925918579,0.01610073260962963,null,0.2362304925918579,0.4339602291584015,null,0.05422845855355263,0.16986648738384247,null,0.6856192946434021,0.5183953046798706,null,0.6856192946434021,0.127646341919899,null,0.1742444485425949,0.475300669670105,null,0.31207510828971863,0.22150291502475739,null,0.1908341348171234,0.6298027634620667,null,0.020973673090338707,0.2676227390766144,null,0.020973673090338707,0.08887536823749542,null,0.020973673090338707,0.6568074226379395,null,0.020973673090338707,0.028442639857530594,null,0.020973673090338707,0.6263971924781799,null,0.020973673090338707,0.795562744140625,null,0.8122639656066895,0.3945005536079407,null,0.4189453125,0.26264652609825134,null,0.3338727355003357,0.09355071187019348,null,0.354878306388855,0.9191674590110779,null,0.755285918712616,0.49163639545440674,null,0.11896930634975433,0.6160436272621155,null,0.037637434899806976,0.13998663425445557,null,0.5721613764762878,0.450138121843338,null,0.5624895095825195,0.07157308608293533,null,0.14025428891181946,0.41684144735336304,null,0.14025428891181946,0.04691014438867569,null,0.7320571541786194,0.5864382386207581,null,0.5438356399536133,0.3094095289707184,null,0.16750995814800262,0.08447007089853287,null,0.021415002644062042,0.6149374842643738,null,0.6455250382423401,0.7955012321472168,null,0.14591123163700104,0.1955481618642807,null,0.2768614590167999,0.5672147870063782,null,0.3669465482234955,0.06544025242328644,null,0.8722296357154846,0.8351370096206665,null,0.87553870677948,0.5913192629814148,null,0.23525400459766388,0.2828027606010437,null,0.23525400459766388,0.28675782680511475,null,0.06209951639175415,0.20931780338287354,null,0.8831849694252014,0.9343563318252563,null,0.8831849694252014,0.19765959680080414,null,0.27209576964378357,0.674768328666687,null,0.8689221739768982,0.8635042905807495,null,0.9447261095046997,0.6363039612770081,null,0.30106836557388306,0.35118937492370605,null,0.4117720127105713,0.13670387864112854,null,0.828453779220581,0.4121472239494324,null,0.828453779220581,0.6838349103927612,null,0.7426718473434448,0.768396258354187,null,0.5965182185173035,0.9428930878639221,null,0.9634191393852234,0.5462685823440552,null,0.42393365502357483,0.820581316947937,null,0.45725318789482117,0.3889538645744324,null,0.7173704504966736,0.9814797043800354,null,0.47418326139450073,0.2421821653842926,null,0.30039623379707336,0.3350546360015869,null,0.5336835384368896,0.8960177898406982,null,0.973348081111908,0.41637152433395386,null,0.9897084832191467,0.5582833290100098,null,0.9543976187705994,0.9349287748336792,null,0.8318282961845398,0.7614930272102356,null,0.5138652920722961,0.4978182911872864,null,0.3355844020843506,0.8284040689468384,null,0.7469413876533508,0.105750672519207,null,0.4582914412021637,0.7261499166488647,null,0.3504868745803833,0.4245373010635376,null,0.3910254240036011,0.26332950592041016,null,0.2726440131664276,0.013849847950041294,null,0.2726440131664276,0.8055404424667358,null,0.882063627243042,0.705339789390564,null,0.20131324231624603,0.060195647180080414,null,0.31792861223220825,0.3544180393218994,null,0.43578800559043884,0.6059651374816895,null,0.548548698425293,0.2850314974784851,null,0.2768509089946747,0.8314692974090576,null,0.9052219390869141,0.7294915318489075,null,0.2656868100166321,0.17145860195159912,null,0.6909708380699158,0.39417701959609985,null,0.5371379852294922,0.3001821041107178,null,0.8950685262680054,0.3866484463214874,null,0.7426575422286987,0.5524334907531738,null,0.4834405779838562,0.28406864404678345,null,0.7533100843429565,0.7111309766769409,null,0.7533100843429565,0.5845330953598022,null,0.2471381574869156,0.36183902621269226,null,0.42382699251174927,0.8342372179031372,null,0.3321800231933594,0.2323140799999237,null,0.27610617876052856,0.07387267798185349,null,0.7494415640830994,0.7936163544654846,null,0.023694824427366257,0.951492965221405,null,0.40380921959877014,0.32561418414115906,null,0.40380921959877014,0.7922595143318176,null,0.8360708355903625,0.8041328191757202,null,0.40847548842430115,0.5380942225456238,null,0.19139604270458221,0.16442641615867615,null,0.3935757279396057,0.2521636486053467,null,0.03202773258090019,0.5192493796348572,null,0.1496945023536682,0.8303107619285583,null,0.6649633646011353,0.28394627571105957,null,0.5746069550514221,0.9780585765838623,null,0.23353485763072968,0.6232873201370239,null,0.34704095125198364,0.969260573387146,null,0.622348427772522,0.1647638976573944,null,0.749899685382843,0.9198761582374573,null,0.22514158487319946,0.2637556195259094,null,0.31112292408943176,0.33421772718429565,null,0.4576736390590668,0.6134989857673645,null,0.13670191168785095,0.11165183037519455,null,0.391726016998291,0.9164684414863586,null,0.5129295587539673,0.7352150082588196,null,0.12225550413131714,0.7130169868469238,null,0.12225550413131714,0.847970724105835,null,0.6581329703330994,0.04880459979176521,null,0.29588061571121216,0.5806615352630615,null,0.29588061571121216,0.008509505540132523,null,0.4175519645214081,0.5697768926620483,null,0.8552768230438232,0.8607691526412964,null,0.9468905329704285,0.8097171187400818,null,0.8485746383666992,0.8922958374023438,null,0.6508421897888184,0.7031077742576599,null,0.8313971757888794,0.600872814655304,null,0.5760871767997742,0.9071175456047058,null,0.006551137659698725,0.4839439392089844,null,0.14441876113414764,0.9332095980644226,null,0.8567230105400085,0.13179105520248413,null,0.9834738969802856,0.8291633725166321,null,0.9834738969802856,0.7859358787536621,null,0.06871822476387024,0.11497356742620468,null,0.23442724347114563,0.6865431070327759,null,0.6154186129570007,0.35094892978668213,null,0.20647577941417694,0.7622089385986328,null,0.7005135416984558,0.8663183450698853,null,0.7005135416984558,0.006656443700194359,null,0.9415897727012634,0.18099726736545563,null,0.46006137132644653,0.9526504874229431,null,0.13789145648479462,0.7826185822486877,null,0.4355311989784241,0.07095282524824142,null,0.1155562624335289,0.9951999187469482,null,0.5837581753730774,0.5628950595855713,null,0.897688090801239,0.5913297533988953,null,0.9819385409355164,0.7672995328903198,null,0.9631109833717346,0.2911287546157837,null,0.6330195665359497,0.963833749294281,null,0.40322035551071167,0.15802031755447388,null,0.020951876416802406,0.7873950600624084,null,0.05888322368264198,0.8918524384498596,null,0.20970959961414337,0.895383894443512,null,0.3837234079837799,0.30331841111183167,null,0.8559171557426453,0.13762646913528442,null,0.06122523918747902,0.5617906451225281,null,0.19852778315544128,0.06305095553398132,null,0.09831841289997101,0.9419047832489014,null,0.9339137077331543,0.9961915612220764,null,0.8431111574172974,0.9104857444763184,null,0.7155390381813049,0.3431333899497986,null,0.4229277968406677,0.568074107170105,null,0.4229277968406677,0.03416469693183899,null,0.9581706523895264,0.8261299133300781,null,0.4696965217590332,0.05260409787297249,null,0.14613045752048492,0.10533607751131058,null,0.11998327821493149,0.5397607684135437,null,0.5293713212013245,0.9413713812828064,null,0.5660122036933899,0.33236655592918396,null,0.6271409392356873,0.12115418165922165,null,0.5340494513511658,0.5573546886444092,null,0.5902257561683655,0.6398293375968933,null,0.7175712585449219,0.3025527596473694,null,0.961636483669281,0.19508439302444458,null,0.916170060634613,0.22532638907432556,null,0.916170060634613,0.10081532597541809,null,0.41376858949661255,0.8787468671798706,null,0.15301719307899475,0.9395362734794617,null,0.35191333293914795,0.06678233295679092,null,0.8273208737373352,0.45740991830825806,null,0.0343354158103466,0.1681423783302307,null,0.9684422016143799,0.6465262770652771,null,0.7628315091133118,0.2661935091018677,null,0.5862215757369995,0.4074578881263733,null,0.4846230745315552,0.46085381507873535,null,0.16880610585212708,0.9405207633972168,null,0.3532531261444092,0.8963486552238464,null,0.9637696743011475,0.5725381374359131,null,0.9982317686080933,0.7153692841529846,null,0.573560357093811,0.6951503157615662,null,0.521847128868103,0.6525629758834839,null,0.7779698967933655,0.9429301619529724,null,0.5735266208648682,0.983731210231781,null,0.544540286064148,0.9547119140625,null,0.4273747503757477,0.9989634156227112,null,0.8762692809104919,0.6447467803955078,null,0.5992160439491272,0.2667275071144104,null,0.36002475023269653,0.2674265503883362,null,0.7977270483970642,0.14706405997276306,null,0.1187816858291626,0.07704177498817444,null,0.747370183467865,0.17208416759967804,null,0.5919942855834961,0.18406976759433746,null,0.06918521970510483,0.13908757269382477,null,0.3243749141693115,0.5185876488685608,null,0.5534190535545349,0.2776823043823242,null,0.3590404689311981,0.8080840706825256,null,0.31867069005966187,0.5729348659515381,null,0.634552538394928,0.34214624762535095,null,0.8287128806114197,0.2529211938381195,null,0.3123912811279297,0.4818822145462036,null,0.041683707386255264,0.12281640619039536,null,0.35977256298065186,0.39771905541419983,null,0.40072953701019287,0.09434811770915985,null,0.10731320828199387,0.12779299914836884,null,0.7885280251502991,0.742995023727417,null,0.10060856491327286,0.7844412326812744,null,0.897322416305542,0.9302502870559692,null,0.43728116154670715,0.31856122612953186,null,0.31199923157691956,0.5709733963012695,null,0.7457083463668823,0.09779421240091324,null,0.16884838044643402,0.7440029978752136,null,0.5458658933639526,0.8981574177742004,null,0.6135435700416565,0.5200555324554443,null,0.9841114282608032,0.42610520124435425,null,0.45938536524772644,0.3209191858768463,null,0.5602626204490662,0.289454847574234,null,0.5654033422470093,0.9810266494750977,null,0.28648141026496887,0.2252703309059143,null,0.7286906242370605,0.3850939869880676,null,0.47578468918800354,0.07305064797401428,null,0.032241351902484894,0.3888666033744812,null,0.7891115546226501,0.5199621915817261,null,0.18747128546237946,0.03194597736001015,null,0.5429999828338623,0.13059601187705994,null,0.3436773419380188,0.1711452454328537,null,0.3352014422416687,0.27683553099632263,null,0.26414188742637634,0.5123885869979858,null,0.0003095705760642886,0.7019473314285278,null,0.6812273859977722,0.6885963082313538,null,0.22901007533073425,0.5835472941398621,null,0.339944988489151,0.03764645755290985,null,0.12280478328466415,0.6589999198913574,null,0.6136036515235901,0.8773859739303589,null,0.18764473497867584,0.24097426235675812,null,0.4970347285270691,0.4859151542186737,null,0.11580865830183029,0.09753036499023438,null,0.5231029391288757,0.4720176160335541,null,0.22560980916023254,0.8461186289787292,null,0.8659093976020813,0.06626147031784058,null,0.650903582572937,0.6591748595237732,null,0.5050742626190186,0.5675269365310669,null,0.3622567355632782,0.5181831121444702,null,0.687547504901886,0.8611273765563965,null,0.7236173152923584,0.008873529732227325,null,0.6991792321205139,0.4306279420852661,null,0.28729957342147827,0.11427336186170578,null,0.9272372722625732,0.3364832401275635,null,0.5723824501037598,0.3485271632671356,null,0.9894199371337891,0.33512669801712036,null,0.9049912691116333,0.3153718113899231,null,0.422793984413147,0.9122626185417175,null,0.8410729765892029,0.7803292870521545,null,0.6351401805877686,0.07089676707983017,null,0.020958127453923225,0.7806940078735352,null,0.6683530807495117,0.4270727038383484,null,0.5757524967193604,0.14704029262065887,null,0.6673234105110168,0.5601996183395386,null,0.3431839644908905,0.8520671725273132,null,0.6390485167503357,0.5872979760169983,null,0.5505282282829285,0.25272223353385925,null,0.16891805827617645,0.4192338287830353,null,0.24947737157344818,0.46865177154541016,null,0.3055680990219116,0.9286494851112366,null,0.4199744462966919,0.34986841678619385,null,0.9965106844902039,0.9653656482696533,null,0.10158898681402206,0.4966951012611389,null,0.533394455909729,0.8268442153930664,null,0.9950460195541382,0.49776431918144226,null,0.9930076599121094,0.8947163820266724,null,0.04814282804727554,0.0985003188252449,null,0.38700294494628906,0.11416324228048325,null,0.16403843462467194,0.12874466180801392,null,0.34635841846466064,0.5936607122421265,null,0.731587290763855,0.04047609865665436,null,0.5307152271270752,0.8102406859397888,null,0.8464368581771851,0.09736843407154083,null,0.8283288478851318,0.1681220829486847,null,0.9729752540588379,0.17403540015220642,null,0.964442789554596,0.4184384047985077,null,0.1310783177614212,0.332895964384079,null,0.8857972025871277,0.2932150363922119,null,0.10845141857862473,0.4674566090106964,null,0.7484502792358398,0.6697555780410767,null,0.7213107943534851,0.12754252552986145,null,0.38734132051467896,0.8645535111427307,null,0.7334896922111511,0.20741993188858032,null,0.5762678384780884,0.9784219861030579,null,0.6127575635910034,0.930443525314331,null,0.07895927131175995,0.11287187784910202,null,0.6450895071029663,0.015459700487554073,null,0.4542948007583618,0.227502703666687,null,0.6798926591873169,0.0696425661444664,null,0.11774909496307373,0.723186194896698,null,0.4854397773742676,0.6877707839012146,null,0.5948101282119751,0.5572726130485535,null,0.54219651222229,0.46591293811798096,null],\"y\":[0.27457624673843384,0.5189391374588013,null,0.8820690512657166,0.9090334177017212,null,0.8820690512657166,0.052299391478300095,null,0.8820690512657166,0.9207859039306641,null,0.8820690512657166,0.12016928941011429,null,0.8820690512657166,0.05329812690615654,null,0.8820690512657166,0.22709520161151886,null,0.9780303239822388,0.684576690196991,null,0.7767952084541321,0.8828207850456238,null,0.21611949801445007,0.7056559920310974,null,0.21611949801445007,0.15382839739322662,null,0.23314298689365387,0.79349684715271,null,0.3815179169178009,0.37273892760276794,null,0.3730181157588959,0.836012065410614,null,0.8389622569084167,0.8206523060798645,null,0.5750598311424255,0.4262629747390747,null,0.5750598311424255,0.1829901933670044,null,0.654314398765564,0.529417097568512,null,0.7536291480064392,0.3529543876647949,null,0.8601945638656616,0.8480073809623718,null,0.33133354783058167,0.8276695609092712,null,0.09450908750295639,0.07951433211565018,null,0.09450908750295639,0.6771268248558044,null,0.20069484412670135,0.04961160197854042,null,0.6076071262359619,0.48496297001838684,null,0.6076071262359619,0.5884418487548828,null,0.6076071262359619,0.09718869626522064,null,0.7163466215133667,0.6720594167709351,null,0.7163466215133667,0.4531756639480591,null,0.7163466215133667,0.31561383605003357,null,0.7163466215133667,0.11450427025556564,null,0.7163466215133667,0.30195388197898865,null,0.7952362298965454,0.6879074573516846,null,0.7989758253097534,0.0588865764439106,null,0.7989758253097534,0.2151399850845337,null,0.290242075920105,0.943231999874115,null,0.290242075920105,0.13826148211956024,null,0.8658474087715149,0.19072388112545013,null,0.8658474087715149,0.8549186587333679,null,0.9834470748901367,0.7104446887969971,null,0.9834470748901367,0.3423701226711273,null,0.9834470748901367,0.627448558807373,null,0.9834470748901367,0.9602750539779663,null,0.9834470748901367,0.6687317490577698,null,0.9834470748901367,0.9443169832229614,null,0.9834470748901367,0.419440358877182,null,0.0007463632500730455,0.7548609375953674,null,0.21647663414478302,0.7698698043823242,null,0.21647663414478302,0.042643435299396515,null,0.08337754756212234,0.08661889284849167,null,0.49671071767807007,0.000719760952051729,null,0.9512887001037598,0.7414034605026245,null,0.4446685016155243,0.7518667578697205,null,0.4446685016155243,0.5567930936813354,null,0.9485415816307068,0.37728726863861084,null,0.9485415816307068,0.6755644083023071,null,0.9485415816307068,0.6660231351852417,null,0.9485415816307068,0.5537066459655762,null,0.65134197473526,0.7559394836425781,null,0.65134197473526,0.294262170791626,null,0.25133219361305237,0.015660248696804047,null,0.5901331901550293,0.8970175385475159,null,0.5901331901550293,0.8337807655334473,null,0.5901331901550293,0.09685474634170532,null,0.3300566077232361,0.37073174118995667,null,0.3300566077232361,0.3397943377494812,null,0.3300566077232361,0.7028857469558716,null,0.3300566077232361,0.19418403506278992,null,0.3300566077232361,0.5622566342353821,null,0.3300566077232361,0.4160691499710083,null,0.3300566077232361,0.9206830263137817,null,0.9272902607917786,0.9157963395118713,null,0.9272902607917786,0.4650997817516327,null,0.2268798053264618,0.1803724765777588,null,0.2268798053264618,0.16536660492420197,null,0.8011907935142517,0.5316733717918396,null,0.8011907935142517,0.28645649552345276,null,0.9373258352279663,0.0717802569270134,null,0.9373258352279663,0.04902829974889755,null,0.7125773429870605,0.528736412525177,null,0.7125773429870605,0.7023679614067078,null,0.7125773429870605,0.7784408330917358,null,0.7125773429870605,0.2986609637737274,null,0.5812961459159851,0.6697589755058289,null,0.5812961459159851,0.05752814561128616,null,0.8374821543693542,0.18315650522708893,null,0.9849336743354797,0.6583042740821838,null,0.9849336743354797,0.46044453978538513,null,0.5511463284492493,0.8366844058036804,null,0.5945814251899719,0.008413217961788177,null,0.48179754614830017,0.4073043167591095,null,0.48179754614830017,0.44509196281433105,null,0.8472996354103088,0.037080004811286926,null,0.5872256755828857,0.9089801907539368,null,0.8735465407371521,0.4638223350048065,null,0.8652852773666382,0.626815915107727,null,0.07415099442005157,0.7804548144340515,null,0.07415099442005157,0.11321692168712616,null,0.3830788731575012,0.33747902512550354,null,0.5426687598228455,0.5680086612701416,null,0.7695682048797607,0.20893239974975586,null,0.2432091236114502,0.35296300053596497,null,0.2608744502067566,0.9686295390129089,null,0.2608744502067566,0.46544545888900757,null,0.4991050958633423,0.138187974691391,null,0.24798154830932617,0.9250066876411438,null,0.4867643117904663,0.6111871004104614,null,0.6967658400535583,0.23676243424415588,null,0.11257711797952652,0.23265598714351654,null,0.9539937376976013,0.8747138977050781,null,0.9539937376976013,0.5307504534721375,null,0.03576074168086052,0.15826505422592163,null,0.6820695996284485,0.46757087111473083,null,0.8464773893356323,0.6908296346664429,null,0.8464773893356323,0.33668071031570435,null,0.6312094926834106,0.2371589094400406,null,0.7495745420455933,0.4838407039642334,null,0.7495745420455933,0.4757031500339508,null,0.5012874007225037,0.462581068277359,null,0.672981321811676,0.5183795690536499,null,0.672981321811676,0.11419706046581268,null,0.6944218277931213,0.024779099971055984,null,0.6944218277931213,0.39672091603279114,null,0.17618443071842194,0.9902327060699463,null,0.38997459411621094,0.09534738212823868,null,0.38997459411621094,0.08255554735660553,null,0.8265162706375122,0.572981059551239,null,0.12664027512073517,0.9771104454994202,null,0.3962183892726898,0.6632586717605591,null,0.12712185084819794,0.7671799063682556,null,0.12712185084819794,0.26136016845703125,null,0.12712185084819794,0.8628309965133667,null,0.12712185084819794,0.0580209344625473,null,0.12712185084819794,0.14737708866596222,null,0.12712185084819794,0.5713968276977539,null,0.12712185084819794,0.37739500403404236,null,0.12712185084819794,0.39455077052116394,null,0.7656367421150208,0.35481172800064087,null,0.23048482835292816,0.1514928638935089,null,0.23048482835292816,0.21199572086334229,null,0.23048482835292816,0.3891218304634094,null,0.861517608165741,0.10595652461051941,null,0.15582695603370667,0.6135384440422058,null,0.8333516716957092,0.4086780250072479,null,0.33403584361076355,0.6631810665130615,null,0.7099742293357849,0.664914071559906,null,0.7099742293357849,0.45390042662620544,null,0.7099742293357849,0.9503453373908997,null,0.9232512712478638,0.5563370585441589,null,0.820438802242279,0.24092519283294678,null,0.820438802242279,0.7942475080490112,null,0.7632837295532227,0.5341032147407532,null,0.7632837295532227,0.8048357367515564,null,0.348012775182724,0.04343598335981369,null,0.9259284138679504,0.8767805099487305,null,0.4153567850589752,0.5397530198097229,null,0.09538817405700684,0.20342408120632172,null,0.33174431324005127,0.28167295455932617,null,0.4085102677345276,0.5979806780815125,null,0.4085102677345276,0.13996317982673645,null,0.4085102677345276,0.9987796545028687,null,0.4085102677345276,0.33808091282844543,null,0.4085102677345276,0.4015076160430908,null,0.4085102677345276,0.624025821685791,null,0.28050366044044495,0.5567389130592346,null,0.28160566091537476,0.8699339032173157,null,0.3574802279472351,0.3552601933479309,null,0.23753722012043,0.5246142745018005,null,0.23753722012043,0.9399387836456299,null,0.23753722012043,0.6367708444595337,null,0.23753722012043,0.6612206697463989,null,0.024924393743276596,0.32802093029022217,null,0.2523998022079468,0.5156765580177307,null,0.7128536701202393,0.6559239029884338,null,0.7128536701202393,0.2632320523262024,null,0.7128536701202393,0.5535987615585327,null,0.1578395962715149,0.43283969163894653,null,0.10529719293117523,0.2429608255624771,null,0.10529719293117523,0.6531417369842529,null,0.8298001289367676,0.2925207018852234,null,0.8298001289367676,0.8264529705047607,null,0.267780601978302,0.22526070475578308,null,0.08758635818958282,0.7892767786979675,null,0.08758635818958282,0.9217871427536011,null,0.18860389292240143,0.6598532199859619,null,0.8173909187316895,0.8427780866622925,null,0.8173909187316895,0.30507197976112366,null,0.7571407556533813,0.9822795391082764,null,0.9811097383499146,0.08666164427995682,null,0.9811097383499146,0.2574957311153412,null,0.1063901036977768,0.8063439726829529,null,0.4245170056819916,0.39342251420021057,null,0.4245170056819916,0.21653245389461517,null,0.4245170056819916,0.006103551480919123,null,0.3766734302043915,0.3618204891681671,null,0.3766734302043915,0.9184611439704895,null,0.3766734302043915,0.4805835783481598,null,0.8766725063323975,0.4380766749382019,null,0.8579815626144409,0.2691587805747986,null,0.8579815626144409,0.60504549741745,null,0.5576488375663757,0.4723641574382782,null,0.5576488375663757,0.19575235247612,null,0.5809316635131836,0.8319850564002991,null,0.5809316635131836,0.0905018299818039,null,0.06513688713312149,0.15092387795448303,null,0.6827839612960815,0.9943482279777527,null,0.6827839612960815,0.7377455234527588,null,0.6827839612960815,0.5924437642097473,null,0.6827839612960815,0.3365173041820526,null,0.5375263690948486,0.9131960868835449,null,0.5375263690948486,0.33559781312942505,null,0.5010465979576111,0.7937058806419373,null,0.5010465979576111,0.6012564897537231,null,0.5010465979576111,0.6774559020996094,null,0.5010465979576111,0.9528772830963135,null,0.5010465979576111,0.3126598000526428,null,0.6330544948577881,0.6046562194824219,null,0.7246906161308289,0.6776354908943176,null,0.7246906161308289,0.6610894203186035,null,0.027484793215990067,0.36315903067588806,null,0.3551172614097595,0.7849501967430115,null,0.37732571363449097,0.9668610095977783,null,0.37732571363449097,0.7272080779075623,null,0.37732571363449097,0.7941285371780396,null,0.37732571363449097,0.9243783950805664,null,0.37732571363449097,0.04559550806879997,null,0.37732571363449097,0.4611826241016388,null,0.37732571363449097,0.8688841462135315,null,0.37732571363449097,0.8854950070381165,null,0.37732571363449097,0.13801324367523193,null,0.879043459892273,0.28452810645103455,null,0.879043459892273,0.9364287853240967,null,0.049793414771556854,0.5052154064178467,null,0.6796188950538635,0.5021437406539917,null,0.6796188950538635,0.8843165636062622,null,0.9086436033248901,0.2122146338224411,null,0.984878659248352,0.7899489998817444,null,0.984878659248352,0.17835396528244019,null,0.3877541422843933,0.7708555459976196,null,0.6074672341346741,0.7684779167175293,null,0.39194267988204956,0.7287877798080444,null,0.6449236273765564,0.05563385412096977,null,0.21350747346878052,0.5921214818954468,null,0.6903252005577087,0.4003164768218994,null,0.9593049883842468,0.24724340438842773,null,0.4019310176372528,0.1236419603228569,null,0.17828057706356049,0.47959086298942566,null,0.17828057706356049,0.5877598524093628,null,0.17828057706356049,0.9269788265228271,null,0.9359007477760315,0.547452449798584,null,0.23848353326320648,0.3409470021724701,null,0.23848353326320648,0.8651912808418274,null,0.5905942916870117,0.9946622252464294,null,0.975082278251648,0.5664002299308777,null,0.041427478194236755,0.5052517056465149,null,0.2695179283618927,0.18872423470020294,null,0.2695179283618927,0.7290394306182861,null,0.4276564121246338,0.4197256565093994,null,0.10393703728914261,0.6855761408805847,null,0.17323541641235352,0.8814436793327332,null,0.17323541641235352,0.6894849538803101,null,0.8773350119590759,0.05712296441197395,null,0.8773350119590759,0.5167571902275085,null,0.8773350119590759,0.4650583863258362,null,0.8773350119590759,0.9251600503921509,null,0.8773350119590759,0.13476550579071045,null,0.7995678186416626,0.6890710592269897,null,0.21940284967422485,0.6730929613113403,null,0.5343226194381714,0.12677517533302307,null,0.7279002070426941,0.7525483965873718,null,0.6578168869018555,0.05176136642694473,null,0.8196905255317688,0.19685786962509155,null,0.6765568256378174,0.07987260073423386,null,0.27666887640953064,0.3923432528972626,null,0.27666887640953064,0.0495348758995533,null,0.15362073481082916,0.021465472877025604,null,0.03128644451498985,0.7907871603965759,null,0.017776329070329666,0.8349586129188538,null,0.9594923853874207,0.46189412474632263,null,0.8419275283813477,0.426961749792099,null,0.680340051651001,0.9030352830886841,null,0.023592578247189522,0.1960911899805069,null,0.8820042610168457,0.028888344764709473,null,0.8719931244850159,0.47753748297691345,null,0.8719931244850159,0.5685651898384094,null,0.20236998796463013,0.7056376338005066,null,0.24982672929763794,0.892733633518219,null,0.03296375274658203,0.47141551971435547,null,0.7123399376869202,0.8748080730438232,null,0.16296318173408508,0.918231725692749,null,0.6743228435516357,0.7039031982421875,null,0.8851823210716248,0.9722107648849487,null,0.5502196550369263,0.9223935604095459,null,0.9223935604095459,0.9451742768287659,null,0.6841025352478027,0.7874428033828735,null,0.6841025352478027,0.12714111804962158,null,0.16309839487075806,0.8567504286766052,null,0.00983485858887434,0.9977872967720032,null,0.2511020600795746,0.5042087435722351,null,0.2511020600795746,0.6110857725143433,null,0.0055848886258900166,0.4373399615287781,null,0.0055848886258900166,0.08682238310575485,null,0.0055848886258900166,0.2385915219783783,null,0.0055848886258900166,0.5689518451690674,null,0.0055848886258900166,0.34297168254852295,null,0.8305943608283997,0.5679419636726379,null,0.5197182297706604,0.16015993058681488,null,0.04672715812921524,0.8428232073783875,null,0.058469101786613464,0.9852597117424011,null,0.8381572961807251,0.08544760942459106,null,0.9273326396942139,0.9909194111824036,null,0.9273326396942139,0.834656298160553,null,0.9273326396942139,0.5063254833221436,null,0.975291907787323,0.8070480227470398,null,0.975291907787323,0.020530182868242264,null,0.4659354090690613,0.9780978560447693,null,0.42219236493110657,0.8106733560562134,null,0.42219236493110657,0.08706320822238922,null,0.8073450922966003,0.9588878154754639,null,0.4149739742279053,0.3763009011745453,null,0.3022255301475525,0.48849985003471375,null,0.24921667575836182,0.23916780948638916,null,0.4724499583244324,0.3114458918571472,null,0.09635637700557709,0.3930823802947998,null,0.9073502421379089,0.5449348092079163,null,0.009270834736526012,0.3818826675415039,null,0.009270834736526012,0.6481794714927673,null,0.5388228893280029,0.1836601048707962,null,0.5388228893280029,0.3991769850254059,null,0.6386711001396179,0.615185022354126,null,0.6382780075073242,0.4329850971698761,null,0.4408363401889801,0.5014368295669556,null,0.6215608716011047,0.11645247042179108,null,0.6215608716011047,0.8571823239326477,null,0.7823068499565125,0.4389088451862335,null,0.6209261417388916,0.6628494262695312,null,0.6209261417388916,0.23952025175094604,null,0.9502614140510559,0.5743097066879272,null,0.9502614140510559,0.6798343658447266,null,0.9502614140510559,0.6688666939735413,null,0.9502614140510559,0.8254618644714355,null,0.7092000842094421,0.45584386587142944,null,0.0937766283750534,0.20507687330245972,null,0.0937766283750534,0.8984171152114868,null,0.0937766283750534,0.7714697122573853,null,0.0937766283750534,0.30619609355926514,null,0.9904190301895142,0.9961110353469849,null,0.9904190301895142,0.44444265961647034,null,0.5607050061225891,0.8726390600204468,null,0.7784795165061951,0.5329385995864868,null,0.5291544795036316,0.6712999939918518,null,0.5291544795036316,0.6621202230453491,null,0.4732641577720642,0.8723293542861938,null,0.9411953091621399,0.9209635853767395,null,0.9411953091621399,0.9508655667304993,null,0.9411953091621399,0.07670889049768448,null,0.5442785024642944,0.4727381467819214,null,0.6848440170288086,0.36250412464141846,null,0.4855184555053711,0.9781484007835388,null,0.22437241673469543,0.8034732341766357,null,0.8816104531288147,0.13886788487434387,null,0.8816104531288147,0.1809786856174469,null,0.10641664266586304,0.5575147867202759,null,0.49181482195854187,0.4543609321117401,null,0.49181482195854187,0.9832991361618042,null,0.49181482195854187,0.7458625435829163,null,0.49181482195854187,0.3021324574947357,null,0.05785572901368141,0.43186524510383606,null,0.02331933006644249,0.12646637856960297,null,0.9422962665557861,0.03720860183238983,null,0.9422962665557861,0.2597208023071289,null,0.5140811204910278,0.3166438043117523,null,0.9247736930847168,0.2076185643672943,null,0.9247736930847168,0.9834729433059692,null,0.9247736930847168,0.5324032306671143,null,0.4337615966796875,0.7766847610473633,null,0.4337615966796875,0.33681851625442505,null,0.4337615966796875,0.9240747094154358,null,0.25018611550331116,0.03502292558550835,null,0.37969422340393066,0.5596776604652405,null,0.6125003695487976,0.9633743762969971,null,0.956678032875061,0.22508275508880615,null,0.18647918105125427,0.8667987585067749,null,0.22523756325244904,0.05262758582830429,null,0.9434467554092407,0.6642429232597351,null,0.5197032690048218,0.07527250051498413,null,0.5197032690048218,0.5704250931739807,null,0.9399541616439819,0.7718679308891296,null,0.7130721807479858,0.3946875035762787,null,0.0988612174987793,0.7909210324287415,null,0.0988612174987793,0.7388694882392883,null,0.1468150019645691,0.2716338038444519,null,0.001523942919448018,0.8855713605880737,null,0.30656322836875916,0.5817616581916809,null,0.30656322836875916,0.6332265734672546,null,0.30656322836875916,0.5841792821884155,null,0.5040667057037354,0.2577367126941681,null,0.4475444555282593,0.8365758657455444,null,0.10544141381978989,0.9033870697021484,null,0.24303802847862244,0.5692645311355591,null,0.4155900478363037,0.25789016485214233,null,0.4155900478363037,0.5991275310516357,null,0.19407150149345398,0.5042588114738464,null,0.06542887538671494,0.9421002864837646,null,0.7587367296218872,0.9076042175292969,null,0.7587367296218872,0.14734740555286407,null,0.030715659260749817,0.9581248164176941,null,0.7997564077377319,0.42290687561035156,null,0.9546260237693787,0.44364133477211,null,0.9546260237693787,0.851503849029541,null,0.8304985165596008,0.7095315456390381,null,0.7132352590560913,0.6962467432022095,null,0.6564730405807495,0.054652344435453415,null,0.5652168393135071,0.6624113321304321,null,0.5652168393135071,0.27497705817222595,null,0.838965117931366,0.3069252073764801,null,0.39471176266670227,0.39044421911239624,null,0.6348171234130859,0.4509407877922058,null,0.9451742768287659,0.9955922961235046,null,0.9451742768287659,0.24464690685272217,null,0.8129862546920776,0.15336234867572784,null,0.29183804988861084,0.2725181579589844,null,0.1592877358198166,0.8114874958992004,null,0.1592877358198166,0.1407182514667511,null,0.11979759484529495,0.8263934850692749,null,0.18205183744430542,0.594317615032196,null,0.2572724223136902,0.0005460482207126915,null,0.2572724223136902,0.26908308267593384,null,0.3749619424343109,0.9494569301605225,null,0.3001771569252014,0.02645634114742279,null,0.51243656873703,0.7303830981254578,null,0.4936552941799164,0.3563537299633026,null,0.22561079263687134,0.4946447014808655,null,0.1533323973417282,0.9787285923957825,null,0.9713327288627625,0.3151538074016571,null,0.3800310492515564,0.6918547749519348,null,0.2444806843996048,0.7556420564651489,null,0.22867938876152039,0.9420945644378662,null,0.6886001229286194,0.8623276352882385,null,0.6886001229286194,0.5955303907394409,null,0.048117924481630325,0.8705548048019409,null,0.14737795293331146,0.792603075504303,null,0.9454966187477112,0.2669726312160492,null,0.8957636952400208,0.4022253453731537,null,0.8957636952400208,0.16827517747879028,null,0.13073526322841644,0.5921531319618225,null,0.13073526322841644,0.14094401895999908,null,0.13073526322841644,0.7083805203437805,null,0.9191548824310303,0.14356358349323273,null,0.44814532995224,0.20024433732032776,null,0.44814532995224,0.7434830069541931,null,0.9844287633895874,0.15047195553779602,null,0.3621390461921692,0.486174076795578,null,0.04759036749601364,0.08096402138471603,null,0.6438308358192444,0.30971023440361023,null,0.11407056450843811,0.1982990801334381,null,0.955011248588562,0.4615721106529236,null,0.955011248588562,0.9224544763565063,null,0.32764312624931335,0.8673329949378967,null,0.9556261301040649,0.5586485266685486,null,0.9556261301040649,0.715231716632843,null,0.9556261301040649,0.44775229692459106,null,0.9556261301040649,0.8310956358909607,null,0.6990309357643127,0.8160019516944885,null,0.9669976234436035,0.03019026666879654,null,0.3753063380718231,0.8167017102241516,null,0.022352324798703194,0.18185336887836456,null,0.4703100621700287,0.16097939014434814,null,0.13474911451339722,0.8290157914161682,null,0.13474911451339722,0.7586913704872131,null,0.13474911451339722,0.7701752781867981,null,0.13474911451339722,0.5503534078598022,null,0.13474911451339722,0.06721051037311554,null,0.2456737905740738,0.6068828701972961,null,0.05390224978327751,0.5452722907066345,null,0.9793693423271179,0.013179345056414604,null,0.9793693423271179,0.20861603319644928,null,0.9793693423271179,0.7493822574615479,null,0.9793693423271179,0.16311705112457275,null,0.4070431590080261,0.9622458815574646,null,0.2786353826522827,0.10427810251712799,null,0.2786353826522827,0.8151199817657471,null,0.12760372459888458,0.9451552033424377,null,0.06626883894205093,0.08719862252473831,null,0.34693849086761475,0.7071144580841064,null,0.9669129848480225,0.2932372987270355,null,0.3050265610218048,0.5400840044021606,null,0.35040679574012756,0.013203673996031284,null,0.6105401515960693,0.04906739667057991,null,0.6105401515960693,0.07482027262449265,null,0.10073753446340561,0.9493663311004639,null,0.5265466570854187,0.9124050140380859,null,0.03630024939775467,0.6058183312416077,null,0.36967113614082336,0.5448288917541504,null,0.794921875,0.461799681186676,null,0.33484286069869995,0.7811368703842163,null,0.8356152176856995,0.6684267520904541,null,0.4210812449455261,0.4481833577156067,null,0.4210812449455261,0.021764280274510384,null,0.4210812449455261,0.8142143487930298,null,0.4210812449455261,0.3403732180595398,null,0.15719202160835266,0.040379442274570465,null,0.8208191394805908,0.8385710716247559,null,0.35188013315200806,0.7985097169876099,null,0.35188013315200806,0.9322328567504883,null,0.35188013315200806,0.8375561833381653,null,0.35188013315200806,0.7995147109031677,null,0.9365370273590088,0.36568939685821533,null,0.6257374882698059,0.9781119227409363,null,0.15398545563220978,0.18423113226890564,null,0.0677594393491745,0.014879521913826466,null,0.6179172992706299,0.4691484868526459,null,0.3005564510822296,0.548971951007843,null,0.3005564510822296,0.15085026621818542,null,0.8622936010360718,0.5132941603660583,null,0.8622936010360718,0.5588316321372986,null,0.7269546985626221,0.7230216860771179,null,0.89410799741745,0.5351628065109253,null,0.5532727241516113,0.5954113602638245,null,0.586659848690033,0.3523370623588562,null,0.586659848690033,0.16259366273880005,null,0.586659848690033,0.8818119764328003,null,0.20810072124004364,0.9813390374183655,null,0.7271697521209717,0.7869537472724915,null,0.7887587547302246,0.1982557773590088,null,0.9668156504631042,0.02409169264137745,null,0.9668156504631042,0.7242165803909302,null,0.7229481935501099,0.14197443425655365,null,0.8512473106384277,0.7393727898597717,null,0.6150944232940674,0.8089518547058105,null,0.9253623485565186,0.9757517576217651,null,0.6747567057609558,0.32248517870903015,null,0.5401562452316284,0.988789975643158,null,0.6358938813209534,0.8810785412788391,null,0.6358938813209534,0.45945772528648376,null,0.8249213695526123,0.8857395648956299,null,0.41117778420448303,0.46611344814300537,null,0.31065821647644043,0.5633944272994995,null,0.04144858196377754,0.08881363272666931,null,0.9950725436210632,0.24737606942653656,null,0.40750470757484436,0.444597989320755,null,0.2889418303966522,0.38252386450767517,null,0.4512597322463989,0.10596508532762527,null,0.3717111647129059,0.5583087205886841,null,0.8734539151191711,0.5479329824447632,null,0.358607679605484,0.6435832381248474,null,0.8236038088798523,0.9915555715560913,null,0.12995359301567078,0.4976353347301483,null,0.3046857714653015,0.3481851816177368,null,0.14044684171676636,0.8710953593254089,null,0.6369039416313171,0.26277557015419006,null,0.14340336620807648,0.4025057554244995,null,0.656446099281311,0.704910933971405,null,0.880395770072937,0.499642014503479,null,0.6259750723838806,0.7569513916969299,null,0.5374687314033508,0.928257167339325,null,0.6628623008728027,0.14506806433200836,null,0.31321942806243896,0.08990708738565445,null,0.31321942806243896,0.09683550894260406,null,0.34553778171539307,0.3836164176464081,null,0.9248358607292175,0.17244982719421387,null,0.24464553594589233,0.3938579559326172,null,0.7040814161300659,0.5608109831809998,null,0.5052224397659302,0.9736566543579102,null,0.41134729981422424,0.1189286932349205,null,0.721243143081665,0.3340663015842438,null,0.19192539155483246,0.615119993686676,null,0.1140180379152298,0.44074133038520813,null,0.4999377727508545,0.8003921508789062,null,0.06934738159179688,0.23772314190864563,null,0.9300310015678406,0.07805602252483368,null,0.9300310015678406,0.4467891454696655,null,0.6912906169891357,0.08833152800798416,null,0.8914077281951904,0.12410613894462585,null,0.01604720950126648,0.15335655212402344,null,0.5906893610954285,0.3361854553222656,null,0.7389472723007202,0.2563727796077728,null,0.6428990364074707,0.8138098120689392,null,0.5363925695419312,0.6966935992240906,null,0.14787782728672028,0.32683080434799194,null,0.7226260304450989,0.8648513555526733,null,0.7226260304450989,0.33212363719940186,null,0.09790375828742981,0.36891990900039673,null,0.09790375828742981,0.40768301486968994,null,0.2979612350463867,0.8639482259750366,null,0.42484572529792786,0.3667280673980713,null,0.15650054812431335,0.8025583028793335,null,0.03592353314161301,0.16448193788528442,null,0.8873996138572693,0.28570157289505005,null,0.7411839365959167,0.6322872042655945,null,0.7411839365959167,0.3487321138381958,null,0.0449552945792675,0.39114871621131897,null,0.39244967699050903,0.049362584948539734,null,0.8535286784172058,0.5314208269119263,null,0.8535286784172058,0.11506693065166473,null,0.8008278012275696,0.8006687760353088,null,0.9942952394485474,0.16072052717208862,null,0.8820677399635315,0.044254280626773834,null,0.8922273516654968,0.7075560688972473,null,0.17436203360557556,0.8246288299560547,null,0.9328317642211914,0.3499627113342285,null,0.20875944197177887,0.5456306338310242,null,0.9828475117683411,0.06106208637356758,null,0.8313111662864685,0.4143344759941101,null,0.024841995909810066,0.017285455018281937,null,0.9461915493011475,0.8527438044548035,null,0.09276140481233597,0.8317997455596924,null,0.6812713146209717,0.43981820344924927,null,0.6812713146209717,0.7516802549362183,null,0.31840425729751587,0.08284680545330048,null,0.06941395998001099,0.6851475238800049,null,0.6765413284301758,0.33261916041374207,null,0.589550256729126,0.9825106859207153,null,0.1755332052707672,0.3912239074707031,null,0.1755332052707672,0.9987143278121948,null,0.5990080237388611,0.7627474665641785,null,0.5990080237388611,0.627296507358551,null,0.5990080237388611,0.6256895065307617,null,0.4304898679256439,0.5670024752616882,null,0.706659734249115,0.04088854044675827,null,0.06798754632472992,0.16940738260746002,null,0.36662542819976807,0.9112585186958313,null,0.6961336135864258,0.4424399733543396,null,0.6961336135864258,0.05978025496006012,null,0.6300186514854431,0.5392494201660156,null,0.9922182559967041,0.48232194781303406,null,0.9922182559967041,0.3105021119117737,null,0.9668591618537903,0.1654583215713501,null,0.2609049379825592,0.12459021061658859,null,0.10799162834882736,0.27375417947769165,null,0.4197444021701813,0.011732612736523151,null,0.4197444021701813,0.8012062907218933,null,0.4197444021701813,0.31538626551628113,null,0.4197444021701813,0.8245476484298706,null,0.4197444021701813,0.513131856918335,null,0.4197444021701813,0.5740065574645996,null,0.3865938186645508,0.8515543341636658,null,0.5120285153388977,0.29765868186950684,null,0.40520286560058594,0.3144090175628662,null,0.1278390735387802,0.1696786731481552,null,0.5350604057312012,0.5974160432815552,null,0.07158266007900238,0.37998679280281067,null,0.1078951358795166,0.2273349016904831,null,0.8618274927139282,0.2648128271102905,null,0.795169472694397,0.8205571174621582,null,0.21768425405025482,0.10414253920316696,null,0.21768425405025482,0.14756453037261963,null,0.07490003108978271,0.1374049037694931,null,0.7208970189094543,0.5801147222518921,null,0.9039542078971863,0.22744226455688477,null,0.8581629991531372,0.6011905074119568,null,0.22168196737766266,0.8577291965484619,null,0.19197063148021698,0.02535654976963997,null,0.7552956938743591,0.014918931759893894,null,0.38424399495124817,0.7121760249137878,null,0.03784272447228432,0.14020688831806183,null,0.004698276519775391,0.656086802482605,null,0.3077213168144226,0.5389769673347473,null,0.3077213168144226,0.6026184558868408,null,0.38064855337142944,0.7520033717155457,null,0.45571470260620117,0.2528027296066284,null,0.45571470260620117,0.5123873949050903,null,0.8664763569831848,0.39239439368247986,null,0.5034894347190857,0.38992246985435486,null,0.6985211968421936,0.6166542768478394,null,0.7456430196762085,0.925410270690918,null,0.6377363801002502,0.4392748475074768,null,0.6500264406204224,0.7597975730895996,null,0.6500264406204224,0.47720983624458313,null,0.12878070771694183,0.5718531608581543,null,0.694456160068512,0.072721466422081,null,0.4620956480503082,0.7083691954612732,null,0.21444913744926453,0.4808702766895294,null,0.5293845534324646,0.41359955072402954,null,0.8707037568092346,0.11346606910228729,null,0.31798964738845825,0.38168904185295105,null,0.3276903033256531,0.34562692046165466,null,0.612036406993866,0.5900164842605591,null,0.36407387256622314,0.515834391117096,null,0.5026860237121582,0.5676997900009155,null,0.5114394426345825,0.3728712201118469,null,0.7422571182250977,0.7491346597671509,null,0.8016216158866882,0.6352570056915283,null,0.5633689165115356,0.9666128158569336,null,0.9091997146606445,0.7094634175300598,null,0.9404210448265076,0.5145794749259949,null,0.263852059841156,0.7098613381385803,null,0.16967031359672546,0.1599344164133072,null,0.7817975878715515,0.16882005333900452,null,0.7817975878715515,0.8486630320549011,null,0.7578912377357483,0.4807991087436676,null,0.3859519362449646,0.1050502210855484,null,0.9627417922019958,0.4589754045009613,null,0.7250692844390869,0.02184891887009144,null,0.7395558953285217,0.5744203925132751,null,0.1629852056503296,0.6870367527008057,null,0.3185175061225891,0.6544883251190186,null,0.2442828267812729,0.5307492017745972,null,0.11342872679233551,0.6602979898452759,null,0.01218162290751934,0.6756035089492798,null,0.8790096044540405,0.1779021918773651,null,0.9783791899681091,0.9563388824462891,null,0.5470412969589233,0.48848414421081543,null,0.5790650844573975,0.474016398191452,null,0.5790650844573975,0.575523316860199,null,0.7672461271286011,0.29411786794662476,null,0.9575737118721008,0.17567595839500427,null,0.010741865262389183,0.08212219923734665,null,0.3642615079879761,0.10350687056779861,null,0.05113036558032036,0.9680152535438538,null,0.492920458316803,0.9417674541473389,null,0.40025046467781067,0.23693311214447021,null,0.40025046467781067,0.5545742511749268,null,0.7377564907073975,0.21751588582992554,null,0.8472909331321716,0.5970694422721863,null,0.9515662789344788,0.5898042917251587,null,0.3961999714374542,0.328869491815567,null,0.23724150657653809,0.856515109539032,null,0.056054387241601944,0.7862181663513184,null,0.43877580761909485,0.08217409253120422,null,0.1745646744966507,0.1614244133234024,null,0.6954911947250366,0.12479492276906967,null,0.08316013962030411,0.3753952383995056,null,0.4499456286430359,0.2872469127178192,null,0.11519055813550949,0.39339134097099304,null,0.7346398234367371,0.4209665060043335,null,0.20877714455127716,0.9687590003013611,null,0.015339692123234272,0.5948182344436646,null,0.5289248824119568,0.03735394775867462,null,0.00126922526396811,0.39215609431266785,null,0.3400094211101532,0.9436703324317932,null,0.9111757874488831,0.25039318203926086,null,0.9111757874488831,0.3064606189727783,null,0.9723287224769592,0.9425291419029236,null,0.3840857744216919,0.4136251211166382,null,0.3840857744216919,0.1863015741109848,null,0.6153104901313782,0.5976759195327759,null,0.2966998219490051,0.05595996603369713,null,0.3531814515590668,0.8053852319717407,null,0.9701107740402222,0.5878488421440125,null,0.13870735466480255,0.3619931638240814,null,0.6560775637626648,0.7573215961456299,null,0.5168843269348145,0.7331012487411499,null,0.46166110038757324,0.45385098457336426,null,0.48474517464637756,0.727112352848053,null,0.5764475464820862,0.0719599798321724,null,0.02116181142628193,0.4367295503616333,null,0.02116181142628193,0.7620570659637451,null,0.4907132685184479,0.8315908312797546,null,0.7627217173576355,0.6955938935279846,null,0.9035359621047974,0.3578258454799652,null,0.3128790259361267,0.544037938117981,null,0.6705518364906311,0.6941434741020203,null,0.6705518364906311,0.6119357347488403,null,0.268390417098999,0.5916866660118103,null,0.45417511463165283,0.28619128465652466,null,0.1338958591222763,0.9031829833984375,null,0.12650799751281738,0.12513628602027893,null,0.037022560834884644,0.8888369202613831,null,0.10363851487636566,0.26680704951286316,null,0.23816053569316864,0.6249802112579346,null,0.35395488142967224,0.4120730757713318,null,0.4354754388332367,0.805162250995636,null,0.19637663662433624,0.7986536622047424,null,0.18536479771137238,0.9263338446617126,null,0.10337406396865845,0.305900901556015,null,0.3670980930328369,0.2219848334789276,null,0.34325215220451355,0.6010576486587524,null,0.8009530901908875,0.177855983376503,null,0.22995562851428986,0.08284937590360641,null,0.3253396451473236,0.2229766547679901,null,0.6724712252616882,0.6822351217269897,null,0.09465117752552032,0.9091496467590332,null,0.027703572064638138,0.7851349115371704,null,0.5332227945327759,0.8733969330787659,null,0.21371100842952728,0.4313879907131195,null,0.7029682397842407,0.41226139664649963,null,0.7029682397842407,0.24615521728992462,null,0.3899545967578888,0.9407569169998169,null,0.8715593218803406,0.8857777118682861,null,0.20637106895446777,0.23900450766086578,null,0.6174433827400208,0.5710144639015198,null,0.18021970987319946,0.7814807295799255,null,0.8803229928016663,0.37633591890335083,null,0.8710052967071533,0.8318928480148315,null,0.5802064538002014,0.6791496276855469,null,0.3672967851161957,0.45147794485092163,null,0.47160854935646057,0.8988326787948608,null,0.35311299562454224,0.796597957611084,null,0.24533648788928986,0.44205114245414734,null,0.24533648788928986,0.8466352224349976,null,0.7634116411209106,0.6503915190696716,null,0.09026958048343658,0.12265020608901978,null,0.6629783511161804,0.9542872905731201,null,0.5603377223014832,0.046208687126636505,null,0.15057304501533508,0.23324713110923767,null,0.005893508903682232,0.8653983473777771,null,0.1800108402967453,0.28372254967689514,null,0.3446952700614929,0.255925714969635,null,0.8864882588386536,0.058247145265340805,null,0.8505135774612427,0.367144376039505,null,0.8034948706626892,0.7124758362770081,null,0.887721598148346,0.5507937669754028,null,0.19775693118572235,0.2937082052230835,null,0.698066771030426,0.8846476078033447,null,0.36361581087112427,0.18186992406845093,null,0.85215824842453,0.4125117063522339,null,0.4042777419090271,0.260491281747818,null,0.4238816797733307,0.5343729853630066,null,0.7652365565299988,0.38686123490333557,null,0.03950510546565056,0.5429896116256714,null,0.9384185075759888,0.05017758160829544,null,0.44632965326309204,0.6475433707237244,null,0.34146028757095337,0.8757917881011963,null,0.22490490972995758,0.9097685813903809,null,0.35272717475891113,0.37621960043907166,null,0.7531003355979919,0.8705329895019531,null,0.6124493479728699,0.04817253351211548,null,0.10293754190206528,0.2759827673435211,null,0.3728395402431488,0.6760393977165222,null,0.43940743803977966,0.048427678644657135,null,0.025716662406921387,0.7708670496940613,null,0.19546236097812653,0.741079568862915,null,0.1228509470820427,0.24177207052707672,null,0.1179831475019455,0.47350484132766724,null,0.7245174050331116,0.31732964515686035,null,0.9183949828147888,0.6616705656051636,null,0.5233834981918335,0.09108883887529373,null,0.5207191109657288,0.557262122631073,null,0.734870433807373,0.30494609475135803,null,0.25174281001091003,0.09630138427019119,null,0.8242604732513428,0.19616112112998962,null,0.4885028600692749,0.9631325602531433,null,0.23377734422683716,0.9965540170669556,null,0.5307519435882568,0.5062603950500488,null,0.4468689560890198,0.04951378330588341,null,0.8510855436325073,0.3054629862308502,null,0.34910741448402405,0.790550947189331,null,0.8651648163795471,0.9478941559791565,null,0.5204254388809204,0.3578340411186218,null,0.3031572103500366,0.46322596073150635,null,0.08713079243898392,0.6714486479759216,null,0.8625618815422058,0.6397550106048584,null,0.0353042371571064,0.327401340007782,null,0.1593821495771408,0.7599802017211914,null,0.023524709045886993,0.0394047349691391,null,0.19688460230827332,0.49986615777015686,null,0.40638625621795654,0.11916915327310562,null,0.4953555166721344,0.25117409229278564,null,0.8681732416152954,0.38404783606529236,null,0.044411253184080124,0.003866318380460143,null,0.6061868071556091,0.07281933724880219,null,0.003507544519379735,0.9863868951797485,null,0.05540300905704498,0.1686147153377533,null,0.5628690719604492,0.02521626651287079,null,0.5797858834266663,0.5106717944145203,null,0.731205403804779,0.5312895178794861,null,0.7681913375854492,0.2951848804950714,null,0.13064704835414886,0.01703181490302086,null,0.10160258412361145,0.5944466590881348,null,0.18585550785064697,0.2983952462673187,null,0.5620495080947876,0.41949892044067383,null,0.8611770272254944,0.2620861828327179,null,0.7959688305854797,0.9804614782333374,null,0.9963241815567017,0.6577286124229431,null,0.7453944683074951,0.45257803797721863,null,0.3614633083343506,0.9483636617660522,null,0.13781364262104034,0.6151190996170044,null,0.5575725436210632,0.4588584005832672,null,0.950097918510437,0.1713002622127533,null,0.4239140450954437,0.8584051728248596,null,0.8232566714286804,0.10296011716127396,null,0.994339108467102,0.10420391708612442,null,0.6971430778503418,0.4180088937282562,null,0.018805844709277153,0.012325589545071125,null,0.07970884442329407,0.04620083048939705,null,0.9043529033660889,0.8653063774108887,null,0.5203999876976013,0.6346669793128967,null,0.08611731231212616,0.7435362935066223,null,0.12544824182987213,0.29779961705207825,null,0.39209434390068054,0.7375124096870422,null,0.2531902492046356,0.8961586356163025,null,0.530389130115509,0.5625080466270447,null,0.054229237139225006,0.6044143438339233,null,0.9447527527809143,0.8379724621772766,null,0.6059863567352295,0.11110540479421616,null,0.8518584966659546,0.06747148185968399,null,0.6779497861862183,0.898353099822998,null,0.6870841979980469,0.27559518814086914,null,0.9384554624557495,0.21150164306163788,null,0.8119803667068481,0.5687254071235657,null,0.691904604434967,0.932284414768219,null,0.24984590709209442,0.6859028339385986,null,0.47247859835624695,0.13871076703071594,null,0.4944145977497101,0.8215582370758057,null,0.5823070406913757,0.5630261301994324,null,0.6533121466636658,0.6806290149688721,null,0.6796075105667114,0.3575199246406555,null,0.09577520936727524,0.36407148838043213,null,0.8802344799041748,0.07683738321065903,null,0.07056107372045517,0.9918795824050903,null,0.748675525188446,0.744330644607544,null,0.5251997709274292,0.33506402373313904,null,0.04491431638598442,0.7097368240356445,null,0.2820126712322235,0.7320392727851868,null,0.4771074056625366,0.7301706671714783,null,0.16328272223472595,0.4776812493801117,null,0.755560040473938,0.3820219337940216,null,0.6488330960273743,0.6578385829925537,null,0.8793513178825378,0.45326074957847595,null,0.7863216996192932,0.5430430769920349,null,0.5451822876930237,0.798428475856781,null,0.6738040447235107,0.3092955946922302,null,0.12335582077503204,0.5306396484375,null,0.5512485504150391,0.2445942759513855,null,0.9673948884010315,0.0912899523973465,null,0.4462822675704956,0.14280739426612854,null,0.12866514921188354,0.918742299079895,null,0.6237693428993225,0.31164729595184326,null,0.35247865319252014,0.42328789830207825,null,0.18900571763515472,0.9751149415969849,null],\"type\":\"scatter\"},{\"marker\":{\"color\":[1,1,6,1,1,1,1,1,2,1,1,1,1,1,1,1,1,1,2,1,1,1,1,1,1,1,1,1,2,1,1,1,3,1,5,1,1,1,2,1,2,1,2,1,7,1,1,1,2,1,1,1,1,1,1,1,2,1,4,1,2,1,1,1,3,1,7,1,2,1,2,1,2,1,2,1,4,1,2,1,1,1,2,1,1,1,1,1,1,2,1,1,1,1,1,1,1,1,1,2,1,1,1,1,1,1,1,1,1,1,2,1,1,1,1,1,1,1,1,1,1,1,2,1,1,1,1,1,2,1,1,1,2,1,1,1,1,2,1,2,1,1,1,1,1,2,1,1,1,1,1,1,1,1,8,1,1,1,3,1,1,1,1,1,1,1,1,1,3,1,1,1,2,1,2,1,1,1,1,1,1,1,1,1,1,1,6,1,1,1,1,1,1,1,4,1,1,1,1,1,3,1,1,1,2,1,1,2,1,1,1,2,1,1,1,1,2,1,1,1,2,1,1,1,3,1,3,1,1,1,2,1,2,1,2,1,1,1,4,1,2,1,5,1,1,1,1,2,1,1,1,1,1,1,9,1,2,1,1,1,1,2,1,1,1,2,1,1,1,1,1,1,1,1,1,1,1,1,1,1,1,1,1,1,1,3,1,1,1,2,1,1,1,1,1,1,1,2,1,1,1,1,1,2,1,5,1,1,1,1,1,1,1,1,1,1,1,1,1,1,1,1,1,1,1,1,2,1,1,1,1,1,1,1,1,1,1,1,1,1,1,1,1,1,1,2,1,1,1,1,1,1,1,1,1,1,1,1,1,1,1,1,1,1,2,2,1,1,1,1,1,2,1,5,1,1,1,1,1,1,1,1,1,1,1,1,1,3,1,2,1,1,1,2,1,1,1,1,1,1,1,1,1,1,1,1,1,1,1,1,1,2,1,1,2,1,1,1,1,1,1,1,2,1,1,1,2,1,4,1,1,1,1,4,1,2,1,1,1,1,1,2,1,1,1,3,1,1,1,1,1,1,1,1,1,1,2,1,1,1,4,1,1,1,1,1,2,1,1,1,3,1,1,3,1,1,1,1,1,1,1,1,1,1,1,1,1,1,1,1,2,1,1,1,1,1,2,1,1,1,1,1,3,1,1,1,1,1,1,1,1,1,1,2,1,1,1,1,1,2,1,1,1,1,1,1,2,1,1,1,1,1,1,1,2,1,1,1,1,1,1,1,1,3,1,1,1,1,1,2,1,1,1,1,1,1,1,2,1,1,1,1,1,1,1,1,1,1,1,1,1,1,1,1,1,1,1,1,1,1,1,1,1,1,2,1,1,1,1,1,1,1,1,1,2,1,3,1,1,1,2,1,1,1,1,1,1,1,1,1,1,1,1,2,1,1,1,1,4,1,1,1,1,1,1,1,1,1,1,1,1,1,1,5,1,1,1,1,1,1,1,4,1,1,1,2,1,1,1,1,1,1,1,1,1,1,1,1,1,1,1,1,1,2,1,1,1,1,1,1,1,1,1,1,1,1,1,1,1,1,1,1,4,1,1,1,1,1,1,4,1,1,1,1,1,1,1,1,1,1,1,1,1,2,1,2,1,1,1,1,1,1,1,3,1,1,1,1,1,1,1,1,2,1,1,1,1,1,1,1,1,1,1,1,1,1,1,1,1,1,2,1,1,1,1,1,1,1,1,1,1,1,1,1,1,1,1,1,1,1,1,1,1,1,1,1,1,1,1,1,1,1,1,1,1,1,1,1,1,1,1,1,1,1,1,1,1,1,1,1,2,1,1,1,1,1,1,1,1,1,1,1,1,1,1,1,1,1,1,1,1,1,1,1,1,1,1,1,1,1,1,1,2,1,1,1,1,1,1,1,1,1,1,1,1,1,1,1,1,1,1,1,1,1,1,2,1,2,1,1,1,1,1,1,1,1,1,1,1,1,1,1,2,1,1,1,1,1,2,1,1,1,1,1,1,1,1,1,1,1,1,1,1,1,1,1,1,1,1,1,1,1,1,1,1,1,1,1,2,1,1,1,1,1,1,1,1,1,2,1,3,1,1,1,1,1,1,1,1,1,1,1,1,1,1,2,1,1,1,2,1,1,1,1,1,1,1,6,1,1,1,1,1,1,1,1,1,1,1,1,1,1,1,1,1,1,1,1,1,1,1,1,1,1,1,1,1,1,1,1,1,2,1,1,1,1,1,1,1,1,1,1,1,1,1,1,1,1,1,1,1,1,1,1,1,1,2,1,1,1,1,1,2,1,1,1,1,1,1,1,1,1,1,1,2,1,1,1,1,1,1,1,1,1,1,1,1,1,1,1,1,1,1,1,1,1,1,1,1,1,1,1,1,1,1,1,1,1,1,1,1,1,1,1,1,1,1,1,1,1,1,1,1,1,1,1,1,2,1,1,1,1,1,1,1,1,1,1,1,1,1,1,1,1,1,1,1,1,1,1,1,1,1,1,1,1,1,1,1,1,1,1,1,1,1,1,1,2,1,1,1,1,1,1,1,1,1,1,1,1,1,1,1,1,1,2,1,1,1,1,1,1,1,1,1,1,1,1,1,1,1,1,1,1,1,1,1,1,1,1,1,1,1,1,1,1,1,1,1,1,1,1,1,1,1,1,1,1,1,1,1,1,2,1,1,1,2,1,1,1,1,1,1,1,1,1,1,1,1,1,1,1,1,1,1,1,1,1,1,1,1,1,2,1,1,1,1,1,1,1,1,1,1,1,1,1,1,2,1,1,1,1,1,1,1,1,1,1,1,1,1,1,1,1,1,1,1,1,1,1,1,1,1,1,1,1,1,1,1,1,1,1,1,1,1,1,1,1,1,1,1,1,1,1,1,1,1,1,1,2,1,1,1,1,1,1,1,1,1,1,1,1,1,1,1,1,1,1,1,1,1,1,1,1,1,1,1,1,2,1,1,1,1,1,1,1,1,1,1,1,1,1,1,1,1,1,1,1,1,1,1,1,1,1,1,1,1,1,1,1,1,1,1,1,1,1,1,1,1,1,1,1,1,1,1,1,1,1,1,1,1,1,1,1,1,1,1,1,1,1,1,1,1,1,1,1,1,1,1,1,1,1,1,1,1,1,1,1,1,1,1,1,1,1,1,1,1,1,1,1,1,1,1,1,1,1,1,1,1,1,1,1,1,1,1,1,1,1,1,1,1,1,1,1,1,1,1,1,1,1,1,1,1,1,1,1,1,1,1,1,1,1,1,1,1,1,1,1,1,1,1,1,1,1,1,1,1,1,1,1,1,1,1,1,1,1,1,1,1,1,1,1,1,1,1,1,1,1,1,1,1,1,1,1,1,1,1,1,1,1,1,1,1,1,1,1,1,1,1,1,1,1,1,1,1,1,1,1,1,1,1,1,1,1,1,1,1,1,1,1,1,1,1,1,1,1,1,1,1,1,1,1,1,1,1,1,1,1,1,1,1,1,1,1,1,1,1,1,1,1,1,1,1,1,1,1,1,1,1,1,1,1,1,1,1,1,1,1,1,1,1,1,1,1,1,1,1,1,1,1,1,1,1,1,1,1,1,1,1,1,1,1,1,1,1,1,1,1,1,1,1,1,1,1,1,1,1,1,1,1,1,1,1,1,1,1,1,1,1,1,1,1,1,1,1],\"colorbar\":{\"thickness\":35,\"title\":{\"side\":\"right\",\"text\":\"Node Connections\"},\"xanchor\":\"left\"},\"colorscale\":[[0.0,\"rgb(103,0,31)\"],[0.1,\"rgb(178,24,43)\"],[0.2,\"rgb(214,96,77)\"],[0.3,\"rgb(244,165,130)\"],[0.4,\"rgb(253,219,199)\"],[0.5,\"rgb(247,247,247)\"],[0.6,\"rgb(209,229,240)\"],[0.7,\"rgb(146,197,222)\"],[0.8,\"rgb(67,147,195)\"],[0.9,\"rgb(33,102,172)\"],[1.0,\"rgb(5,48,97)\"]],\"line\":{\"width\":2},\"reversescale\":false,\"showscale\":true,\"size\":12},\"mode\":\"markers\",\"x\":[0.6577054858207703,0.907243549823761,0.444425106048584,0.9196538925170898,0.38087692856788635,0.10608872771263123,0.8436762690544128,0.4491044282913208,0.10043306648731232,0.13323822617530823,0.6125257015228271,0.8933253288269043,0.5832262635231018,0.7723603844642639,0.4673409163951874,0.09949800372123718,0.2643420398235321,0.7555356621742249,0.7669101357460022,0.8213907480239868,0.831242561340332,0.16189219057559967,0.15402823686599731,0.4820510149002075,0.5872092247009277,0.7589802145957947,0.44725751876831055,0.35113221406936646,0.4218766987323761,0.6713662147521973,0.15155300498008728,0.5644297003746033,0.06830663979053497,0.2984065115451813,0.6445968747138977,0.578679621219635,0.7650106549263,0.47619569301605225,0.29686135053634644,0.8116677403450012,0.3913980722427368,0.7007253170013428,0.49568620324134827,0.49011459946632385,0.8013109564781189,0.14247146248817444,0.49995091557502747,0.6317712068557739,0.6857890486717224,0.6739062666893005,0.6688337326049805,0.9794616103172302,0.9116796255111694,0.060585442930459976,0.983327329158783,0.7712811231613159,0.7174392938613892,0.2145567238330841,0.814775824546814,0.5036919116973877,0.938291609287262,0.23061352968215942,0.45256179571151733,0.8216687440872192,0.4152268171310425,0.4535185694694519,0.4800322651863098,0.4879339039325714,0.6825566291809082,0.2650647759437561,0.038816750049591064,0.9710299968719482,0.11946394294500351,0.9054175019264221,0.8008386492729187,0.3677658140659332,0.3558785617351532,0.049096494913101196,0.01564580202102661,0.1552707701921463,0.908429741859436,0.9046861529350281,0.7853192687034607,0.5151375532150269,0.6956418752670288,0.9062294960021973,0.3505573272705078,0.6383406519889832,0.7561256289482117,0.13075663149356842,0.9089102745056152,0.7498833537101746,0.43746432662010193,0.1273290514945984,0.7034723162651062,0.20070461928844452,0.9753981828689575,0.1373331993818283,0.12337135523557663,0.8453958630561829,0.9051434993743896,0.9757319092750549,0.7788191437721252,0.4433189928531647,0.5286697745323181,0.9652368426322937,0.7791352868080139,0.09949641674757004,0.9576770663261414,0.47727298736572266,0.7410231232643127,0.7243260741233826,0.6407857537269592,0.7492780685424805,0.5014602541923523,0.023844830691814423,0.8485127687454224,0.12737363576889038,0.5681406259536743,0.5753174424171448,0.2279195338487625,0.7839892506599426,0.9253230094909668,0.289457768201828,0.6902313232421875,0.22400711476802826,0.42712488770484924,0.6658381819725037,0.6275442838668823,0.5854777693748474,0.42090511322021484,0.42229992151260376,0.1528915911912918,0.70207679271698,0.6395792961120605,0.45361462235450745,0.6302443146705627,0.13616210222244263,0.5876192450523376,0.3344877362251282,0.5475035905838013,0.11754160374403,0.030423076823353767,0.3929932415485382,0.9251635670661926,0.4677896499633789,0.3803456723690033,0.4736902713775635,0.7648961544036865,0.19981777667999268,0.1180785670876503,0.3940940201282501,0.7399162650108337,0.22896580398082733,0.7229960560798645,0.6406496167182922,0.9489822387695312,0.8774957656860352,0.9044464826583862,0.9005329608917236,0.8361889123916626,0.05606110021471977,0.16381923854351044,0.76607346534729,0.32129159569740295,0.5844186544418335,0.8729897141456604,0.32089123129844666,0.2275083065032959,0.7793110609054565,0.2682914733886719,0.8492283821105957,0.9873592853546143,0.5313478112220764,0.09659776091575623,0.11568030714988708,0.599291980266571,0.2875596582889557,0.4205997884273529,0.15201839804649353,0.4561988115310669,0.652653157711029,0.08258580416440964,0.15607212483882904,0.1770939975976944,0.2427154928445816,0.4003918170928955,0.5263717174530029,0.0604824423789978,0.8647550940513611,0.6549970507621765,0.37111762166023254,0.5704296231269836,0.366060733795166,0.848984956741333,0.09919410943984985,0.2417812943458557,0.053088728338479996,0.10253565013408661,0.8795796036720276,0.5245779752731323,0.8034793734550476,0.269081175327301,0.19940558075904846,0.7643813490867615,0.7513495087623596,0.15427608788013458,0.4955906271934509,0.6530333757400513,0.10636360943317413,0.8786197900772095,0.08709210902452469,0.30464547872543335,0.9409108757972717,0.5902108550071716,0.9583630561828613,0.13181214034557343,0.2257181704044342,0.4675898253917694,0.3816767632961273,0.42895108461380005,0.14713303744792938,0.49829426407814026,0.0017216260312125087,0.8049027323722839,0.48096415400505066,0.4769650101661682,0.7877376675605774,0.5022820830345154,0.17248931527137756,0.7909039258956909,0.0005752248107455671,0.3421069085597992,0.4059508740901947,0.7179501056671143,0.273852676153183,0.5640985369682312,0.5156931281089783,0.7992345690727234,0.44984734058380127,0.7868458032608032,0.597905695438385,0.08429919928312302,0.07410488277673721,0.5352508425712585,0.7345361709594727,0.4330175220966339,0.3306024968624115,0.04819906875491142,0.9896811842918396,0.43225395679473877,0.9914138913154602,0.6440553069114685,0.43385815620422363,0.8380312919616699,0.19958598911762238,0.22064223885536194,0.5401322245597839,0.7282015085220337,0.07178784906864166,0.35753384232521057,0.4610251486301422,0.7570170760154724,0.36288198828697205,0.6892469525337219,0.9432951211929321,0.00473713269457221,0.47863224148750305,0.676698625087738,0.2577666938304901,0.600367546081543,0.8056818842887878,0.41962793469429016,0.4736684560775757,0.7389461994171143,0.8802378177642822,0.3541117310523987,0.7009329199790955,0.06671775877475739,0.07277464866638184,0.36849966645240784,0.5997353792190552,0.35878270864486694,0.6269888281822205,0.06653935462236404,0.4892023205757141,0.8475931882858276,0.0010919723426923156,0.19698312878608704,0.378849595785141,0.11634251475334167,0.8542118668556213,0.20842485129833221,0.6383241415023804,0.3909863829612732,0.37500256299972534,0.12012743949890137,0.5171249508857727,0.6683524250984192,0.985886812210083,0.4681791663169861,0.9953235387802124,0.8453377485275269,0.9764723777770996,0.6614965200424194,0.537007749080658,0.3324359655380249,0.5554693341255188,0.9071509838104248,0.67844158411026,0.241080641746521,0.2831498086452484,0.5189337730407715,0.2859131097793579,0.898496150970459,0.18125225603580475,0.4281836152076721,0.9803761839866638,0.15353524684906006,0.5725812911987305,0.4987882673740387,0.5038716197013855,0.2798980474472046,0.4488394260406494,0.03939640522003174,0.01238961797207594,0.1597403734922409,0.12778840959072113,0.04384233430027962,0.5237381458282471,0.5492907762527466,0.08718156814575195,0.7199768424034119,0.30661287903785706,0.5896106958389282,0.5089089274406433,0.4474846422672272,0.7882779240608215,0.8000081777572632,0.9573352932929993,0.7333052158355713,0.032413776963949203,0.4565284550189972,0.13970352709293365,0.5198857188224792,0.020926838740706444,0.3178747296333313,0.6469836235046387,0.9181798100471497,0.7869619727134705,0.4552535116672516,0.08664610981941223,0.8861259818077087,0.7018986344337463,0.21636012196540833,0.5969690680503845,0.6951536536216736,0.8773762583732605,0.8877373933792114,0.16252627968788147,0.8007659316062927,0.6119241714477539,0.3626362085342407,0.1969568282365799,0.46142444014549255,0.047859273850917816,0.08109362423419952,0.3497908115386963,0.9585369229316711,0.12860892713069916,0.9661761522293091,0.17650973796844482,0.7679440975189209,0.2314860075712204,0.685057520866394,0.948395311832428,0.9216929078102112,0.07508645206689835,0.012943929061293602,0.4417225122451782,0.3034181296825409,0.6317209601402283,0.7955628633499146,0.37190723419189453,0.11824989318847656,0.629250705242157,0.9374088048934937,0.823394775390625,0.5085167288780212,0.6711536049842834,0.9900884032249451,0.2982427179813385,0.4709213078022003,0.6740951538085938,0.6037665605545044,0.759029746055603,0.8135054111480713,0.5484344363212585,0.248300239443779,0.00043562831706367433,0.9467523097991943,0.4763008952140808,0.4459342360496521,0.9303752779960632,0.04535334184765816,0.9870219826698303,0.5457208156585693,0.980882465839386,0.9842760562896729,0.14697594940662384,0.9891422390937805,0.2882932722568512,0.01702127233147621,0.16815508902072906,0.24106045067310333,0.6053422689437866,0.7359381318092346,0.024525931105017662,0.6058666706085205,0.10982251167297363,0.9894733428955078,0.041688840836286545,0.8060152530670166,0.48457351326942444,0.29605311155319214,0.095097117125988,0.16545385122299194,0.5393083095550537,0.25694739818573,0.5678574442863464,0.2723733186721802,0.2024930864572525,0.2923317551612854,0.15098360180854797,0.8941898345947266,0.9914989471435547,0.9937255382537842,0.7541919350624084,0.5228433609008789,0.81663578748703,0.8110713362693787,0.8380194306373596,0.37850937247276306,0.8200433254241943,0.9395674467086792,0.5720052719116211,0.8395163416862488,0.05928187817335129,0.7513669729232788,0.4953119456768036,0.2389499843120575,0.9796291589736938,0.17010053992271423,0.049765799194574356,0.4986107647418976,0.5567878484725952,0.6854789853096008,0.9451914429664612,0.770183265209198,0.8670898079872131,0.7628689408302307,0.8447754979133606,0.6444944143295288,0.8707618117332458,0.41956037282943726,0.6616598963737488,0.15093761682510376,0.23910002410411835,0.6017072796821594,0.4471126198768616,0.10267748683691025,0.8521280884742737,0.06004355102777481,0.0067253089509904385,0.5964415669441223,0.702041506767273,0.9248490333557129,0.7414306998252869,0.8551857471466064,0.24156905710697174,0.5691094994544983,0.05266912654042244,0.027306795120239258,0.7639042735099792,0.9287787079811096,0.782319962978363,0.5214216113090515,0.21289348602294922,0.9856983423233032,0.20599554479122162,0.009731627069413662,0.7025427222251892,0.9453046917915344,0.13724428415298462,0.7605335116386414,0.40466928482055664,0.16588523983955383,0.4458639323711395,0.7567554712295532,0.619242250919342,0.41023075580596924,0.09253107756376266,0.26560649275779724,0.8827217221260071,0.3800499439239502,0.026390409097075462,0.32152509689331055,0.5826666951179504,0.4689745008945465,0.7857956886291504,0.6719193458557129,0.8210067749023438,0.6771670579910278,0.010549236088991165,0.17658255994319916,0.5959683060646057,0.4838137626647949,0.49631211161613464,0.3093380630016327,0.801687479019165,0.6526879072189331,0.495003342628479,0.8790382742881775,0.056850168853998184,0.1677532196044922,0.6729402542114258,0.24431011080741882,0.9763381481170654,0.6127147674560547,0.6332243084907532,0.2373845875263214,0.9506630897521973,0.16852709650993347,0.1548893004655838,0.62675541639328,0.6109855771064758,0.43614399433135986,0.2773749828338623,0.5594205856323242,0.4200710952281952,0.24273455142974854,0.9166786074638367,0.4318963885307312,0.7164058089256287,0.5244901180267334,0.5739121437072754,0.8900603652000427,0.3958057761192322,0.820769190788269,0.01582486741244793,0.522545576095581,0.0049369377084076405,0.2833353877067566,0.7650928497314453,0.11643552780151367,0.5770826935768127,0.7585756182670593,0.5816089510917664,0.2662677764892578,0.7666842937469482,0.8739223480224609,0.07736577093601227,0.3373904824256897,0.19357651472091675,0.478742778301239,0.00779573991894722,0.2521059513092041,0.20104117691516876,0.01832452230155468,0.6005655527114868,0.03876550868153572,0.3636649250984192,0.34591788053512573,0.16505929827690125,0.4328164756298065,0.5683668255805969,0.19744619727134705,0.8587311506271362,0.833422064781189,0.4043138027191162,0.06050970405340195,0.7089137434959412,0.15361171960830688,0.16929849982261658,0.5028098821640015,0.29356059432029724,0.43321603536605835,0.8595271110534668,0.9250686168670654,0.3214176297187805,0.5145106911659241,0.7046439051628113,0.22011873126029968,0.12705069780349731,0.5570458173751831,0.3359459340572357,0.760707437992096,0.8421835899353027,0.46068018674850464,0.5095071196556091,0.35759490728378296,0.29657891392707825,0.37906327843666077,0.9533731341362,0.7379012107849121,0.9476473927497864,0.08268822729587555,0.6818819642066956,0.587451696395874,0.2860706150531769,0.4380909204483032,0.39105311036109924,0.01279262825846672,0.46792536973953247,0.8633739948272705,0.05264139547944069,0.08229359984397888,0.3057010769844055,0.2380378693342209,0.06199551001191139,0.8395193815231323,0.9030007719993591,0.5334015488624573,0.21450400352478027,0.048407163470983505,0.8692348599433899,0.9583031535148621,0.757037878036499,0.3272155821323395,0.15066538751125336,0.6592044234275818,0.273599237203598,0.30255958437919617,0.9450509548187256,0.9246126413345337,0.12349218130111694,0.8521472811698914,0.3833447992801666,0.8232954740524292,0.886827290058136,0.7934145927429199,0.606833279132843,0.6592739224433899,0.030901970341801643,0.9387897849082947,0.4663078784942627,0.7673674821853638,0.8747184872627258,0.03738098964095116,0.6471019387245178,0.004365438595414162,0.18622256815433502,0.3013351559638977,0.7469658255577087,0.12386252731084824,0.5022633671760559,0.755767285823822,0.3782522678375244,0.7242089509963989,0.2895330488681793,0.16964159905910492,0.017475666478276253,0.9371666312217712,0.806994616985321,0.16044385731220245,0.6050679683685303,0.7698845863342285,0.37391114234924316,0.11228881031274796,0.6670941114425659,0.20774240791797638,0.5340984463691711,0.04695804417133331,0.34032881259918213,0.8442679643630981,0.7205396890640259,0.7380306124687195,0.08189701288938522,0.711593747138977,0.27168673276901245,0.45195549726486206,0.5827061533927917,0.9358215928077698,0.2208586186170578,0.6017813682556152,0.40545815229415894,0.5026032328605652,0.48691126704216003,0.6861211657524109,0.27062350511550903,0.13538111746311188,0.656324565410614,0.5058476328849792,0.12225773930549622,0.002060660859569907,0.6355419754981995,0.4677773118019104,0.04569133743643761,0.028927601873874664,0.7080942392349243,0.6567991375923157,0.4565032720565796,0.3059759736061096,0.3858442008495331,0.758022665977478,0.33846667408943176,0.9129571914672852,0.6725675463676453,0.8292942643165588,0.026539675891399384,0.9435264468193054,0.40573611855506897,0.7793304324150085,0.8939911723136902,0.5654457211494446,0.1464754343032837,0.15652331709861755,0.8539667129516602,0.4690830111503601,0.9956977367401123,0.6771324872970581,0.5804460644721985,0.7111210227012634,0.24320998787879944,0.3011457622051239,0.05562505125999451,0.7170183062553406,0.41404685378074646,0.15133477747440338,0.47348877787590027,0.45430272817611694,0.6729727983474731,0.6941887140274048,0.35406777262687683,0.5745177268981934,0.5559254288673401,0.5392391681671143,0.9626399874687195,0.07922825217247009,0.8291324377059937,0.39241766929626465,0.12634985148906708,0.4163267910480499,0.17176038026809692,0.3628435730934143,0.09831263870000839,0.6291882991790771,0.130991131067276,0.19337913393974304,0.7294820547103882,0.1128251776099205,0.5362446308135986,0.9939323663711548,0.7502486705780029,0.7490346431732178,0.8581218123435974,0.038766808807849884,0.7208309173583984,0.5613885521888733,0.4384171664714813,0.35071778297424316,0.051290422677993774,0.1946730613708496,0.9915338754653931,0.18261004984378815,0.8862537145614624,0.6272456049919128,0.06618484854698181,0.9831050038337708,0.3989141881465912,0.6938609480857849,0.7415266633033752,0.4628990888595581,0.42197099328041077,0.09442506730556488,0.148351788520813,0.6125892400741577,0.4946162700653076,0.18099819123744965,0.507079005241394,0.4461027979850769,0.6529847383499146,0.0814262330532074,0.6569474339485168,0.8718428611755371,0.7409552335739136,0.7657245993614197,0.17998497188091278,0.29736876487731934,0.5198485255241394,0.5812870860099792,0.008746103383600712,0.9373748898506165,0.9978632926940918,0.03824317082762718,0.6762738227844238,0.1267259567975998,0.3160846531391144,0.3586926758289337,0.569863498210907,0.7176224589347839,0.7925739288330078,0.7377064824104309,0.08218137174844742,0.8185977339744568,0.30633142590522766,0.22359730303287506,0.03192266449332237,0.8579668402671814,0.6613687872886658,0.6860289573669434,0.18913134932518005,0.5401611924171448,0.65535968542099,0.5438329577445984,0.35178980231285095,0.6634104251861572,0.5645900368690491,0.580305278301239,0.23210065066814423,0.5128215551376343,0.6185522675514221,0.6856030821800232,0.9182009696960449,0.028115471825003624,0.20510394871234894,0.04646420478820801,0.8861576914787292,0.826747477054596,0.08708775043487549,0.6507499814033508,0.6726035475730896,0.8142653703689575,0.566782534122467,0.9584142565727234,0.4654455780982971,0.08224423974752426,0.09012118726968765,0.6603278517723083,0.9541635513305664,0.7421082854270935,0.4948662519454956,0.27577754855155945,0.8775493502616882,0.1097237840294838,0.6216980814933777,0.7720124125480652,0.7473036646842957,0.4656519591808319,0.528089702129364,0.155913308262825,0.6105453968048096,0.9129635691642761,0.7933474779129028,0.4933720827102661,0.3740592896938324,0.984917402267456,0.26890987157821655,0.94000244140625,0.330994576215744,0.15266375243663788,0.4193801283836365,0.3124758303165436,0.29725080728530884,0.6243723630905151,0.05757259577512741,0.3249334394931793,0.4147987365722656,0.38087591528892517,0.6781549453735352,0.1964893937110901,0.3473418951034546,0.47884494066238403,0.2626290023326874,0.16060563921928406,0.7142543792724609,0.1639016717672348,0.5160285234451294,0.12961366772651672,0.4673501253128052,0.7670271396636963,0.30358076095581055,0.9263840317726135,0.7628350853919983,0.8655971884727478,0.31597745418548584,0.5170245170593262,0.7381985783576965,0.9104127287864685,0.7553520202636719,0.6555454134941101,0.02415475621819496,0.06070912629365921,0.2871190309524536,0.717850923538208,0.017893435433506966,0.8184841275215149,0.993137776851654,0.23905795812606812,0.04612797498703003,0.262516587972641,0.43269965052604675,0.6604255437850952,0.5500121712684631,0.5678538084030151,0.7506768107414246,0.12453876435756683,0.21636958420276642,0.3605409562587738,0.3289935886859894,0.9008808732032776,0.522134006023407,0.8996052742004395,0.8903728127479553,0.283329576253891,0.37046316266059875,0.3947772979736328,0.7993127107620239,0.5075379610061646,0.1719023436307907,0.550504744052887,0.07635654509067535,0.9533452987670898,0.1486061066389084,0.41418027877807617,0.2362304925918579,0.01610073260962963,0.05422845855355263,0.16986648738384247,0.6856192946434021,0.5183953046798706,0.1742444485425949,0.475300669670105,0.31207510828971863,0.22150291502475739,0.1908341348171234,0.6298027634620667,0.020973673090338707,0.2676227390766144,0.8122639656066895,0.3945005536079407,0.4189453125,0.26264652609825134,0.3153207302093506,0.013973889872431755,0.325700581073761,0.33159345388412476,0.7668136358261108,0.3373873233795166,0.15749850869178772,0.997546911239624,0.8491917252540588,0.09068472683429718,0.3338727355003357,0.09355071187019348,0.41172829270362854,0.354878306388855,0.9191674590110779,0.14709237217903137,0.755285918712616,0.49163639545440674,0.11896930634975433,0.6160436272621155,0.5320698022842407,0.037637434899806976,0.13998663425445557,0.015931053087115288,0.5721613764762878,0.450138121843338,0.5624895095825195,0.07157308608293533,0.14025428891181946,0.41684144735336304,0.7320571541786194,0.5864382386207581,0.5438356399536133,0.3094095289707184,0.16750995814800262,0.08447007089853287,0.021415002644062042,0.6149374842643738,0.6455250382423401,0.7955012321472168,0.14591123163700104,0.1955481618642807,0.22283825278282166,0.046560704708099365,0.5164090394973755,0.2768614590167999,0.5672147870063782,0.3669465482234955,0.06544025242328644,0.8722296357154846,0.8351370096206665,0.87553870677948,0.5913192629814148,0.23525400459766388,0.2828027606010437,0.06209951639175415,0.20931780338287354,0.15373095870018005,0.9816945195198059,0.8831849694252014,0.9343563318252563,0.27209576964378357,0.674768328666687,0.8689221739768982,0.8635042905807495,0.9447261095046997,0.6363039612770081,0.30106836557388306,0.35118937492370605,0.4117720127105713,0.13670387864112854,0.828453779220581,0.4121472239494324,0.7426718473434448,0.768396258354187,0.26829850673675537,0.397879421710968,0.9031938314437866,0.127646341919899,0.2138472944498062,0.5965182185173035,0.9428930878639221,0.9634191393852234,0.5462685823440552,0.42393365502357483,0.820581316947937,0.45725318789482117,0.3889538645744324,0.7173704504966736,0.9814797043800354,0.47418326139450073,0.2421821653842926,0.4936066269874573,0.12645144760608673,0.782758355140686,0.2589608132839203,0.30039623379707336,0.3350546360015869,0.5336835384368896,0.8960177898406982,0.973348081111908,0.41637152433395386,0.9897084832191467,0.5582833290100098,0.9543976187705994,0.9349287748336792,0.06539336591959,0.45388689637184143,0.8318282961845398,0.7614930272102356,0.5138652920722961,0.4978182911872864,0.3355844020843506,0.8284040689468384,0.6340168714523315,0.7469413876533508,0.105750672519207,0.4582914412021637,0.7261499166488647,0.3504868745803833,0.4245373010635376,0.3910254240036011,0.26332950592041016,0.14209230244159698,0.2726440131664276,0.013849847950041294,0.882063627243042,0.705339789390564,0.20131324231624603,0.060195647180080414,0.04866144061088562,0.5309895873069763,0.31792861223220825,0.3544180393218994,0.43578800559043884,0.6059651374816895,0.548548698425293,0.2850314974784851,0.2768509089946747,0.8314692974090576,0.08887536823749542,0.7216231822967529,0.9052219390869141,0.7294915318489075,0.7689588665962219,0.15463677048683167,0.2656868100166321,0.17145860195159912,0.7917084693908691,0.43025365471839905,0.6909708380699158,0.39417701959609985,0.5371379852294922,0.3001821041107178,0.12736056745052338,0.8950685262680054,0.3866484463214874,0.01878543756902218,0.7426575422286987,0.5524334907531738,0.28675782680511475,0.4834405779838562,0.28406864404678345,0.6568074226379395,0.7533100843429565,0.7111309766769409,0.7150589227676392,0.9335024952888489,0.2471381574869156,0.36183902621269226,0.42382699251174927,0.8342372179031372,0.3321800231933594,0.2323140799999237,0.27610617876052856,0.07387267798185349,0.7494415640830994,0.7936163544654846,0.023694824427366257,0.951492965221405,0.34032773971557617,0.7154824733734131,0.40380921959877014,0.32561418414115906,0.19765959680080414,0.8626255393028259,0.8360708355903625,0.8041328191757202,0.8873905539512634,0.40847548842430115,0.5380942225456238,0.19139604270458221,0.16442641615867615,0.7718822360038757,0.3935757279396057,0.2521636486053467,0.03202773258090019,0.5192493796348572,0.1496945023536682,0.8303107619285583,0.6649633646011353,0.28394627571105957,0.04691014438867569,0.5746069550514221,0.9780585765838623,0.23353485763072968,0.6232873201370239,0.34704095125198364,0.969260573387146,0.8539062738418579,0.622348427772522,0.1647638976573944,0.749899685382843,0.9198761582374573,0.22514158487319946,0.2637556195259094,0.6764001846313477,0.31112292408943176,0.33421772718429565,0.6717443466186523,0.4576736390590668,0.6134989857673645,0.13670191168785095,0.11165183037519455,0.391726016998291,0.9164684414863586,0.5089377164840698,0.5129295587539673,0.7352150082588196,0.12225550413131714,0.7130169868469238,0.6581329703330994,0.04880459979176521,0.29588061571121216,0.5806615352630615,0.42770254611968994,0.7259449362754822,0.4175519645214081,0.5697768926620483,0.8552768230438232,0.8607691526412964,0.4485011100769043,0.5873100161552429,0.9468905329704285,0.8097171187400818,0.8485746383666992,0.8922958374023438,0.6508421897888184,0.7031077742576599,0.8313971757888794,0.600872814655304,0.5760871767997742,0.9071175456047058,0.006551137659698725,0.4839439392089844,0.14441876113414764,0.9332095980644226,0.8567230105400085,0.13179105520248413,0.9834738969802856,0.8291633725166321,0.5726699233055115,0.15655985474586487,0.06871822476387024,0.11497356742620468,0.23442724347114563,0.6865431070327759,0.493245393037796,0.6154186129570007,0.35094892978668213,0.4111960530281067,0.9951860308647156,0.20647577941417694,0.7622089385986328,0.7005135416984558,0.8663183450698853,0.9415897727012634,0.18099726736545563,0.23661786317825317,0.46006137132644653,0.9526504874229431,0.13789145648479462,0.7826185822486877,0.4355311989784241,0.07095282524824142,0.1155562624335289,0.9951999187469482,0.5837581753730774,0.5628950595855713,0.897688090801239,0.5913297533988953,0.9819385409355164,0.7672995328903198,0.9631109833717346,0.2911287546157837,0.5233299136161804,0.6330195665359497,0.963833749294281,0.40322035551071167,0.15802031755447388,0.993679940700531,0.020951876416802406,0.7873950600624084,0.16330234706401825,0.05888322368264198,0.8918524384498596,0.20970959961414337,0.895383894443512,0.3837234079837799,0.30331841111183167,0.8559171557426453,0.13762646913528442,0.3816740810871124,0.06122523918747902,0.5617906451225281,0.19852778315544128,0.06305095553398132,0.09831841289997101,0.9419047832489014,0.9339137077331543,0.9961915612220764,0.8431111574172974,0.9104857444763184,0.7155390381813049,0.3431333899497986,0.06750498712062836,0.4229277968406677,0.568074107170105,0.9581706523895264,0.8261299133300781,0.7859358787536621,0.4696965217590332,0.05260409787297249,0.8522193431854248,0.006656443700194359,0.14613045752048492,0.10533607751131058,0.11998327821493149,0.5397607684135437,0.5293713212013245,0.9413713812828064,0.5660122036933899,0.33236655592918396,0.6456778645515442,0.6271409392356873,0.12115418165922165,0.6394572854042053,0.5340494513511658,0.5573546886444092,0.5902257561683655,0.6398293375968933,0.7175712585449219,0.3025527596473694,0.961636483669281,0.19508439302444458,0.916170060634613,0.22532638907432556,0.5356937646865845,0.41376858949661255,0.8787468671798706,0.15301719307899475,0.9395362734794617,0.35191333293914795,0.06678233295679092,0.8273208737373352,0.45740991830825806,0.0343354158103466,0.1681423783302307,0.12348940968513489,0.9684422016143799,0.6465262770652771,0.7628315091133118,0.2661935091018677,0.4339602291584015,0.7997485399246216,0.10081532597541809,0.5862215757369995,0.4074578881263733,0.4846230745315552,0.46085381507873535,0.16880610585212708,0.9405207633972168,0.3532531261444092,0.8963486552238464,0.9637696743011475,0.5725381374359131,0.9982317686080933,0.7153692841529846,0.11288979649543762,0.573560357093811,0.6951503157615662,0.521847128868103,0.6525629758834839,0.7779698967933655,0.9429301619529724,0.5735266208648682,0.983731210231781,0.544540286064148,0.9547119140625,0.4273747503757477,0.9989634156227112,0.8762692809104919,0.6447467803955078,0.5992160439491272,0.2667275071144104,0.36002475023269653,0.2674265503883362,0.5845330953598022,0.03416469693183899,0.26132869720458984,0.008509505540132523,0.7977270483970642,0.14706405997276306,0.1187816858291626,0.07704177498817444,0.747370183467865,0.17208416759967804,0.5919942855834961,0.18406976759433746,0.6656212210655212,0.5674950480461121,0.06918521970510483,0.13908757269382477,0.847970724105835,0.6811182498931885,0.3243749141693115,0.5185876488685608,0.5534190535545349,0.2776823043823242,0.5340235233306885,0.3590404689311981,0.8080840706825256,0.31867069005966187,0.5729348659515381,0.634552538394928,0.34214624762535095,0.78885418176651,0.8287128806114197,0.2529211938381195,0.3123912811279297,0.4818822145462036,0.041683707386255264,0.12281640619039536,0.35939300060272217,0.35977256298065186,0.39771905541419983,0.40072953701019287,0.09434811770915985,0.8213271498680115,0.17893186211585999,0.10731320828199387,0.12779299914836884,0.7885280251502991,0.742995023727417,0.10060856491327286,0.7844412326812744,0.7189940810203552,0.014082755893468857,0.897322416305542,0.9302502870559692,0.43728116154670715,0.31856122612953186,0.31199923157691956,0.5709733963012695,0.7457083463668823,0.09779421240091324,0.6838349103927612,0.16884838044643402,0.7440029978752136,0.7275637984275818,0.5136474370956421,0.5458658933639526,0.8981574177742004,0.6135435700416565,0.5200555324554443,0.9841114282608032,0.42610520124435425,0.45938536524772644,0.3209191858768463,0.5602626204490662,0.289454847574234,0.11993821710348129,0.8352855443954468,0.5654033422470093,0.9810266494750977,0.28648141026496887,0.2252703309059143,0.7286906242370605,0.3850939869880676,0.47578468918800354,0.07305064797401428,0.032241351902484894,0.3888666033744812,0.11978472024202347,0.7891115546226501,0.5199621915817261,0.18747128546237946,0.03194597736001015,0.5429999828338623,0.13059601187705994,0.3436773419380188,0.1711452454328537,0.7922595143318176,0.3352014422416687,0.27683553099632263,0.26414188742637634,0.5123885869979858,0.0003095705760642886,0.7019473314285278,0.6812273859977722,0.6885963082313538,0.22901007533073425,0.5835472941398621,0.339944988489151,0.03764645755290985,0.784903883934021,0.3127346932888031,0.12280478328466415,0.6589999198913574,0.6136036515235901,0.8773859739303589,0.7493121027946472,0.18764473497867584,0.24097426235675812,0.4970347285270691,0.4859151542186737,0.42038100957870483,0.5935125350952148,0.11580865830183029,0.09753036499023438,0.01951669156551361,0.028442639857530594,0.5231029391288757,0.4720176160335541,0.9013069868087769,0.22560980916023254,0.8461186289787292,0.642838716506958,0.9169527888298035,0.6240133047103882,0.8659093976020813,0.06626147031784058,0.650903582572937,0.6591748595237732,0.5050742626190186,0.5675269365310669,0.3622567355632782,0.5181831121444702,0.687547504901886,0.8611273765563965,0.7236173152923584,0.008873529732227325,0.6991792321205139,0.4306279420852661,0.9364551901817322,0.3548698425292969,0.28729957342147827,0.11427336186170578,0.9272372722625732,0.3364832401275635,0.6263971924781799,0.8612067699432373,0.5723824501037598,0.3485271632671356,0.9894199371337891,0.33512669801712036,0.9049912691116333,0.3153718113899231,0.422793984413147,0.9122626185417175,0.8410729765892029,0.7803292870521545,0.6351401805877686,0.07089676707983017,0.020958127453923225,0.7806940078735352,0.6683530807495117,0.4270727038383484,0.5757524967193604,0.14704029262065887,0.4385017454624176,0.6673234105110168,0.5601996183395386,0.3431839644908905,0.8520671725273132,0.6390485167503357,0.5872979760169983,0.5505282282829285,0.25272223353385925,0.16891805827617645,0.4192338287830353,0.30349114537239075,0.24947737157344818,0.46865177154541016,0.3055680990219116,0.9286494851112366,0.4199744462966919,0.34986841678619385,0.3204541802406311,0.9965106844902039,0.9653656482696533,0.7469496130943298,0.10158898681402206,0.4966951012611389,0.8304314017295837,0.533394455909729,0.8268442153930664,0.9950460195541382,0.49776431918144226,0.8055404424667358,0.9930076599121094,0.8947163820266724,0.04814282804727554,0.0985003188252449,0.38700294494628906,0.11416324228048325,0.16403843462467194,0.12874466180801392,0.34635841846466064,0.5936607122421265,0.3906790614128113,0.731587290763855,0.04047609865665436,0.795562744140625,0.5307152271270752,0.8102406859397888,0.8464368581771851,0.09736843407154083,0.8283288478851318,0.1681220829486847,0.6739011406898499,0.9729752540588379,0.17403540015220642,0.964442789554596,0.4184384047985077,0.5822959542274475,0.1310783177614212,0.332895964384079,0.842344343662262,0.8857972025871277,0.2932150363922119,0.10845141857862473,0.4674566090106964,0.7325208187103271,0.7484502792358398,0.6697555780410767,0.7213107943534851,0.12754252552986145,0.38734132051467896,0.8645535111427307,0.7334896922111511,0.20741993188858032,0.5762678384780884,0.9784219861030579,0.6127575635910034,0.930443525314331,0.07895927131175995,0.11287187784910202,0.6450895071029663,0.015459700487554073,0.4542948007583618,0.227502703666687,0.6798926591873169,0.0696425661444664,0.11774909496307373,0.723186194896698,0.4854397773742676,0.6877707839012146,0.5948101282119751,0.5572726130485535,0.54219651222229,0.46591293811798096],\"y\":[0.27457624673843384,0.5189391374588013,0.8820690512657166,0.9090334177017212,0.9780303239822388,0.684576690196991,0.7767952084541321,0.8828207850456238,0.21611949801445007,0.7056559920310974,0.23314298689365387,0.79349684715271,0.3815179169178009,0.37273892760276794,0.3730181157588959,0.836012065410614,0.8389622569084167,0.8206523060798645,0.5750598311424255,0.4262629747390747,0.654314398765564,0.529417097568512,0.7536291480064392,0.3529543876647949,0.8601945638656616,0.8480073809623718,0.33133354783058167,0.8276695609092712,0.09450908750295639,0.07951433211565018,0.20069484412670135,0.04961160197854042,0.6076071262359619,0.48496297001838684,0.7163466215133667,0.6720594167709351,0.7952362298965454,0.6879074573516846,0.7989758253097534,0.0588865764439106,0.290242075920105,0.943231999874115,0.8658474087715149,0.19072388112545013,0.9834470748901367,0.7104446887969971,0.0007463632500730455,0.7548609375953674,0.21647663414478302,0.7698698043823242,0.08337754756212234,0.08661889284849167,0.49671071767807007,0.000719760952051729,0.9512887001037598,0.7414034605026245,0.4446685016155243,0.7518667578697205,0.9485415816307068,0.37728726863861084,0.65134197473526,0.7559394836425781,0.25133219361305237,0.015660248696804047,0.5901331901550293,0.8970175385475159,0.3300566077232361,0.37073174118995667,0.9272902607917786,0.9157963395118713,0.2268798053264618,0.1803724765777588,0.8011907935142517,0.5316733717918396,0.9373258352279663,0.0717802569270134,0.7125773429870605,0.528736412525177,0.5812961459159851,0.6697589755058289,0.8374821543693542,0.18315650522708893,0.9849336743354797,0.6583042740821838,0.5511463284492493,0.8366844058036804,0.5884418487548828,0.5945814251899719,0.008413217961788177,0.48179754614830017,0.4073043167591095,0.8472996354103088,0.037080004811286926,0.5872256755828857,0.9089801907539368,0.8735465407371521,0.4638223350048065,0.8652852773666382,0.626815915107727,0.07415099442005157,0.7804548144340515,0.3830788731575012,0.33747902512550354,0.5426687598228455,0.5680086612701416,0.3423701226711273,0.7695682048797607,0.20893239974975586,0.2432091236114502,0.35296300053596497,0.2608744502067566,0.9686295390129089,0.4991050958633423,0.138187974691391,0.24798154830932617,0.9250066876411438,0.4867643117904663,0.6111871004104614,0.6967658400535583,0.23676243424415588,0.11257711797952652,0.23265598714351654,0.9539937376976013,0.8747138977050781,0.03576074168086052,0.15826505422592163,0.6820695996284485,0.46757087111473083,0.8464773893356323,0.6908296346664429,0.6312094926834106,0.2371589094400406,0.7495745420455933,0.4838407039642334,0.5012874007225037,0.462581068277359,0.28645649552345276,0.672981321811676,0.5183795690536499,0.6944218277931213,0.024779099971055984,0.627448558807373,0.17618443071842194,0.9902327060699463,0.4650997817516327,0.38997459411621094,0.09534738212823868,0.8265162706375122,0.572981059551239,0.12664027512073517,0.9771104454994202,0.3962183892726898,0.6632586717605591,0.052299391478300095,0.12712185084819794,0.7671799063682556,0.7656367421150208,0.35481172800064087,0.23048482835292816,0.1514928638935089,0.861517608165741,0.10595652461051941,0.15582695603370667,0.6135384440422058,0.8333516716957092,0.4086780250072479,0.33403584361076355,0.6631810665130615,0.7099742293357849,0.664914071559906,0.9232512712478638,0.5563370585441589,0.820438802242279,0.24092519283294678,0.7632837295532227,0.5341032147407532,0.348012775182724,0.04343598335981369,0.9259284138679504,0.8767805099487305,0.4153567850589752,0.5397530198097229,0.09538817405700684,0.20342408120632172,0.33174431324005127,0.28167295455932617,0.4085102677345276,0.5979806780815125,0.28050366044044495,0.5567389130592346,0.28160566091537476,0.8699339032173157,0.3574802279472351,0.3552601933479309,0.23753722012043,0.5246142745018005,0.024924393743276596,0.32802093029022217,0.2523998022079468,0.5156765580177307,0.7128536701202393,0.6559239029884338,0.1578395962715149,0.43283969163894653,0.10529719293117523,0.2429608255624771,0.33668071031570435,0.8298001289367676,0.2925207018852234,0.267780601978302,0.22526070475578308,0.08758635818958282,0.7892767786979675,0.3397943377494812,0.18860389292240143,0.6598532199859619,0.8173909187316895,0.8427780866622925,0.7571407556533813,0.9822795391082764,0.9811097383499146,0.08666164427995682,0.1063901036977768,0.8063439726829529,0.4245170056819916,0.39342251420021057,0.3766734302043915,0.3618204891681671,0.8766725063323975,0.4380766749382019,0.8579815626144409,0.2691587805747986,0.5576488375663757,0.4723641574382782,0.5809316635131836,0.8319850564002991,0.06513688713312149,0.15092387795448303,0.6827839612960815,0.9943482279777527,0.5375263690948486,0.9131960868835449,0.5010465979576111,0.7937058806419373,0.7023679614067078,0.6330544948577881,0.6046562194824219,0.7246906161308289,0.6776354908943176,0.027484793215990067,0.36315903067588806,0.5567930936813354,0.3551172614097595,0.7849501967430115,0.37732571363449097,0.9668610095977783,0.879043459892273,0.28452810645103455,0.049793414771556854,0.5052154064178467,0.15382839739322662,0.6796188950538635,0.5021437406539917,0.9086436033248901,0.2122146338224411,0.984878659248352,0.7899489998817444,0.26136016845703125,0.3877541422843933,0.7708555459976196,0.6074672341346741,0.7684779167175293,0.39194267988204956,0.7287877798080444,0.6449236273765564,0.05563385412096977,0.21350747346878052,0.5921214818954468,0.6903252005577087,0.4003164768218994,0.9593049883842468,0.24724340438842773,0.4019310176372528,0.1236419603228569,0.21199572086334229,0.17828057706356049,0.47959086298942566,0.9359007477760315,0.547452449798584,0.23848353326320648,0.3409470021724701,0.5905942916870117,0.9946622252464294,0.975082278251648,0.5664002299308777,0.041427478194236755,0.5052517056465149,0.2695179283618927,0.18872423470020294,0.4276564121246338,0.4197256565093994,0.10393703728914261,0.6855761408805847,0.17323541641235352,0.8814436793327332,0.8773350119590759,0.05712296441197395,0.13996317982673645,0.7995678186416626,0.6890710592269897,0.6894849538803101,0.5877598524093628,0.21940284967422485,0.6730929613113403,0.5343226194381714,0.12677517533302307,0.7784408330917358,0.7279002070426941,0.7525483965873718,0.6578168869018555,0.05176136642694473,0.4531756639480591,0.8196905255317688,0.19685786962509155,0.6765568256378174,0.07987260073423386,0.27666887640953064,0.3923432528972626,0.8337807655334473,0.15362073481082916,0.021465472877025604,0.03128644451498985,0.7907871603965759,0.017776329070329666,0.8349586129188538,0.9594923853874207,0.46189412474632263,0.8419275283813477,0.426961749792099,0.680340051651001,0.9030352830886841,0.023592578247189522,0.1960911899805069,0.8820042610168457,0.028888344764709473,0.8719931244850159,0.47753748297691345,0.20236998796463013,0.7056376338005066,0.24982672929763794,0.892733633518219,0.7028857469558716,0.04902829974889755,0.03296375274658203,0.47141551971435547,0.7123399376869202,0.8748080730438232,0.16296318173408508,0.918231725692749,0.6743228435516357,0.7039031982421875,0.8851823210716248,0.9722107648849487,0.5502196550369263,0.9223935604095459,0.6841025352478027,0.7874428033828735,0.16309839487075806,0.8567504286766052,0.00983485858887434,0.9977872967720032,0.2511020600795746,0.5042087435722351,0.0055848886258900166,0.4373399615287781,0.7272080779075623,0.8305943608283997,0.5679419636726379,0.7942475080490112,0.5197182297706604,0.16015993058681488,0.04672715812921524,0.8428232073783875,0.058469101786613464,0.9852597117424011,0.8381572961807251,0.08544760942459106,0.9273326396942139,0.9909194111824036,0.975291907787323,0.8070480227470398,0.4659354090690613,0.9780978560447693,0.42219236493110657,0.8106733560562134,0.8073450922966003,0.9588878154754639,0.4149739742279053,0.3763009011745453,0.3022255301475525,0.48849985003471375,0.24921667575836182,0.23916780948638916,0.9987796545028687,0.4724499583244324,0.3114458918571472,0.09635637700557709,0.3930823802947998,0.9073502421379089,0.5449348092079163,0.12714111804962158,0.009270834736526012,0.3818826675415039,0.7941285371780396,0.5388228893280029,0.1836601048707962,0.6386711001396179,0.615185022354126,0.6382780075073242,0.4329850971698761,0.4408363401889801,0.5014368295669556,0.6215608716011047,0.11645247042179108,0.7823068499565125,0.4389088451862335,0.6209261417388916,0.6628494262695312,0.9502614140510559,0.5743097066879272,0.7092000842094421,0.45584386587142944,0.08682238310575485,0.0937766283750534,0.20507687330245972,0.9904190301895142,0.9961110353469849,0.5607050061225891,0.8726390600204468,0.7784795165061951,0.5329385995864868,0.5291544795036316,0.6712999939918518,0.4732641577720642,0.8723293542861938,0.9411953091621399,0.9209635853767395,0.5442785024642944,0.4727381467819214,0.6848440170288086,0.36250412464141846,0.4855184555053711,0.9781484007835388,0.22437241673469543,0.8034732341766357,0.8843165636062622,0.8816104531288147,0.13886788487434387,0.10641664266586304,0.5575147867202759,0.49181482195854187,0.4543609321117401,0.05785572901368141,0.43186524510383606,0.02331933006644249,0.12646637856960297,0.9422962665557861,0.03720860183238983,0.5140811204910278,0.3166438043117523,0.9247736930847168,0.2076185643672943,0.6610894203186035,0.4337615966796875,0.7766847610473633,0.25018611550331116,0.03502292558550835,0.37969422340393066,0.5596776604652405,0.6125003695487976,0.9633743762969971,0.956678032875061,0.22508275508880615,0.18647918105125427,0.8667987585067749,0.3991769850254059,0.22523756325244904,0.05262758582830429,0.9434467554092407,0.6642429232597351,0.5197032690048218,0.07527250051498413,0.9399541616439819,0.7718679308891296,0.7130721807479858,0.3946875035762787,0.0988612174987793,0.7909210324287415,0.1468150019645691,0.2716338038444519,0.001523942919448018,0.8855713605880737,0.30656322836875916,0.5817616581916809,0.5040667057037354,0.2577367126941681,0.9832991361618042,0.4475444555282593,0.8365758657455444,0.10544141381978989,0.9033870697021484,0.24303802847862244,0.5692645311355591,0.4155900478363037,0.25789016485214233,0.19407150149345398,0.5042588114738464,0.06542887538671494,0.9421002864837646,0.7587367296218872,0.9076042175292969,0.030715659260749817,0.9581248164176941,0.1809786856174469,0.7997564077377319,0.42290687561035156,0.9546260237693787,0.44364133477211,0.8304985165596008,0.7095315456390381,0.7132352590560913,0.6962467432022095,0.6564730405807495,0.054652344435453415,0.5652168393135071,0.6624113321304321,0.838965117931366,0.3069252073764801,0.31561383605003357,0.39471176266670227,0.39044421911239624,0.6348171234130859,0.4509407877922058,0.9451742768287659,0.9955922961235046,0.8129862546920776,0.15336234867572784,0.29183804988861084,0.2725181579589844,0.1592877358198166,0.8114874958992004,0.9269788265228271,0.6110857725143433,0.11979759484529495,0.8263934850692749,0.18205183744430542,0.594317615032196,0.2572724223136902,0.0005460482207126915,0.3749619424343109,0.9494569301605225,0.3001771569252014,0.02645634114742279,0.51243656873703,0.7303830981254578,0.9602750539779663,0.4936552941799164,0.3563537299633026,0.9834729433059692,0.22561079263687134,0.4946447014808655,0.1533323973417282,0.9787285923957825,0.6687317490577698,0.9713327288627625,0.3151538074016571,0.3800310492515564,0.6918547749519348,0.2986609637737274,0.17835396528244019,0.2444806843996048,0.7556420564651489,0.22867938876152039,0.9420945644378662,0.6886001229286194,0.8623276352882385,0.048117924481630325,0.8705548048019409,0.9207859039306641,0.19418403506278992,0.14737795293331146,0.792603075504303,0.9454966187477112,0.2669726312160492,0.8957636952400208,0.4022253453731537,0.13073526322841644,0.5921531319618225,0.9191548824310303,0.14356358349323273,0.44814532995224,0.20024433732032776,0.9844287633895874,0.15047195553779602,0.3621390461921692,0.486174076795578,0.04759036749601364,0.08096402138471603,0.9184611439704895,0.6438308358192444,0.30971023440361023,0.11407056450843811,0.1982990801334381,0.955011248588562,0.4615721106529236,0.32764312624931335,0.8673329949378967,0.5685651898384094,0.9556261301040649,0.5586485266685486,0.6990309357643127,0.8160019516944885,0.3891218304634094,0.33681851625442505,0.9669976234436035,0.03019026666879654,0.6755644083023071,0.3753063380718231,0.8167017102241516,0.022352324798703194,0.18185336887836456,0.4703100621700287,0.16097939014434814,0.13474911451339722,0.8290157914161682,0.6481794714927673,0.8628309965133667,0.2456737905740738,0.6068828701972961,0.05390224978327751,0.5452722907066345,0.9793693423271179,0.013179345056414604,0.4070431590080261,0.9622458815574646,0.2786353826522827,0.10427810251712799,0.12760372459888458,0.9451552033424377,0.06626883894205093,0.08719862252473831,0.46044453978538513,0.8264529705047607,0.5167571902275085,0.34693849086761475,0.7071144580841064,0.9669129848480225,0.2932372987270355,0.9243783950805664,0.3050265610218048,0.5400840044021606,0.35040679574012756,0.013203673996031284,0.6105401515960693,0.04906739667057991,0.5622566342353821,0.10073753446340561,0.9493663311004639,0.5265466570854187,0.9124050140380859,0.03630024939775467,0.6058183312416077,0.2385915219783783,0.21653245389461517,0.36967113614082336,0.5448288917541504,0.794921875,0.461799681186676,0.33484286069869995,0.7811368703842163,0.8356152176856995,0.6684267520904541,0.4210812449455261,0.4481833577156067,0.4160691499710083,0.15719202160835266,0.040379442274570465,0.8208191394805908,0.8385710716247559,0.35188013315200806,0.7985097169876099,0.04559550806879997,0.9365370273590088,0.36568939685821533,0.6257374882698059,0.9781119227409363,0.021764280274510384,0.15398545563220978,0.18423113226890564,0.0677594393491745,0.014879521913826466,0.6179172992706299,0.4691484868526459,0.3005564510822296,0.548971951007843,0.8622936010360718,0.5132941603660583,0.7269546985626221,0.7230216860771179,0.89410799741745,0.5351628065109253,0.5532727241516113,0.5954113602638245,0.586659848690033,0.3523370623588562,0.20810072124004364,0.9813390374183655,0.7271697521209717,0.7869537472724915,0.7887587547302246,0.1982557773590088,0.6621202230453491,0.9668156504631042,0.02409169264137745,0.7229481935501099,0.14197443425655365,0.4650583863258362,0.27497705817222595,0.834656298160553,0.8512473106384277,0.7393727898597717,0.09718869626522064,0.6150944232940674,0.8089518547058105,0.9253623485565186,0.9757517576217651,0.6747567057609558,0.32248517870903015,0.5401562452316284,0.988789975643158,0.6358938813209534,0.8810785412788391,0.8249213695526123,0.8857395648956299,0.41117778420448303,0.46611344814300537,0.31065821647644043,0.5633944272994995,0.04144858196377754,0.08881363272666931,0.9950725436210632,0.24737606942653656,0.40750470757484436,0.444597989320755,0.2889418303966522,0.38252386450767517,0.4512597322463989,0.10596508532762527,0.3717111647129059,0.5583087205886841,0.8734539151191711,0.5479329824447632,0.358607679605484,0.6435832381248474,0.8236038088798523,0.9915555715560913,0.12995359301567078,0.4976353347301483,0.3046857714653015,0.3481851816177368,0.14044684171676636,0.8710953593254089,0.6369039416313171,0.26277557015419006,0.14340336620807648,0.4025057554244995,0.656446099281311,0.704910933971405,0.880395770072937,0.499642014503479,0.6259750723838806,0.7569513916969299,0.4805835783481598,0.11321692168712616,0.5374687314033508,0.928257167339325,0.6628623008728027,0.14506806433200836,0.042643435299396515,0.14094401895999908,0.31321942806243896,0.08990708738565445,0.34553778171539307,0.3836164176464081,0.9508655667304993,0.9248358607292175,0.17244982719421387,0.24464553594589233,0.3938579559326172,0.7040814161300659,0.5608109831809998,0.5052224397659302,0.9736566543579102,0.41134729981422424,0.1189286932349205,0.721243143081665,0.3340663015842438,0.8984171152114868,0.19192539155483246,0.615119993686676,0.1140180379152298,0.44074133038520813,0.7377455234527588,0.6531417369842529,0.4999377727508545,0.8003921508789062,0.294262170791626,0.06934738159179688,0.23772314190864563,0.6012564897537231,0.6774559020996094,0.09683550894260406,0.9300310015678406,0.07805602252483368,0.6912906169891357,0.08833152800798416,0.8914077281951904,0.12410613894462585,0.7458625435829163,0.1407182514667511,0.11450427025556564,0.01604720950126648,0.15335655212402344,0.5906893610954285,0.3361854553222656,0.7389472723007202,0.2563727796077728,0.6428990364074707,0.8138098120689392,0.9217871427536011,0.4611826241016388,0.5363925695419312,0.6966935992240906,0.14787782728672028,0.32683080434799194,0.7226260304450989,0.8648513555526733,0.09790375828742981,0.36891990900039673,0.2979612350463867,0.8639482259750366,0.42484572529792786,0.3667280673980713,0.5924437642097473,0.15650054812431335,0.8025583028793335,0.03592353314161301,0.16448193788528442,0.8873996138572693,0.28570157289505005,0.020530182868242264,0.16259366273880005,0.7411839365959167,0.6322872042655945,0.0449552945792675,0.39114871621131897,0.39244967699050903,0.049362584948539734,0.8535286784172058,0.5314208269119263,0.8008278012275696,0.8006687760353088,0.9942952394485474,0.16072052717208862,0.8820677399635315,0.044254280626773834,0.8922273516654968,0.7075560688972473,0.09685474634170532,0.17436203360557556,0.8246288299560547,0.006103551480919123,0.9328317642211914,0.3499627113342285,0.6332265734672546,0.20875944197177887,0.5456306338310242,0.9828475117683411,0.06106208637356758,0.9240747094154358,0.8313111662864685,0.4143344759941101,0.024841995909810066,0.017285455018281937,0.9461915493011475,0.8527438044548035,0.09276140481233597,0.8317997455596924,0.6812713146209717,0.43981820344924927,0.31840425729751587,0.08284680545330048,0.06941395998001099,0.6851475238800049,0.6765413284301758,0.33261916041374207,0.589550256729126,0.9825106859207153,0.1755332052707672,0.3912239074707031,0.5990080237388611,0.7627474665641785,0.4304898679256439,0.5670024752616882,0.9528772830963135,0.12016928941011429,0.8688841462135315,0.26908308267593384,0.706659734249115,0.04088854044675827,0.5063254833221436,0.06798754632472992,0.16940738260746002,0.36662542819976807,0.9112585186958313,0.6961336135864258,0.4424399733543396,0.6300186514854431,0.5392494201660156,0.9922182559967041,0.48232194781303406,0.9668591618537903,0.1654583215713501,0.2609049379825592,0.12459021061658859,0.10799162834882736,0.27375417947769165,0.4197444021701813,0.011732612736523151,0.3865938186645508,0.8515543341636658,0.5120285153388977,0.29765868186950684,0.45390042662620544,0.8571823239326477,0.20861603319644928,0.6798343658447266,0.5991275310516357,0.14734740555286407,0.33808091282844543,0.3126598000526428,0.715231716632843,0.8854950070381165,0.40520286560058594,0.3144090175628662,0.6688666939735413,0.1278390735387802,0.1696786731481552,0.19575235247612,0.5350604057312012,0.5974160432815552,0.07158266007900238,0.37998679280281067,0.9251600503921509,0.1078951358795166,0.2273349016904831,0.9503453373908997,0.8618274927139282,0.2648128271102905,0.795169472694397,0.8205571174621582,0.21768425405025482,0.10414253920316696,0.07490003108978271,0.1374049037694931,0.7208970189094543,0.5801147222518921,0.9039542078971863,0.22744226455688477,0.8581629991531372,0.6011905074119568,0.22168196737766266,0.8577291965484619,0.19197063148021698,0.02535654976963997,0.7493822574615479,0.4015076160430908,0.6660231351852417,0.7552956938743591,0.014918931759893894,0.38424399495124817,0.7121760249137878,0.03784272447228432,0.14020688831806183,0.004698276519775391,0.656086802482605,0.3077213168144226,0.5389769673347473,0.38064855337142944,0.7520033717155457,0.5537066459655762,0.7388694882392883,0.45571470260620117,0.2528027296066284,0.8664763569831848,0.39239439368247986,0.5034894347190857,0.38992246985435486,0.6985211968421936,0.6166542768478394,0.7456430196762085,0.925410270690918,0.6377363801002502,0.4392748475074768,0.6500264406204224,0.7597975730895996,0.12878070771694183,0.5718531608581543,0.9399387836456299,0.05329812690615654,0.5689518451690674,0.3105021119117737,0.05752814561128616,0.694456160068512,0.072721466422081,0.4620956480503082,0.7083691954612732,0.21444913744926453,0.4808702766895294,0.5293845534324646,0.41359955072402954,0.8707037568092346,0.11346606910228729,0.31798964738845825,0.38168904185295105,0.30507197976112366,0.6367708444595337,0.16827517747879028,0.8142143487930298,0.3276903033256531,0.34562692046165466,0.612036406993866,0.5900164842605591,0.36407387256622314,0.515834391117096,0.5026860237121582,0.5676997900009155,0.5114394426345825,0.3728712201118469,0.7714697122573853,0.44509196281433105,0.7422571182250977,0.7491346597671509,0.8016216158866882,0.6352570056915283,0.5633689165115356,0.9666128158569336,0.3021324574947357,0.9091997146606445,0.7094634175300598,0.9404210448265076,0.5145794749259949,0.263852059841156,0.7098613381385803,0.16967031359672546,0.1599344164133072,0.624025821685791,0.7817975878715515,0.16882005333900452,0.7578912377357483,0.4807991087436676,0.3859519362449646,0.1050502210855484,0.44775229692459106,0.8048357367515564,0.9627417922019958,0.4589754045009613,0.7250692844390869,0.02184891887009144,0.7395558953285217,0.5744203925132751,0.1629852056503296,0.6870367527008057,0.8012062907218933,0.6612206697463989,0.3185175061225891,0.6544883251190186,0.33212363719940186,0.4757031500339508,0.2442828267812729,0.5307492017745972,0.2632320523262024,0.3365173041820526,0.11342872679233551,0.6602979898452759,0.01218162290751934,0.6756035089492798,0.8151199817657471,0.8790096044540405,0.1779021918773651,0.5324032306671143,0.9783791899681091,0.9563388824462891,0.6026184558868408,0.5470412969589233,0.48848414421081543,0.31538626551628113,0.5790650844573975,0.474016398191452,0.8310956358909607,0.9443169832229614,0.7672461271286011,0.29411786794662476,0.9575737118721008,0.17567595839500427,0.010741865262389183,0.08212219923734665,0.3642615079879761,0.10350687056779861,0.05113036558032036,0.9680152535438538,0.492920458316803,0.9417674541473389,0.13826148211956024,0.5841792821884155,0.40025046467781067,0.23693311214447021,0.5123873949050903,0.9987143278121948,0.7377564907073975,0.21751588582992554,0.23952025175094604,0.8472909331321716,0.5970694422721863,0.9515662789344788,0.5898042917251587,0.9322328567504883,0.3961999714374542,0.328869491815567,0.23724150657653809,0.856515109539032,0.056054387241601944,0.7862181663513184,0.43877580761909485,0.08217409253120422,0.14756453037261963,0.1745646744966507,0.1614244133234024,0.6954911947250366,0.12479492276906967,0.08316013962030411,0.3753952383995056,0.46544545888900757,0.4499456286430359,0.2872469127178192,0.11519055813550949,0.39339134097099304,0.7346398234367371,0.4209665060043335,0.0905018299818039,0.20877714455127716,0.9687590003013611,0.60504549741745,0.015339692123234272,0.5948182344436646,0.5289248824119568,0.03735394775867462,0.00126922526396811,0.39215609431266785,0.9206830263137817,0.3400094211101532,0.9436703324317932,0.9111757874488831,0.25039318203926086,0.9723287224769592,0.9425291419029236,0.3840857744216919,0.4136251211166382,0.9224544763565063,0.5588316321372986,0.6153104901313782,0.5976759195327759,0.2966998219490051,0.05595996603369713,0.07482027262449265,0.3403732180595398,0.3531814515590668,0.8053852319717407,0.9701107740402222,0.5878488421440125,0.13870735466480255,0.3619931638240814,0.6560775637626648,0.7573215961456299,0.5168843269348145,0.7331012487411499,0.46166110038757324,0.45385098457336426,0.48474517464637756,0.727112352848053,0.5764475464820862,0.0719599798321724,0.02116181142628193,0.4367295503616333,0.24464690685272217,0.11419706046581268,0.4907132685184479,0.8315908312797546,0.7627217173576355,0.6955938935279846,0.7242165803909302,0.9035359621047974,0.3578258454799652,0.7586913704872131,0.4467891454696655,0.3128790259361267,0.544037938117981,0.6705518364906311,0.6941434741020203,0.268390417098999,0.5916866660118103,0.30195388197898865,0.45417511463165283,0.28619128465652466,0.1338958591222763,0.9031829833984375,0.12650799751281738,0.12513628602027893,0.037022560834884644,0.8888369202613831,0.10363851487636566,0.26680704951286316,0.23816053569316864,0.6249802112579346,0.35395488142967224,0.4120730757713318,0.4354754388332367,0.805162250995636,0.16536660492420197,0.19637663662433624,0.7986536622047424,0.18536479771137238,0.9263338446617126,0.8818119764328003,0.10337406396865845,0.305900901556015,0.7434830069541931,0.3670980930328369,0.2219848334789276,0.34325215220451355,0.6010576486587524,0.8009530901908875,0.177855983376503,0.22995562851428986,0.08284937590360641,0.8375561833381653,0.3253396451473236,0.2229766547679901,0.6724712252616882,0.6822351217269897,0.09465117752552032,0.9091496467590332,0.027703572064638138,0.7851349115371704,0.5332227945327759,0.8733969330787659,0.21371100842952728,0.4313879907131195,0.5307504534721375,0.7029682397842407,0.41226139664649963,0.3899545967578888,0.9407569169998169,0.7620570659637451,0.8715593218803406,0.8857777118682861,0.45945772528648376,0.6119357347488403,0.20637106895446777,0.23900450766086578,0.6174433827400208,0.5710144639015198,0.18021970987319946,0.7814807295799255,0.8803229928016663,0.37633591890335083,0.08255554735660553,0.8710052967071533,0.8318928480148315,0.33559781312942505,0.5802064538002014,0.6791496276855469,0.3672967851161957,0.45147794485092163,0.47160854935646057,0.8988326787948608,0.35311299562454224,0.796597957611084,0.24533648788928986,0.44205114245414734,0.16311705112457275,0.7634116411209106,0.6503915190696716,0.09026958048343658,0.12265020608901978,0.6629783511161804,0.9542872905731201,0.5603377223014832,0.046208687126636505,0.15057304501533508,0.23324713110923767,0.7701752781867981,0.005893508903682232,0.8653983473777771,0.1800108402967453,0.28372254967689514,0.05978025496006012,0.2151399850845337,0.8466352224349976,0.3446952700614929,0.255925714969635,0.8864882588386536,0.058247145265340805,0.8505135774612427,0.367144376039505,0.8034948706626892,0.7124758362770081,0.887721598148346,0.5507937669754028,0.19775693118572235,0.2937082052230835,0.5704250931739807,0.698066771030426,0.8846476078033447,0.36361581087112427,0.18186992406845093,0.85215824842453,0.4125117063522339,0.4042777419090271,0.260491281747818,0.4238816797733307,0.5343729853630066,0.7652365565299988,0.38686123490333557,0.03950510546565056,0.5429896116256714,0.9384185075759888,0.05017758160829544,0.44632965326309204,0.6475433707237244,0.575523316860199,0.24615521728992462,0.44444265961647034,0.1863015741109848,0.34146028757095337,0.8757917881011963,0.22490490972995758,0.9097685813903809,0.35272717475891113,0.37621960043907166,0.7531003355979919,0.8705329895019531,0.9364287853240967,0.5503534078598022,0.6124493479728699,0.04817253351211548,0.3064606189727783,0.22709520161151886,0.10293754190206528,0.2759827673435211,0.3728395402431488,0.6760393977165222,0.419440358877182,0.43940743803977966,0.048427678644657135,0.025716662406921387,0.7708670496940613,0.19546236097812653,0.741079568862915,0.8651912808418274,0.1228509470820427,0.24177207052707672,0.1179831475019455,0.47350484132766724,0.7245174050331116,0.31732964515686035,0.5535987615585327,0.9183949828147888,0.6616705656051636,0.5233834981918335,0.09108883887529373,0.1829901933670044,0.07670889049768448,0.5207191109657288,0.557262122631073,0.734870433807373,0.30494609475135803,0.25174281001091003,0.09630138427019119,0.13801324367523193,0.0580209344625473,0.8242604732513428,0.19616112112998962,0.4885028600692749,0.9631325602531433,0.23377734422683716,0.9965540170669556,0.5307519435882568,0.5062603950500488,0.47720983624458313,0.4468689560890198,0.04951378330588341,0.851503849029541,0.8254618644714355,0.8510855436325073,0.3054629862308502,0.34910741448402405,0.790550947189331,0.8651648163795471,0.9478941559791565,0.5204254388809204,0.3578340411186218,0.3031572103500366,0.46322596073150635,0.7290394306182861,0.6771268248558044,0.08713079243898392,0.6714486479759216,0.8625618815422058,0.6397550106048584,0.0353042371571064,0.327401340007782,0.1593821495771408,0.7599802017211914,0.023524709045886993,0.0394047349691391,0.13476550579071045,0.19688460230827332,0.49986615777015686,0.40638625621795654,0.11916915327310562,0.4953555166721344,0.25117409229278564,0.8681732416152954,0.38404783606529236,0.5545742511749268,0.044411253184080124,0.003866318380460143,0.6061868071556091,0.07281933724880219,0.003507544519379735,0.9863868951797485,0.05540300905704498,0.1686147153377533,0.5628690719604492,0.02521626651287079,0.5797858834266663,0.5106717944145203,0.14737708866596222,0.2574957311153412,0.731205403804779,0.5312895178794861,0.7681913375854492,0.2951848804950714,0.39672091603279114,0.13064704835414886,0.01703181490302086,0.10160258412361145,0.5944466590881348,0.627296507358551,0.7516802549362183,0.18585550785064697,0.2983952462673187,0.7995147109031677,0.8245476484298706,0.5620495080947876,0.41949892044067383,0.3487321138381958,0.8611770272254944,0.2620861828327179,0.11506693065166473,0.5713968276977539,0.7083805203437805,0.7959688305854797,0.9804614782333374,0.9963241815567017,0.6577286124229431,0.7453944683074951,0.45257803797721863,0.3614633083343506,0.9483636617660522,0.13781364262104034,0.6151190996170044,0.5575725436210632,0.4588584005832672,0.950097918510437,0.1713002622127533,0.5955303907394409,0.8549186587333679,0.4239140450954437,0.8584051728248596,0.8232566714286804,0.10296011716127396,0.513131856918335,0.34297168254852295,0.994339108467102,0.10420391708612442,0.6971430778503418,0.4180088937282562,0.018805844709277153,0.012325589545071125,0.07970884442329407,0.04620083048939705,0.9043529033660889,0.8653063774108887,0.5203999876976013,0.6346669793128967,0.08611731231212616,0.7435362935066223,0.12544824182987213,0.29779961705207825,0.39209434390068054,0.7375124096870422,0.08706320822238922,0.2531902492046356,0.8961586356163025,0.530389130115509,0.5625080466270447,0.054229237139225006,0.6044143438339233,0.9447527527809143,0.8379724621772766,0.6059863567352295,0.11110540479421616,0.37739500403404236,0.8518584966659546,0.06747148185968399,0.6779497861862183,0.898353099822998,0.6870841979980469,0.27559518814086914,0.39455077052116394,0.9384554624557495,0.21150164306163788,0.15085026621818542,0.8119803667068481,0.5687254071235657,0.40768301486968994,0.691904604434967,0.932284414768219,0.24984590709209442,0.6859028339385986,0.8486630320549011,0.47247859835624695,0.13871076703071594,0.4944145977497101,0.8215582370758057,0.5823070406913757,0.5630261301994324,0.6533121466636658,0.6806290149688721,0.6796075105667114,0.3575199246406555,0.0495348758995533,0.09577520936727524,0.36407148838043213,0.5740065574645996,0.8802344799041748,0.07683738321065903,0.07056107372045517,0.9918795824050903,0.748675525188446,0.744330644607544,0.30619609355926514,0.5251997709274292,0.33506402373313904,0.04491431638598442,0.7097368240356445,0.6256895065307617,0.2820126712322235,0.7320392727851868,0.06721051037311554,0.4771074056625366,0.7301706671714783,0.16328272223472595,0.4776812493801117,0.2597208023071289,0.755560040473938,0.3820219337940216,0.6488330960273743,0.6578385829925537,0.8793513178825378,0.45326074957847595,0.7863216996192932,0.5430430769920349,0.5451822876930237,0.798428475856781,0.6738040447235107,0.3092955946922302,0.12335582077503204,0.5306396484375,0.5512485504150391,0.2445942759513855,0.9673948884010315,0.0912899523973465,0.4462822675704956,0.14280739426612854,0.12866514921188354,0.918742299079895,0.6237693428993225,0.31164729595184326,0.35247865319252014,0.42328789830207825,0.18900571763515472,0.9751149415969849],\"type\":\"scatter\"}],                        {\"annotations\":[{\"showarrow\":false,\"x\":0.005,\"xref\":\"paper\",\"y\":-0.002,\"yref\":\"paper\"}],\"margin\":{\"b\":20,\"l\":5,\"r\":5,\"t\":40},\"showlegend\":false,\"title\":{\"font\":{\"size\":16},\"text\":\"\\u003cbr\\u003eNetwork Graph of Provider & Physician \\n\\n\"},\"xaxis\":{\"showgrid\":false,\"showticklabels\":false,\"zeroline\":false},\"yaxis\":{\"showgrid\":false,\"showticklabels\":false,\"zeroline\":false},\"template\":{\"data\":{\"histogram2dcontour\":[{\"type\":\"histogram2dcontour\",\"colorbar\":{\"outlinewidth\":0,\"ticks\":\"\"},\"colorscale\":[[0.0,\"#0d0887\"],[0.1111111111111111,\"#46039f\"],[0.2222222222222222,\"#7201a8\"],[0.3333333333333333,\"#9c179e\"],[0.4444444444444444,\"#bd3786\"],[0.5555555555555556,\"#d8576b\"],[0.6666666666666666,\"#ed7953\"],[0.7777777777777778,\"#fb9f3a\"],[0.8888888888888888,\"#fdca26\"],[1.0,\"#f0f921\"]]}],\"choropleth\":[{\"type\":\"choropleth\",\"colorbar\":{\"outlinewidth\":0,\"ticks\":\"\"}}],\"histogram2d\":[{\"type\":\"histogram2d\",\"colorbar\":{\"outlinewidth\":0,\"ticks\":\"\"},\"colorscale\":[[0.0,\"#0d0887\"],[0.1111111111111111,\"#46039f\"],[0.2222222222222222,\"#7201a8\"],[0.3333333333333333,\"#9c179e\"],[0.4444444444444444,\"#bd3786\"],[0.5555555555555556,\"#d8576b\"],[0.6666666666666666,\"#ed7953\"],[0.7777777777777778,\"#fb9f3a\"],[0.8888888888888888,\"#fdca26\"],[1.0,\"#f0f921\"]]}],\"heatmap\":[{\"type\":\"heatmap\",\"colorbar\":{\"outlinewidth\":0,\"ticks\":\"\"},\"colorscale\":[[0.0,\"#0d0887\"],[0.1111111111111111,\"#46039f\"],[0.2222222222222222,\"#7201a8\"],[0.3333333333333333,\"#9c179e\"],[0.4444444444444444,\"#bd3786\"],[0.5555555555555556,\"#d8576b\"],[0.6666666666666666,\"#ed7953\"],[0.7777777777777778,\"#fb9f3a\"],[0.8888888888888888,\"#fdca26\"],[1.0,\"#f0f921\"]]}],\"heatmapgl\":[{\"type\":\"heatmapgl\",\"colorbar\":{\"outlinewidth\":0,\"ticks\":\"\"},\"colorscale\":[[0.0,\"#0d0887\"],[0.1111111111111111,\"#46039f\"],[0.2222222222222222,\"#7201a8\"],[0.3333333333333333,\"#9c179e\"],[0.4444444444444444,\"#bd3786\"],[0.5555555555555556,\"#d8576b\"],[0.6666666666666666,\"#ed7953\"],[0.7777777777777778,\"#fb9f3a\"],[0.8888888888888888,\"#fdca26\"],[1.0,\"#f0f921\"]]}],\"contourcarpet\":[{\"type\":\"contourcarpet\",\"colorbar\":{\"outlinewidth\":0,\"ticks\":\"\"}}],\"contour\":[{\"type\":\"contour\",\"colorbar\":{\"outlinewidth\":0,\"ticks\":\"\"},\"colorscale\":[[0.0,\"#0d0887\"],[0.1111111111111111,\"#46039f\"],[0.2222222222222222,\"#7201a8\"],[0.3333333333333333,\"#9c179e\"],[0.4444444444444444,\"#bd3786\"],[0.5555555555555556,\"#d8576b\"],[0.6666666666666666,\"#ed7953\"],[0.7777777777777778,\"#fb9f3a\"],[0.8888888888888888,\"#fdca26\"],[1.0,\"#f0f921\"]]}],\"surface\":[{\"type\":\"surface\",\"colorbar\":{\"outlinewidth\":0,\"ticks\":\"\"},\"colorscale\":[[0.0,\"#0d0887\"],[0.1111111111111111,\"#46039f\"],[0.2222222222222222,\"#7201a8\"],[0.3333333333333333,\"#9c179e\"],[0.4444444444444444,\"#bd3786\"],[0.5555555555555556,\"#d8576b\"],[0.6666666666666666,\"#ed7953\"],[0.7777777777777778,\"#fb9f3a\"],[0.8888888888888888,\"#fdca26\"],[1.0,\"#f0f921\"]]}],\"mesh3d\":[{\"type\":\"mesh3d\",\"colorbar\":{\"outlinewidth\":0,\"ticks\":\"\"}}],\"scatter\":[{\"fillpattern\":{\"fillmode\":\"overlay\",\"size\":10,\"solidity\":0.2},\"type\":\"scatter\"}],\"parcoords\":[{\"type\":\"parcoords\",\"line\":{\"colorbar\":{\"outlinewidth\":0,\"ticks\":\"\"}}}],\"scatterpolargl\":[{\"type\":\"scatterpolargl\",\"marker\":{\"colorbar\":{\"outlinewidth\":0,\"ticks\":\"\"}}}],\"bar\":[{\"error_x\":{\"color\":\"#2a3f5f\"},\"error_y\":{\"color\":\"#2a3f5f\"},\"marker\":{\"line\":{\"color\":\"#E5ECF6\",\"width\":0.5},\"pattern\":{\"fillmode\":\"overlay\",\"size\":10,\"solidity\":0.2}},\"type\":\"bar\"}],\"scattergeo\":[{\"type\":\"scattergeo\",\"marker\":{\"colorbar\":{\"outlinewidth\":0,\"ticks\":\"\"}}}],\"scatterpolar\":[{\"type\":\"scatterpolar\",\"marker\":{\"colorbar\":{\"outlinewidth\":0,\"ticks\":\"\"}}}],\"histogram\":[{\"marker\":{\"pattern\":{\"fillmode\":\"overlay\",\"size\":10,\"solidity\":0.2}},\"type\":\"histogram\"}],\"scattergl\":[{\"type\":\"scattergl\",\"marker\":{\"colorbar\":{\"outlinewidth\":0,\"ticks\":\"\"}}}],\"scatter3d\":[{\"type\":\"scatter3d\",\"line\":{\"colorbar\":{\"outlinewidth\":0,\"ticks\":\"\"}},\"marker\":{\"colorbar\":{\"outlinewidth\":0,\"ticks\":\"\"}}}],\"scattermapbox\":[{\"type\":\"scattermapbox\",\"marker\":{\"colorbar\":{\"outlinewidth\":0,\"ticks\":\"\"}}}],\"scatterternary\":[{\"type\":\"scatterternary\",\"marker\":{\"colorbar\":{\"outlinewidth\":0,\"ticks\":\"\"}}}],\"scattercarpet\":[{\"type\":\"scattercarpet\",\"marker\":{\"colorbar\":{\"outlinewidth\":0,\"ticks\":\"\"}}}],\"carpet\":[{\"aaxis\":{\"endlinecolor\":\"#2a3f5f\",\"gridcolor\":\"white\",\"linecolor\":\"white\",\"minorgridcolor\":\"white\",\"startlinecolor\":\"#2a3f5f\"},\"baxis\":{\"endlinecolor\":\"#2a3f5f\",\"gridcolor\":\"white\",\"linecolor\":\"white\",\"minorgridcolor\":\"white\",\"startlinecolor\":\"#2a3f5f\"},\"type\":\"carpet\"}],\"table\":[{\"cells\":{\"fill\":{\"color\":\"#EBF0F8\"},\"line\":{\"color\":\"white\"}},\"header\":{\"fill\":{\"color\":\"#C8D4E3\"},\"line\":{\"color\":\"white\"}},\"type\":\"table\"}],\"barpolar\":[{\"marker\":{\"line\":{\"color\":\"#E5ECF6\",\"width\":0.5},\"pattern\":{\"fillmode\":\"overlay\",\"size\":10,\"solidity\":0.2}},\"type\":\"barpolar\"}],\"pie\":[{\"automargin\":true,\"type\":\"pie\"}]},\"layout\":{\"autotypenumbers\":\"strict\",\"colorway\":[\"#636efa\",\"#EF553B\",\"#00cc96\",\"#ab63fa\",\"#FFA15A\",\"#19d3f3\",\"#FF6692\",\"#B6E880\",\"#FF97FF\",\"#FECB52\"],\"font\":{\"color\":\"#2a3f5f\"},\"hovermode\":\"closest\",\"hoverlabel\":{\"align\":\"left\"},\"paper_bgcolor\":\"white\",\"plot_bgcolor\":\"#E5ECF6\",\"polar\":{\"bgcolor\":\"#E5ECF6\",\"angularaxis\":{\"gridcolor\":\"white\",\"linecolor\":\"white\",\"ticks\":\"\"},\"radialaxis\":{\"gridcolor\":\"white\",\"linecolor\":\"white\",\"ticks\":\"\"}},\"ternary\":{\"bgcolor\":\"#E5ECF6\",\"aaxis\":{\"gridcolor\":\"white\",\"linecolor\":\"white\",\"ticks\":\"\"},\"baxis\":{\"gridcolor\":\"white\",\"linecolor\":\"white\",\"ticks\":\"\"},\"caxis\":{\"gridcolor\":\"white\",\"linecolor\":\"white\",\"ticks\":\"\"}},\"coloraxis\":{\"colorbar\":{\"outlinewidth\":0,\"ticks\":\"\"}},\"colorscale\":{\"sequential\":[[0.0,\"#0d0887\"],[0.1111111111111111,\"#46039f\"],[0.2222222222222222,\"#7201a8\"],[0.3333333333333333,\"#9c179e\"],[0.4444444444444444,\"#bd3786\"],[0.5555555555555556,\"#d8576b\"],[0.6666666666666666,\"#ed7953\"],[0.7777777777777778,\"#fb9f3a\"],[0.8888888888888888,\"#fdca26\"],[1.0,\"#f0f921\"]],\"sequentialminus\":[[0.0,\"#0d0887\"],[0.1111111111111111,\"#46039f\"],[0.2222222222222222,\"#7201a8\"],[0.3333333333333333,\"#9c179e\"],[0.4444444444444444,\"#bd3786\"],[0.5555555555555556,\"#d8576b\"],[0.6666666666666666,\"#ed7953\"],[0.7777777777777778,\"#fb9f3a\"],[0.8888888888888888,\"#fdca26\"],[1.0,\"#f0f921\"]],\"diverging\":[[0,\"#8e0152\"],[0.1,\"#c51b7d\"],[0.2,\"#de77ae\"],[0.3,\"#f1b6da\"],[0.4,\"#fde0ef\"],[0.5,\"#f7f7f7\"],[0.6,\"#e6f5d0\"],[0.7,\"#b8e186\"],[0.8,\"#7fbc41\"],[0.9,\"#4d9221\"],[1,\"#276419\"]]},\"xaxis\":{\"gridcolor\":\"white\",\"linecolor\":\"white\",\"ticks\":\"\",\"title\":{\"standoff\":15},\"zerolinecolor\":\"white\",\"automargin\":true,\"zerolinewidth\":2},\"yaxis\":{\"gridcolor\":\"white\",\"linecolor\":\"white\",\"ticks\":\"\",\"title\":{\"standoff\":15},\"zerolinecolor\":\"white\",\"automargin\":true,\"zerolinewidth\":2},\"scene\":{\"xaxis\":{\"backgroundcolor\":\"#E5ECF6\",\"gridcolor\":\"white\",\"linecolor\":\"white\",\"showbackground\":true,\"ticks\":\"\",\"zerolinecolor\":\"white\",\"gridwidth\":2},\"yaxis\":{\"backgroundcolor\":\"#E5ECF6\",\"gridcolor\":\"white\",\"linecolor\":\"white\",\"showbackground\":true,\"ticks\":\"\",\"zerolinecolor\":\"white\",\"gridwidth\":2},\"zaxis\":{\"backgroundcolor\":\"#E5ECF6\",\"gridcolor\":\"white\",\"linecolor\":\"white\",\"showbackground\":true,\"ticks\":\"\",\"zerolinecolor\":\"white\",\"gridwidth\":2}},\"shapedefaults\":{\"line\":{\"color\":\"#2a3f5f\"}},\"annotationdefaults\":{\"arrowcolor\":\"#2a3f5f\",\"arrowhead\":0,\"arrowwidth\":1},\"geo\":{\"bgcolor\":\"white\",\"landcolor\":\"#E5ECF6\",\"subunitcolor\":\"white\",\"showland\":true,\"showlakes\":true,\"lakecolor\":\"white\"},\"title\":{\"x\":0.05},\"mapbox\":{\"style\":\"light\"}}}},                        {\"responsive\": true}                    ).then(function(){\n",
              "                            \n",
              "var gd = document.getElementById('726fccc8-f12d-424d-bee0-04602d4042da');\n",
              "var x = new MutationObserver(function (mutations, observer) {{\n",
              "        var display = window.getComputedStyle(gd).display;\n",
              "        if (!display || display === 'none') {{\n",
              "            console.log([gd, 'removed!']);\n",
              "            Plotly.purge(gd);\n",
              "            observer.disconnect();\n",
              "        }}\n",
              "}});\n",
              "\n",
              "// Listen for the removal of the full notebook cells\n",
              "var notebookContainer = gd.closest('#notebook-container');\n",
              "if (notebookContainer) {{\n",
              "    x.observe(notebookContainer, {childList: true});\n",
              "}}\n",
              "\n",
              "// Listen for the clearing of the current output cell\n",
              "var outputEl = gd.closest('.output');\n",
              "if (outputEl) {{\n",
              "    x.observe(outputEl, {childList: true});\n",
              "}}\n",
              "\n",
              "                        })                };                });            </script>        </div>"
            ]
          },
          "metadata": {},
          "output_type": "display_data"
        }
      ],
      "source": [
        "import plotly.graph_objs as go\n",
        "\n",
        "df_plotting = df.sample(n=1_000, random_state=1)\n",
        "\n",
        "H = nx.from_pandas_edgelist(df_plotting, source=source, target = target)\n",
        "pos = nx.random_layout(H)\n",
        "\n",
        "edge_trace = go.Scatter(\n",
        "    x=[],\n",
        "    y=[],\n",
        "    line=dict(width=0.5,color='#010203'),\n",
        "    hoverinfo='none',\n",
        "    mode='lines')\n",
        "\n",
        "for edge in H.edges():\n",
        "    x0, y0 = pos[edge[0]]\n",
        "    x1, y1 = pos[edge[1]]\n",
        "    edge_trace['x'] += tuple([x0, x1, None])\n",
        "    edge_trace['y'] += tuple([y0, y1, None])\n",
        "\n",
        "node_trace = go.Scatter(\n",
        "    x=[],\n",
        "    y=[],\n",
        "    mode='markers',\n",
        "    marker=dict(\n",
        "        showscale=True,\n",
        "        colorscale='RdBu',\n",
        "        reversescale=False,\n",
        "        color=[],\n",
        "        size=12,\n",
        "        colorbar=dict(\n",
        "            thickness=35,\n",
        "            title='Node Connections',\n",
        "            xanchor='left',\n",
        "            titleside='right'\n",
        "        ),\n",
        "        line=dict(width=2)))\n",
        "\n",
        "for node in H.nodes():\n",
        "    x, y = pos[node]\n",
        "    node_trace['x'] += tuple([x])\n",
        "    node_trace['y'] += tuple([y])\n",
        "\n",
        "\n",
        "#add color to node points\n",
        "for node, adjacencies in enumerate(H.adjacency()):\n",
        "    node_trace['marker']['color']+=tuple([len(adjacencies[1])])\n",
        "    node_info = str(adjacencies[0])\n",
        "\n",
        "fig = go.Figure(data=[edge_trace, node_trace],\n",
        "             layout=go.Layout(\n",
        "                title='<br>Network Graph of Provider & Physician \\n\\n',\n",
        "                titlefont=dict(size=16),\n",
        "                showlegend=False,\n",
        "                margin=dict(b=20,l=5,r=5,t=40),\n",
        "                annotations=[ dict(\n",
        "                    showarrow=False,\n",
        "                    xref=\"paper\", yref=\"paper\",\n",
        "                    x=0.005, y=-0.002 ) ],\n",
        "                xaxis=dict(showgrid=False, zeroline=False, showticklabels=False),\n",
        "                yaxis=dict(showgrid=False, zeroline=False, showticklabels=False)))\n",
        "\n",
        "fig.show()\n"
      ]
    },
    {
      "cell_type": "code",
      "execution_count": null,
      "metadata": {
        "execution": {
          "iopub.execute_input": "2023-11-27T05:43:41.810314Z",
          "iopub.status.busy": "2023-11-27T05:43:41.810025Z",
          "iopub.status.idle": "2023-11-27T05:43:43.943355Z",
          "shell.execute_reply": "2023-11-27T05:43:43.942559Z",
          "shell.execute_reply.started": "2023-11-27T05:43:41.810288Z"
        },
        "trusted": true,
        "id": "0WoK1xAqciks"
      },
      "outputs": [],
      "source": [
        "\n",
        "nodes_info_dict = {\n",
        "  'eigenvector_centrality': nx.eigenvector_centrality_numpy,\n",
        "  'pagerank': nx.pagerank\n",
        "}\n",
        "\n",
        "columns_with_node_infos = ['degree'] + list(nodes_info_dict.keys())\n",
        "\n",
        "nodes_info = pd.DataFrame.from_dict(dict(nx.degree(G)), orient='index').rename(columns = {0 : 'degree'}).reset_index()\n",
        "\n",
        "for info, fun in nodes_info_dict.items():\n",
        "    temp = pd.DataFrame.from_dict(fun(G), orient='index').rename(columns = {0 : info}).reset_index()\n",
        "    nodes_info = nodes_info.merge(temp, on='index')\n",
        "\n",
        "nodes_info = nodes_info.rename(columns = {'index': 'Physician'})\n",
        "\n",
        "df_enriched = df.merge(nodes_info, left_on = 'Provider',\n",
        "                           right_on='Physician', how='left').drop('Physician', axis=1)\n",
        "df_enriched.rename(columns = {k:'Provider_'+k for k in columns_with_node_infos}, inplace = True)\n",
        "\n",
        "df_enriched = df_enriched.merge(nodes_info, left_on = 'AttendingPhysician',\n",
        "                           right_on='Physician', how='left').drop('Physician', axis=1)\n",
        "df_enriched.rename(columns = {k:'AttendingPhysician_'+k for k in columns_with_node_infos}, inplace = True)"
      ]
    },
    {
      "cell_type": "code",
      "execution_count": null,
      "metadata": {
        "execution": {
          "iopub.execute_input": "2023-11-27T05:43:43.944754Z",
          "iopub.status.busy": "2023-11-27T05:43:43.944452Z",
          "iopub.status.idle": "2023-11-27T05:43:43.968048Z",
          "shell.execute_reply": "2023-11-27T05:43:43.967082Z",
          "shell.execute_reply.started": "2023-11-27T05:43:43.944729Z"
        },
        "trusted": true,
        "id": "mmWZUnGociks",
        "outputId": "b9602c74-2919-435a-eb90-12bf44991acb"
      },
      "outputs": [
        {
          "data": {
            "text/html": [
              "<div>\n",
              "<style scoped>\n",
              "    .dataframe tbody tr th:only-of-type {\n",
              "        vertical-align: middle;\n",
              "    }\n",
              "\n",
              "    .dataframe tbody tr th {\n",
              "        vertical-align: top;\n",
              "    }\n",
              "\n",
              "    .dataframe thead th {\n",
              "        text-align: right;\n",
              "    }\n",
              "</style>\n",
              "<table border=\"1\" class=\"dataframe\">\n",
              "  <thead>\n",
              "    <tr style=\"text-align: right;\">\n",
              "      <th></th>\n",
              "      <th>BeneID</th>\n",
              "      <th>Provider</th>\n",
              "      <th>ClaimID</th>\n",
              "      <th>InscClaimAmtReimbursed</th>\n",
              "      <th>AttendingPhysician</th>\n",
              "      <th>DeductibleAmtPaid</th>\n",
              "      <th>PotentialFraud</th>\n",
              "      <th>Gender</th>\n",
              "      <th>Race</th>\n",
              "      <th>NoOfMonths_PartACov</th>\n",
              "      <th>...</th>\n",
              "      <th>IPAnnualReimbursementAmt</th>\n",
              "      <th>IPAnnualDeductibleAmt</th>\n",
              "      <th>OPAnnualReimbursementAmt</th>\n",
              "      <th>OPAnnualDeductibleAmt</th>\n",
              "      <th>Provider_degree</th>\n",
              "      <th>Provider_eigenvector_centrality</th>\n",
              "      <th>Provider_pagerank</th>\n",
              "      <th>AttendingPhysician_degree</th>\n",
              "      <th>AttendingPhysician_eigenvector_centrality</th>\n",
              "      <th>AttendingPhysician_pagerank</th>\n",
              "    </tr>\n",
              "  </thead>\n",
              "  <tbody>\n",
              "    <tr>\n",
              "      <th>0</th>\n",
              "      <td>3100000</td>\n",
              "      <td>1057172</td>\n",
              "      <td>4126832</td>\n",
              "      <td>50</td>\n",
              "      <td>2383401</td>\n",
              "      <td>0.0</td>\n",
              "      <td>1</td>\n",
              "      <td>1</td>\n",
              "      <td>1</td>\n",
              "      <td>12</td>\n",
              "      <td>...</td>\n",
              "      <td>0</td>\n",
              "      <td>0</td>\n",
              "      <td>120</td>\n",
              "      <td>30</td>\n",
              "      <td>105</td>\n",
              "      <td>0.025261</td>\n",
              "      <td>0.000560</td>\n",
              "      <td>1</td>\n",
              "      <td>0.000821</td>\n",
              "      <td>0.000006</td>\n",
              "    </tr>\n",
              "    <tr>\n",
              "      <th>1</th>\n",
              "      <td>3100000</td>\n",
              "      <td>1057172</td>\n",
              "      <td>4351838</td>\n",
              "      <td>70</td>\n",
              "      <td>2370909</td>\n",
              "      <td>0.0</td>\n",
              "      <td>1</td>\n",
              "      <td>1</td>\n",
              "      <td>1</td>\n",
              "      <td>12</td>\n",
              "      <td>...</td>\n",
              "      <td>0</td>\n",
              "      <td>0</td>\n",
              "      <td>120</td>\n",
              "      <td>30</td>\n",
              "      <td>105</td>\n",
              "      <td>0.025261</td>\n",
              "      <td>0.000560</td>\n",
              "      <td>1</td>\n",
              "      <td>0.000821</td>\n",
              "      <td>0.000006</td>\n",
              "    </tr>\n",
              "    <tr>\n",
              "      <th>2</th>\n",
              "      <td>3100001</td>\n",
              "      <td>1052145</td>\n",
              "      <td>4626521</td>\n",
              "      <td>10</td>\n",
              "      <td>2430032</td>\n",
              "      <td>0.0</td>\n",
              "      <td>0</td>\n",
              "      <td>1</td>\n",
              "      <td>1</td>\n",
              "      <td>12</td>\n",
              "      <td>...</td>\n",
              "      <td>0</td>\n",
              "      <td>0</td>\n",
              "      <td>2530</td>\n",
              "      <td>540</td>\n",
              "      <td>51</td>\n",
              "      <td>0.023621</td>\n",
              "      <td>0.000280</td>\n",
              "      <td>1</td>\n",
              "      <td>0.000768</td>\n",
              "      <td>0.000006</td>\n",
              "    </tr>\n",
              "    <tr>\n",
              "      <th>3</th>\n",
              "      <td>3100001</td>\n",
              "      <td>1054683</td>\n",
              "      <td>4633318</td>\n",
              "      <td>100</td>\n",
              "      <td>2408282</td>\n",
              "      <td>0.0</td>\n",
              "      <td>0</td>\n",
              "      <td>1</td>\n",
              "      <td>1</td>\n",
              "      <td>12</td>\n",
              "      <td>...</td>\n",
              "      <td>0</td>\n",
              "      <td>0</td>\n",
              "      <td>2530</td>\n",
              "      <td>540</td>\n",
              "      <td>140</td>\n",
              "      <td>0.000059</td>\n",
              "      <td>0.000765</td>\n",
              "      <td>1</td>\n",
              "      <td>0.000002</td>\n",
              "      <td>0.000006</td>\n",
              "    </tr>\n",
              "    <tr>\n",
              "      <th>4</th>\n",
              "      <td>3100001</td>\n",
              "      <td>1054890</td>\n",
              "      <td>4332544</td>\n",
              "      <td>90</td>\n",
              "      <td>2343317</td>\n",
              "      <td>0.0</td>\n",
              "      <td>0</td>\n",
              "      <td>1</td>\n",
              "      <td>1</td>\n",
              "      <td>12</td>\n",
              "      <td>...</td>\n",
              "      <td>0</td>\n",
              "      <td>0</td>\n",
              "      <td>2530</td>\n",
              "      <td>540</td>\n",
              "      <td>54</td>\n",
              "      <td>0.023700</td>\n",
              "      <td>0.000294</td>\n",
              "      <td>1</td>\n",
              "      <td>0.000771</td>\n",
              "      <td>0.000006</td>\n",
              "    </tr>\n",
              "  </tbody>\n",
              "</table>\n",
              "<p>5 rows × 21 columns</p>\n",
              "</div>"
            ],
            "text/plain": [
              "    BeneID  Provider  ClaimID  InscClaimAmtReimbursed  AttendingPhysician   \n",
              "0  3100000   1057172  4126832                      50             2383401  \\\n",
              "1  3100000   1057172  4351838                      70             2370909   \n",
              "2  3100001   1052145  4626521                      10             2430032   \n",
              "3  3100001   1054683  4633318                     100             2408282   \n",
              "4  3100001   1054890  4332544                      90             2343317   \n",
              "\n",
              "   DeductibleAmtPaid  PotentialFraud  Gender  Race  NoOfMonths_PartACov  ...   \n",
              "0                0.0               1       1     1                   12  ...  \\\n",
              "1                0.0               1       1     1                   12  ...   \n",
              "2                0.0               0       1     1                   12  ...   \n",
              "3                0.0               0       1     1                   12  ...   \n",
              "4                0.0               0       1     1                   12  ...   \n",
              "\n",
              "   IPAnnualReimbursementAmt  IPAnnualDeductibleAmt  OPAnnualReimbursementAmt   \n",
              "0                         0                      0                       120  \\\n",
              "1                         0                      0                       120   \n",
              "2                         0                      0                      2530   \n",
              "3                         0                      0                      2530   \n",
              "4                         0                      0                      2530   \n",
              "\n",
              "   OPAnnualDeductibleAmt  Provider_degree  Provider_eigenvector_centrality   \n",
              "0                     30              105                         0.025261  \\\n",
              "1                     30              105                         0.025261   \n",
              "2                    540               51                         0.023621   \n",
              "3                    540              140                         0.000059   \n",
              "4                    540               54                         0.023700   \n",
              "\n",
              "   Provider_pagerank  AttendingPhysician_degree   \n",
              "0           0.000560                          1  \\\n",
              "1           0.000560                          1   \n",
              "2           0.000280                          1   \n",
              "3           0.000765                          1   \n",
              "4           0.000294                          1   \n",
              "\n",
              "   AttendingPhysician_eigenvector_centrality  AttendingPhysician_pagerank  \n",
              "0                                   0.000821                     0.000006  \n",
              "1                                   0.000821                     0.000006  \n",
              "2                                   0.000768                     0.000006  \n",
              "3                                   0.000002                     0.000006  \n",
              "4                                   0.000771                     0.000006  \n",
              "\n",
              "[5 rows x 21 columns]"
            ]
          },
          "execution_count": 14,
          "metadata": {},
          "output_type": "execute_result"
        }
      ],
      "source": [
        "df_enriched.head()"
      ]
    },
    {
      "cell_type": "code",
      "execution_count": null,
      "metadata": {
        "execution": {
          "iopub.execute_input": "2023-11-27T05:44:29.305836Z",
          "iopub.status.busy": "2023-11-27T05:44:29.305430Z",
          "iopub.status.idle": "2023-11-27T05:44:29.312287Z",
          "shell.execute_reply": "2023-11-27T05:44:29.311169Z",
          "shell.execute_reply.started": "2023-11-27T05:44:29.305804Z"
        },
        "trusted": true,
        "id": "d01GwXqZciks",
        "outputId": "0fe354fe-75c8-4c34-9930-f5bd947db413"
      },
      "outputs": [
        {
          "data": {
            "text/plain": [
              "(558211, 21)"
            ]
          },
          "execution_count": 15,
          "metadata": {},
          "output_type": "execute_result"
        }
      ],
      "source": [
        "df_enriched.shape"
      ]
    },
    {
      "cell_type": "code",
      "execution_count": null,
      "metadata": {
        "execution": {
          "iopub.execute_input": "2023-11-27T05:44:30.947007Z",
          "iopub.status.busy": "2023-11-27T05:44:30.946679Z",
          "iopub.status.idle": "2023-11-27T05:44:30.960511Z",
          "shell.execute_reply": "2023-11-27T05:44:30.959603Z",
          "shell.execute_reply.started": "2023-11-27T05:44:30.946971Z"
        },
        "trusted": true,
        "id": "tgHM59PAcikt"
      },
      "outputs": [],
      "source": [
        "def findCommunities(G):\n",
        "    \"\"\"\n",
        "    Partition network with the Infomap algorithm.\n",
        "    Annotates nodes with 'community' id and return number of communities found.\n",
        "    \"\"\"\n",
        "    im = infomap.Infomap(two_level=True, silent=True)\n",
        "\n",
        "    print(\"Building Infomap network from a NetworkX graph...\")\n",
        "    for e in G.edges():\n",
        "        im.addLink(*e)\n",
        "\n",
        "    print(\"Find communities with Infomap...\")\n",
        "    im.run();\n",
        "\n",
        "    print(f\"Found {im.num_top_modules} modules with codelength {im.codelength:.8f} bits\")\n",
        "\n",
        "    communities = {}\n",
        "    for node, module in im.modules:\n",
        "        communities[node] = module\n",
        "\n",
        "    nx.set_node_attributes(G, communities, 'community')\n",
        "\n",
        "    return G\n",
        "\n",
        "def drawNetwork(G):\n",
        "    pos = nx.spectral_layout(I)\n",
        "    communities = [v for k,v in nx.get_node_attributes(I, 'community').items()]\n",
        "    numCommunities = max(communities) + 1\n",
        "    cmapLight = colors.ListedColormap(['#a6cee3', '#b2df8a', '#fb9a99', '#fdbf6f', '#cab2d6'], 'indexed', numCommunities)\n",
        "    cmapDark = colors.ListedColormap(['#1f78b4', '#33a02c', '#e31a1c', '#ff7f00', '#6a3d9a'], 'indexed', numCommunities)\n",
        "\n",
        "    # Draw edges\n",
        "    nx.draw_networkx_edges(I, pos)\n",
        "\n",
        "    # Draw nodes\n",
        "    nodeCollection = nx.draw_networkx_nodes(I,\n",
        "      pos = pos,\n",
        "      node_size=1,\n",
        "      node_color = communities,\n",
        "      cmap = cmapLight\n",
        "    )\n",
        "    darkColors = [cmapDark(v) for v in communities]\n",
        "    nodeCollection.set_edgecolor(darkColors)\n",
        "\n",
        "    plt.axis('off')\n",
        "    plt.xlim(np.vstack(list(pos.values()))[:, 0].min() + 0.01, np.vstack(list(pos.values()))[:, 0].max())\n",
        "    plt.ylim(np.vstack(list(pos.values()))[:, 1].min(), np.vstack(list(pos.values()))[:, 1].max())\n",
        "    plt.show()"
      ]
    },
    {
      "cell_type": "code",
      "execution_count": null,
      "metadata": {
        "execution": {
          "iopub.execute_input": "2023-11-27T05:44:30.961888Z",
          "iopub.status.busy": "2023-11-27T05:44:30.961578Z",
          "iopub.status.idle": "2023-11-27T05:44:32.749969Z",
          "shell.execute_reply": "2023-11-27T05:44:32.748893Z",
          "shell.execute_reply.started": "2023-11-27T05:44:30.961862Z"
        },
        "trusted": true,
        "id": "isvMRNNYcikt",
        "outputId": "83fa850f-4cbe-4461-cb81-817699a234d6"
      },
      "outputs": [
        {
          "name": "stdout",
          "output_type": "stream",
          "text": [
            "Building Infomap network from a NetworkX graph...\n",
            "Find communities with Infomap...\n",
            "Found 4350 modules with codelength 4.48294618 bits\n"
          ]
        }
      ],
      "source": [
        "G = findCommunities(G)"
      ]
    },
    {
      "cell_type": "code",
      "execution_count": null,
      "metadata": {
        "execution": {
          "iopub.execute_input": "2023-11-27T05:44:32.753511Z",
          "iopub.status.busy": "2023-11-27T05:44:32.752816Z",
          "iopub.status.idle": "2023-11-27T05:44:33.341731Z",
          "shell.execute_reply": "2023-11-27T05:44:33.340527Z",
          "shell.execute_reply.started": "2023-11-27T05:44:32.753456Z"
        },
        "trusted": true,
        "id": "_CKpI7_Jcikt",
        "outputId": "780fc158-eb3e-48c6-ea01-9c1a57c3f5d2"
      },
      "outputs": [
        {
          "data": {
            "image/png": "[encoded data removed]",
            "text/plain": [
              "<Figure size 640x480 with 1 Axes>"
            ]
          },
          "metadata": {},
          "output_type": "display_data"
        }
      ],
      "source": [
        "I = G.subgraph(list(H.nodes()))\n",
        "\n",
        "drawNetwork(I)"
      ]
    },
    {
      "cell_type": "code",
      "execution_count": null,
      "metadata": {
        "execution": {
          "iopub.execute_input": "2023-11-27T05:44:33.346277Z",
          "iopub.status.busy": "2023-11-27T05:44:33.345269Z",
          "iopub.status.idle": "2023-11-27T05:44:33.830032Z",
          "shell.execute_reply": "2023-11-27T05:44:33.829007Z",
          "shell.execute_reply.started": "2023-11-27T05:44:33.346239Z"
        },
        "trusted": true,
        "id": "fMUwhc24cikt",
        "outputId": "3f0d28f0-3457-41f5-f643-de5c28f33d42"
      },
      "outputs": [
        {
          "data": {
            "text/html": [
              "<div>\n",
              "<style scoped>\n",
              "    .dataframe tbody tr th:only-of-type {\n",
              "        vertical-align: middle;\n",
              "    }\n",
              "\n",
              "    .dataframe tbody tr th {\n",
              "        vertical-align: top;\n",
              "    }\n",
              "\n",
              "    .dataframe thead th {\n",
              "        text-align: right;\n",
              "    }\n",
              "</style>\n",
              "<table border=\"1\" class=\"dataframe\">\n",
              "  <thead>\n",
              "    <tr style=\"text-align: right;\">\n",
              "      <th></th>\n",
              "      <th>AttendingPhysician</th>\n",
              "      <th>AttendingPhysician_cluster</th>\n",
              "    </tr>\n",
              "  </thead>\n",
              "  <tbody>\n",
              "    <tr>\n",
              "      <th>0</th>\n",
              "      <td>1057172</td>\n",
              "      <td>106</td>\n",
              "    </tr>\n",
              "    <tr>\n",
              "      <th>1</th>\n",
              "      <td>2383401</td>\n",
              "      <td>106</td>\n",
              "    </tr>\n",
              "  </tbody>\n",
              "</table>\n",
              "</div>"
            ],
            "text/plain": [
              "   AttendingPhysician  AttendingPhysician_cluster\n",
              "0             1057172                         106\n",
              "1             2383401                         106"
            ]
          },
          "execution_count": 20,
          "metadata": {},
          "output_type": "execute_result"
        }
      ],
      "source": [
        "df_communities = pd.DataFrame([[k, v]  for k, v in nx.get_node_attributes(G, 'community').items()], columns=[\"AttendingPhysician\", \"AttendingPhysician_cluster\"])\n",
        "df_communities.head(2)"
      ]
    },
    {
      "cell_type": "code",
      "execution_count": null,
      "metadata": {
        "execution": {
          "iopub.execute_input": "2023-11-27T05:44:33.831719Z",
          "iopub.status.busy": "2023-11-27T05:44:33.831283Z",
          "iopub.status.idle": "2023-11-27T05:44:33.844015Z",
          "shell.execute_reply": "2023-11-27T05:44:33.843088Z",
          "shell.execute_reply.started": "2023-11-27T05:44:33.831679Z"
        },
        "trusted": true,
        "id": "3WlHyvqLcikt",
        "outputId": "0ad6c2de-e4b7-49a5-edb0-7cbe05ad1c17"
      },
      "outputs": [
        {
          "name": "stdout",
          "output_type": "stream",
          "text": [
            "<class 'pandas.core.frame.DataFrame'>\n",
            "RangeIndex: 87474 entries, 0 to 87473\n",
            "Data columns (total 2 columns):\n",
            " #   Column                      Non-Null Count  Dtype\n",
            "---  ------                      --------------  -----\n",
            " 0   AttendingPhysician          87474 non-null  int64\n",
            " 1   AttendingPhysician_cluster  87474 non-null  int64\n",
            "dtypes: int64(2)\n",
            "memory usage: 1.3 MB\n"
          ]
        }
      ],
      "source": [
        "df_communities.info()"
      ]
    },
    {
      "cell_type": "code",
      "execution_count": null,
      "metadata": {
        "execution": {
          "iopub.execute_input": "2023-11-27T05:44:33.845953Z",
          "iopub.status.busy": "2023-11-27T05:44:33.845638Z",
          "iopub.status.idle": "2023-11-27T05:44:34.325313Z",
          "shell.execute_reply": "2023-11-27T05:44:34.324390Z",
          "shell.execute_reply.started": "2023-11-27T05:44:33.845927Z"
        },
        "trusted": true,
        "id": "iWzuy6bGcikt",
        "outputId": "662cf9ad-e407-4065-8ecc-eb06680a7eef"
      },
      "outputs": [
        {
          "data": {
            "text/html": [
              "<div>\n",
              "<style scoped>\n",
              "    .dataframe tbody tr th:only-of-type {\n",
              "        vertical-align: middle;\n",
              "    }\n",
              "\n",
              "    .dataframe tbody tr th {\n",
              "        vertical-align: top;\n",
              "    }\n",
              "\n",
              "    .dataframe thead th {\n",
              "        text-align: right;\n",
              "    }\n",
              "</style>\n",
              "<table border=\"1\" class=\"dataframe\">\n",
              "  <thead>\n",
              "    <tr style=\"text-align: right;\">\n",
              "      <th></th>\n",
              "      <th>AttendingPhysician</th>\n",
              "      <th>BeneID</th>\n",
              "      <th>Provider</th>\n",
              "      <th>ClaimID</th>\n",
              "      <th>InscClaimAmtReimbursed</th>\n",
              "      <th>DeductibleAmtPaid</th>\n",
              "      <th>PotentialFraud</th>\n",
              "      <th>Gender</th>\n",
              "      <th>Race</th>\n",
              "      <th>NoOfMonths_PartACov</th>\n",
              "      <th>...</th>\n",
              "      <th>IPAnnualDeductibleAmt</th>\n",
              "      <th>OPAnnualReimbursementAmt</th>\n",
              "      <th>OPAnnualDeductibleAmt</th>\n",
              "      <th>Provider_degree</th>\n",
              "      <th>Provider_eigenvector_centrality</th>\n",
              "      <th>Provider_pagerank</th>\n",
              "      <th>AttendingPhysician_degree</th>\n",
              "      <th>AttendingPhysician_eigenvector_centrality</th>\n",
              "      <th>AttendingPhysician_pagerank</th>\n",
              "      <th>AttendingPhysician_cluster</th>\n",
              "    </tr>\n",
              "  </thead>\n",
              "  <tbody>\n",
              "    <tr>\n",
              "      <th>0</th>\n",
              "      <td>2000000</td>\n",
              "      <td>3100026</td>\n",
              "      <td>1051154</td>\n",
              "      <td>4327937</td>\n",
              "      <td>50</td>\n",
              "      <td>0.0</td>\n",
              "      <td>0</td>\n",
              "      <td>2</td>\n",
              "      <td>2</td>\n",
              "      <td>12</td>\n",
              "      <td>...</td>\n",
              "      <td>0</td>\n",
              "      <td>730</td>\n",
              "      <td>120</td>\n",
              "      <td>4</td>\n",
              "      <td>0.022443</td>\n",
              "      <td>0.000022</td>\n",
              "      <td>905</td>\n",
              "      <td>0.688022</td>\n",
              "      <td>0.003687</td>\n",
              "      <td>3</td>\n",
              "    </tr>\n",
              "    <tr>\n",
              "      <th>1</th>\n",
              "      <td>2000000</td>\n",
              "      <td>3100075</td>\n",
              "      <td>1052723</td>\n",
              "      <td>4381108</td>\n",
              "      <td>0</td>\n",
              "      <td>0.0</td>\n",
              "      <td>0</td>\n",
              "      <td>2</td>\n",
              "      <td>1</td>\n",
              "      <td>12</td>\n",
              "      <td>...</td>\n",
              "      <td>4272</td>\n",
              "      <td>9510</td>\n",
              "      <td>3130</td>\n",
              "      <td>5</td>\n",
              "      <td>0.022467</td>\n",
              "      <td>0.000027</td>\n",
              "      <td>905</td>\n",
              "      <td>0.688022</td>\n",
              "      <td>0.003687</td>\n",
              "      <td>3</td>\n",
              "    </tr>\n",
              "  </tbody>\n",
              "</table>\n",
              "<p>2 rows × 22 columns</p>\n",
              "</div>"
            ],
            "text/plain": [
              "   AttendingPhysician   BeneID  Provider  ClaimID  InscClaimAmtReimbursed   \n",
              "0             2000000  3100026   1051154  4327937                      50  \\\n",
              "1             2000000  3100075   1052723  4381108                       0   \n",
              "\n",
              "   DeductibleAmtPaid  PotentialFraud  Gender  Race  NoOfMonths_PartACov  ...   \n",
              "0                0.0               0       2     2                   12  ...  \\\n",
              "1                0.0               0       2     1                   12  ...   \n",
              "\n",
              "   IPAnnualDeductibleAmt  OPAnnualReimbursementAmt  OPAnnualDeductibleAmt   \n",
              "0                      0                       730                    120  \\\n",
              "1                   4272                      9510                   3130   \n",
              "\n",
              "   Provider_degree  Provider_eigenvector_centrality  Provider_pagerank   \n",
              "0                4                         0.022443           0.000022  \\\n",
              "1                5                         0.022467           0.000027   \n",
              "\n",
              "   AttendingPhysician_degree  AttendingPhysician_eigenvector_centrality   \n",
              "0                        905                                   0.688022  \\\n",
              "1                        905                                   0.688022   \n",
              "\n",
              "   AttendingPhysician_pagerank  AttendingPhysician_cluster  \n",
              "0                     0.003687                           3  \n",
              "1                     0.003687                           3  \n",
              "\n",
              "[2 rows x 22 columns]"
            ]
          },
          "execution_count": 22,
          "metadata": {},
          "output_type": "execute_result"
        }
      ],
      "source": [
        "df_enriched = df_enriched.set_index('AttendingPhysician').join(df_communities.set_index('AttendingPhysician'), how=\"left\", rsuffix='_comm').reset_index()\n",
        "\n",
        "df_enriched.head(2)"
      ]
    },
    {
      "cell_type": "code",
      "execution_count": null,
      "metadata": {
        "execution": {
          "iopub.execute_input": "2023-11-27T05:44:34.326653Z",
          "iopub.status.busy": "2023-11-27T05:44:34.326388Z",
          "iopub.status.idle": "2023-11-27T05:44:34.348280Z",
          "shell.execute_reply": "2023-11-27T05:44:34.347403Z",
          "shell.execute_reply.started": "2023-11-27T05:44:34.326631Z"
        },
        "trusted": true,
        "id": "Fn_A_VZIcikt",
        "outputId": "f8571617-a204-43fb-b1d8-97610e4336a9"
      },
      "outputs": [
        {
          "name": "stdout",
          "output_type": "stream",
          "text": [
            "<class 'pandas.core.frame.DataFrame'>\n",
            "RangeIndex: 558211 entries, 0 to 558210\n",
            "Data columns (total 22 columns):\n",
            " #   Column                                     Non-Null Count   Dtype  \n",
            "---  ------                                     --------------   -----  \n",
            " 0   AttendingPhysician                         558211 non-null  int64  \n",
            " 1   BeneID                                     558211 non-null  int64  \n",
            " 2   Provider                                   558211 non-null  int64  \n",
            " 3   ClaimID                                    558211 non-null  int64  \n",
            " 4   InscClaimAmtReimbursed                     558211 non-null  int64  \n",
            " 5   DeductibleAmtPaid                          557312 non-null  float64\n",
            " 6   PotentialFraud                             558211 non-null  int64  \n",
            " 7   Gender                                     558211 non-null  int64  \n",
            " 8   Race                                       558211 non-null  int64  \n",
            " 9   NoOfMonths_PartACov                        558211 non-null  int64  \n",
            " 10  NoOfMonths_PartBCov                        558211 non-null  int64  \n",
            " 11  IPAnnualReimbursementAmt                   558211 non-null  int64  \n",
            " 12  IPAnnualDeductibleAmt                      558211 non-null  int64  \n",
            " 13  OPAnnualReimbursementAmt                   558211 non-null  int64  \n",
            " 14  OPAnnualDeductibleAmt                      558211 non-null  int64  \n",
            " 15  Provider_degree                            558211 non-null  int64  \n",
            " 16  Provider_eigenvector_centrality            558211 non-null  float64\n",
            " 17  Provider_pagerank                          558211 non-null  float64\n",
            " 18  AttendingPhysician_degree                  558211 non-null  int64  \n",
            " 19  AttendingPhysician_eigenvector_centrality  558211 non-null  float64\n",
            " 20  AttendingPhysician_pagerank                558211 non-null  float64\n",
            " 21  AttendingPhysician_cluster                 558211 non-null  int64  \n",
            "dtypes: float64(5), int64(17)\n",
            "memory usage: 93.7 MB\n"
          ]
        }
      ],
      "source": [
        "df_enriched.info()"
      ]
    },
    {
      "cell_type": "code",
      "execution_count": null,
      "metadata": {
        "execution": {
          "iopub.execute_input": "2023-11-27T05:44:34.349776Z",
          "iopub.status.busy": "2023-11-27T05:44:34.349433Z",
          "iopub.status.idle": "2023-11-27T05:44:34.816092Z",
          "shell.execute_reply": "2023-11-27T05:44:34.815086Z",
          "shell.execute_reply.started": "2023-11-27T05:44:34.349741Z"
        },
        "trusted": true,
        "id": "joUdoFbbciku",
        "outputId": "6ed5e706-df4d-464a-d220-00c48ac3172c"
      },
      "outputs": [
        {
          "data": {
            "image/png": "[encoded data removed]",
            "text/plain": [
              "<Figure size 640x480 with 1 Axes>"
            ]
          },
          "metadata": {},
          "output_type": "display_data"
        },
        {
          "name": "stdout",
          "output_type": "stream",
          "text": [
            "The Class Imbalance: Counter({0: 345415, 1: 212796})\n"
          ]
        }
      ],
      "source": [
        "classes = df_enriched['PotentialFraud'].to_numpy()\n",
        "\n",
        "plt.hist(classes)\n",
        "plt.title(\"Showing the class imbalance\")\n",
        "plt.show()\n",
        "\n",
        "print('The Class Imbalance: %s' % Counter(classes))"
      ]
    },
    {
      "cell_type": "code",
      "execution_count": null,
      "metadata": {
        "execution": {
          "iopub.execute_input": "2023-11-27T05:44:34.820261Z",
          "iopub.status.busy": "2023-11-27T05:44:34.819545Z",
          "iopub.status.idle": "2023-11-27T05:44:34.842710Z",
          "shell.execute_reply": "2023-11-27T05:44:34.841581Z",
          "shell.execute_reply.started": "2023-11-27T05:44:34.820229Z"
        },
        "trusted": true,
        "id": "Ghfp3wSQciku",
        "outputId": "59fe14ad-33bb-4edf-dbc7-6ad3499890dc"
      },
      "outputs": [
        {
          "data": {
            "text/html": [
              "<div>\n",
              "<style scoped>\n",
              "    .dataframe tbody tr th:only-of-type {\n",
              "        vertical-align: middle;\n",
              "    }\n",
              "\n",
              "    .dataframe tbody tr th {\n",
              "        vertical-align: top;\n",
              "    }\n",
              "\n",
              "    .dataframe thead th {\n",
              "        text-align: right;\n",
              "    }\n",
              "</style>\n",
              "<table border=\"1\" class=\"dataframe\">\n",
              "  <thead>\n",
              "    <tr style=\"text-align: right;\">\n",
              "      <th></th>\n",
              "      <th>AttendingPhysician</th>\n",
              "      <th>BeneID</th>\n",
              "      <th>Provider</th>\n",
              "      <th>ClaimID</th>\n",
              "      <th>InscClaimAmtReimbursed</th>\n",
              "      <th>DeductibleAmtPaid</th>\n",
              "      <th>PotentialFraud</th>\n",
              "      <th>Gender</th>\n",
              "      <th>Race</th>\n",
              "      <th>NoOfMonths_PartACov</th>\n",
              "      <th>...</th>\n",
              "      <th>IPAnnualDeductibleAmt</th>\n",
              "      <th>OPAnnualReimbursementAmt</th>\n",
              "      <th>OPAnnualDeductibleAmt</th>\n",
              "      <th>Provider_degree</th>\n",
              "      <th>Provider_eigenvector_centrality</th>\n",
              "      <th>Provider_pagerank</th>\n",
              "      <th>AttendingPhysician_degree</th>\n",
              "      <th>AttendingPhysician_eigenvector_centrality</th>\n",
              "      <th>AttendingPhysician_pagerank</th>\n",
              "      <th>AttendingPhysician_cluster</th>\n",
              "    </tr>\n",
              "  </thead>\n",
              "  <tbody>\n",
              "    <tr>\n",
              "      <th>0</th>\n",
              "      <td>2000000</td>\n",
              "      <td>3100026</td>\n",
              "      <td>1051154</td>\n",
              "      <td>4327937</td>\n",
              "      <td>50</td>\n",
              "      <td>0.0</td>\n",
              "      <td>0</td>\n",
              "      <td>2</td>\n",
              "      <td>2</td>\n",
              "      <td>12</td>\n",
              "      <td>...</td>\n",
              "      <td>0</td>\n",
              "      <td>730</td>\n",
              "      <td>120</td>\n",
              "      <td>4</td>\n",
              "      <td>0.022443</td>\n",
              "      <td>0.000022</td>\n",
              "      <td>905</td>\n",
              "      <td>0.688022</td>\n",
              "      <td>0.003687</td>\n",
              "      <td>3</td>\n",
              "    </tr>\n",
              "    <tr>\n",
              "      <th>1</th>\n",
              "      <td>2000000</td>\n",
              "      <td>3100075</td>\n",
              "      <td>1052723</td>\n",
              "      <td>4381108</td>\n",
              "      <td>0</td>\n",
              "      <td>0.0</td>\n",
              "      <td>0</td>\n",
              "      <td>2</td>\n",
              "      <td>1</td>\n",
              "      <td>12</td>\n",
              "      <td>...</td>\n",
              "      <td>4272</td>\n",
              "      <td>9510</td>\n",
              "      <td>3130</td>\n",
              "      <td>5</td>\n",
              "      <td>0.022467</td>\n",
              "      <td>0.000027</td>\n",
              "      <td>905</td>\n",
              "      <td>0.688022</td>\n",
              "      <td>0.003687</td>\n",
              "      <td>3</td>\n",
              "    </tr>\n",
              "    <tr>\n",
              "      <th>2</th>\n",
              "      <td>2000000</td>\n",
              "      <td>3100125</td>\n",
              "      <td>1052145</td>\n",
              "      <td>4543156</td>\n",
              "      <td>90</td>\n",
              "      <td>10.0</td>\n",
              "      <td>0</td>\n",
              "      <td>1</td>\n",
              "      <td>1</td>\n",
              "      <td>12</td>\n",
              "      <td>...</td>\n",
              "      <td>0</td>\n",
              "      <td>1460</td>\n",
              "      <td>580</td>\n",
              "      <td>51</td>\n",
              "      <td>0.023621</td>\n",
              "      <td>0.000280</td>\n",
              "      <td>905</td>\n",
              "      <td>0.688022</td>\n",
              "      <td>0.003687</td>\n",
              "      <td>3</td>\n",
              "    </tr>\n",
              "    <tr>\n",
              "      <th>3</th>\n",
              "      <td>2000000</td>\n",
              "      <td>3100140</td>\n",
              "      <td>1053762</td>\n",
              "      <td>4149709</td>\n",
              "      <td>100</td>\n",
              "      <td>0.0</td>\n",
              "      <td>1</td>\n",
              "      <td>1</td>\n",
              "      <td>1</td>\n",
              "      <td>12</td>\n",
              "      <td>...</td>\n",
              "      <td>0</td>\n",
              "      <td>1880</td>\n",
              "      <td>110</td>\n",
              "      <td>96</td>\n",
              "      <td>0.024900</td>\n",
              "      <td>0.000524</td>\n",
              "      <td>905</td>\n",
              "      <td>0.688022</td>\n",
              "      <td>0.003687</td>\n",
              "      <td>3</td>\n",
              "    </tr>\n",
              "    <tr>\n",
              "      <th>4</th>\n",
              "      <td>2000000</td>\n",
              "      <td>3100200</td>\n",
              "      <td>1055912</td>\n",
              "      <td>4413025</td>\n",
              "      <td>20</td>\n",
              "      <td>0.0</td>\n",
              "      <td>1</td>\n",
              "      <td>2</td>\n",
              "      <td>1</td>\n",
              "      <td>12</td>\n",
              "      <td>...</td>\n",
              "      <td>1068</td>\n",
              "      <td>20</td>\n",
              "      <td>20</td>\n",
              "      <td>69</td>\n",
              "      <td>0.024105</td>\n",
              "      <td>0.000371</td>\n",
              "      <td>905</td>\n",
              "      <td>0.688022</td>\n",
              "      <td>0.003687</td>\n",
              "      <td>3</td>\n",
              "    </tr>\n",
              "  </tbody>\n",
              "</table>\n",
              "<p>5 rows × 22 columns</p>\n",
              "</div>"
            ],
            "text/plain": [
              "   AttendingPhysician   BeneID  Provider  ClaimID  InscClaimAmtReimbursed   \n",
              "0             2000000  3100026   1051154  4327937                      50  \\\n",
              "1             2000000  3100075   1052723  4381108                       0   \n",
              "2             2000000  3100125   1052145  4543156                      90   \n",
              "3             2000000  3100140   1053762  4149709                     100   \n",
              "4             2000000  3100200   1055912  4413025                      20   \n",
              "\n",
              "   DeductibleAmtPaid  PotentialFraud  Gender  Race  NoOfMonths_PartACov  ...   \n",
              "0                0.0               0       2     2                   12  ...  \\\n",
              "1                0.0               0       2     1                   12  ...   \n",
              "2               10.0               0       1     1                   12  ...   \n",
              "3                0.0               1       1     1                   12  ...   \n",
              "4                0.0               1       2     1                   12  ...   \n",
              "\n",
              "   IPAnnualDeductibleAmt  OPAnnualReimbursementAmt  OPAnnualDeductibleAmt   \n",
              "0                      0                       730                    120  \\\n",
              "1                   4272                      9510                   3130   \n",
              "2                      0                      1460                    580   \n",
              "3                      0                      1880                    110   \n",
              "4                   1068                        20                     20   \n",
              "\n",
              "   Provider_degree  Provider_eigenvector_centrality  Provider_pagerank   \n",
              "0                4                         0.022443           0.000022  \\\n",
              "1                5                         0.022467           0.000027   \n",
              "2               51                         0.023621           0.000280   \n",
              "3               96                         0.024900           0.000524   \n",
              "4               69                         0.024105           0.000371   \n",
              "\n",
              "   AttendingPhysician_degree  AttendingPhysician_eigenvector_centrality   \n",
              "0                        905                                   0.688022  \\\n",
              "1                        905                                   0.688022   \n",
              "2                        905                                   0.688022   \n",
              "3                        905                                   0.688022   \n",
              "4                        905                                   0.688022   \n",
              "\n",
              "   AttendingPhysician_pagerank  AttendingPhysician_cluster  \n",
              "0                     0.003687                           3  \n",
              "1                     0.003687                           3  \n",
              "2                     0.003687                           3  \n",
              "3                     0.003687                           3  \n",
              "4                     0.003687                           3  \n",
              "\n",
              "[5 rows x 22 columns]"
            ]
          },
          "execution_count": 25,
          "metadata": {},
          "output_type": "execute_result"
        }
      ],
      "source": [
        "df_enriched.head()"
      ]
    },
    {
      "cell_type": "code",
      "execution_count": null,
      "metadata": {
        "execution": {
          "iopub.execute_input": "2023-11-27T05:44:34.844070Z",
          "iopub.status.busy": "2023-11-27T05:44:34.843795Z",
          "iopub.status.idle": "2023-11-27T05:44:34.871167Z",
          "shell.execute_reply": "2023-11-27T05:44:34.870227Z",
          "shell.execute_reply.started": "2023-11-27T05:44:34.844045Z"
        },
        "trusted": true,
        "id": "_x6DCRSYciku",
        "outputId": "66e2793d-6f24-49f1-94e7-994b1d55206c"
      },
      "outputs": [
        {
          "name": "stdout",
          "output_type": "stream",
          "text": [
            "Original shapes:  X: (558211, 17)  y: (558211,)\n"
          ]
        }
      ],
      "source": [
        "# Splitting feature data from label data\n",
        "X, y = df_enriched[['InscClaimAmtReimbursed',\n",
        "                    'DeductibleAmtPaid',\n",
        "                    'Gender',\n",
        "                    'Race',\n",
        "                    'NoOfMonths_PartACov',\n",
        "                    'NoOfMonths_PartBCov',\n",
        "                    'IPAnnualReimbursementAmt',\n",
        "                    'IPAnnualDeductibleAmt',\n",
        "                    'OPAnnualReimbursementAmt',\n",
        "                    'OPAnnualDeductibleAmt',\n",
        "                    'Provider_degree',\n",
        "                    #  'Provider_closeness_centrality',\n",
        "                    'Provider_eigenvector_centrality',\n",
        "                    'Provider_pagerank',\n",
        "                    'AttendingPhysician_degree',\n",
        "                    #  'AttendingPhysician_closeness_centrality',\n",
        "                    'AttendingPhysician_eigenvector_centrality',\n",
        "                    'AttendingPhysician_pagerank',\n",
        "                    'AttendingPhysician_cluster']], df_enriched['PotentialFraud']\n",
        "\n",
        "print(\"Original shapes: \", \"X:\", X.shape, \" y:\", y.shape)"
      ]
    },
    {
      "cell_type": "code",
      "execution_count": null,
      "metadata": {
        "execution": {
          "iopub.execute_input": "2023-11-27T05:44:34.872498Z",
          "iopub.status.busy": "2023-11-27T05:44:34.872192Z",
          "iopub.status.idle": "2023-11-27T05:44:34.909288Z",
          "shell.execute_reply": "2023-11-27T05:44:34.908229Z",
          "shell.execute_reply.started": "2023-11-27T05:44:34.872470Z"
        },
        "trusted": true,
        "id": "1g25yHUpciku"
      },
      "outputs": [],
      "source": [
        "X = X.fillna(0)"
      ]
    },
    {
      "cell_type": "code",
      "execution_count": null,
      "metadata": {
        "execution": {
          "iopub.execute_input": "2023-11-27T05:44:34.910927Z",
          "iopub.status.busy": "2023-11-27T05:44:34.910634Z",
          "iopub.status.idle": "2023-11-27T05:44:35.007871Z",
          "shell.execute_reply": "2023-11-27T05:44:35.006903Z",
          "shell.execute_reply.started": "2023-11-27T05:44:34.910902Z"
        },
        "trusted": true,
        "id": "7GBA31YVciku",
        "outputId": "4bc80f7a-38b4-4eea-9926-faea07e897d4"
      },
      "outputs": [
        {
          "name": "stdout",
          "output_type": "stream",
          "text": [
            "Shapes after splitting:\n",
            "\n",
            "X_train: (390747, 17), y_train: (390747,)     \n",
            "X_test: (167464, 17), y_test: (167464,)\n"
          ]
        }
      ],
      "source": [
        " # Splitting data into train and test sets\n",
        "X_train, X_test, y_train, y_test = train_test_split(X, y, test_size=0.3, random_state=27)\n",
        "print(f\"Shapes after splitting:\\n\\nX_train: {X_train.shape}, y_train: {y_train.shape}\\\n",
        "      \\nX_test: {X_test.shape}, y_test: {y_test.shape}\")"
      ]
    },
    {
      "cell_type": "code",
      "execution_count": null,
      "metadata": {
        "trusted": true,
        "id": "Mlso6teLciku"
      },
      "outputs": [],
      "source": []
    },
    {
      "cell_type": "markdown",
      "metadata": {
        "id": "sJYZ7auvcikv"
      },
      "source": [
        "Logistic Regression"
      ]
    },
    {
      "cell_type": "code",
      "execution_count": null,
      "metadata": {
        "execution": {
          "iopub.execute_input": "2023-11-27T06:24:28.400251Z",
          "iopub.status.busy": "2023-11-27T06:24:28.399888Z",
          "iopub.status.idle": "2023-11-27T06:24:51.890366Z",
          "shell.execute_reply": "2023-11-27T06:24:51.889378Z",
          "shell.execute_reply.started": "2023-11-27T06:24:28.400218Z"
        },
        "trusted": true,
        "id": "mo7dN-YHcikv",
        "outputId": "efe5077e-72d1-45f1-a353-776aed5fac1b"
      },
      "outputs": [
        {
          "data": {
            "text/html": [
              "<style>#sk-container-id-3 {color: black;background-color: white;}#sk-container-id-3 pre{padding: 0;}#sk-container-id-3 div.sk-toggleable {background-color: white;}#sk-container-id-3 label.sk-toggleable__label {cursor: pointer;display: block;width: 100%;margin-bottom: 0;padding: 0.3em;box-sizing: border-box;text-align: center;}#sk-container-id-3 label.sk-toggleable__label-arrow:before {content: \"▸\";float: left;margin-right: 0.25em;color: #696969;}#sk-container-id-3 label.sk-toggleable__label-arrow:hover:before {color: black;}#sk-container-id-3 div.sk-estimator:hover label.sk-toggleable__label-arrow:before {color: black;}#sk-container-id-3 div.sk-toggleable__content {max-height: 0;max-width: 0;overflow: hidden;text-align: left;background-color: #f0f8ff;}#sk-container-id-3 div.sk-toggleable__content pre {margin: 0.2em;color: black;border-radius: 0.25em;background-color: #f0f8ff;}#sk-container-id-3 input.sk-toggleable__control:checked~div.sk-toggleable__content {max-height: 200px;max-width: 100%;overflow: auto;}#sk-container-id-3 input.sk-toggleable__control:checked~label.sk-toggleable__label-arrow:before {content: \"▾\";}#sk-container-id-3 div.sk-estimator input.sk-toggleable__control:checked~label.sk-toggleable__label {background-color: #d4ebff;}#sk-container-id-3 div.sk-label input.sk-toggleable__control:checked~label.sk-toggleable__label {background-color: #d4ebff;}#sk-container-id-3 input.sk-hidden--visually {border: 0;clip: rect(1px 1px 1px 1px);clip: rect(1px, 1px, 1px, 1px);height: 1px;margin: -1px;overflow: hidden;padding: 0;position: absolute;width: 1px;}#sk-container-id-3 div.sk-estimator {font-family: monospace;background-color: #f0f8ff;border: 1px dotted black;border-radius: 0.25em;box-sizing: border-box;margin-bottom: 0.5em;}#sk-container-id-3 div.sk-estimator:hover {background-color: #d4ebff;}#sk-container-id-3 div.sk-parallel-item::after {content: \"\";width: 100%;border-bottom: 1px solid gray;flex-grow: 1;}#sk-container-id-3 div.sk-label:hover label.sk-toggleable__label {background-color: #d4ebff;}#sk-container-id-3 div.sk-serial::before {content: \"\";position: absolute;border-left: 1px solid gray;box-sizing: border-box;top: 0;bottom: 0;left: 50%;z-index: 0;}#sk-container-id-3 div.sk-serial {display: flex;flex-direction: column;align-items: center;background-color: white;padding-right: 0.2em;padding-left: 0.2em;position: relative;}#sk-container-id-3 div.sk-item {position: relative;z-index: 1;}#sk-container-id-3 div.sk-parallel {display: flex;align-items: stretch;justify-content: center;background-color: white;position: relative;}#sk-container-id-3 div.sk-item::before, #sk-container-id-3 div.sk-parallel-item::before {content: \"\";position: absolute;border-left: 1px solid gray;box-sizing: border-box;top: 0;bottom: 0;left: 50%;z-index: -1;}#sk-container-id-3 div.sk-parallel-item {display: flex;flex-direction: column;z-index: 1;position: relative;background-color: white;}#sk-container-id-3 div.sk-parallel-item:first-child::after {align-self: flex-end;width: 50%;}#sk-container-id-3 div.sk-parallel-item:last-child::after {align-self: flex-start;width: 50%;}#sk-container-id-3 div.sk-parallel-item:only-child::after {width: 0;}#sk-container-id-3 div.sk-dashed-wrapped {border: 1px dashed gray;margin: 0 0.4em 0.5em 0.4em;box-sizing: border-box;padding-bottom: 0.4em;background-color: white;}#sk-container-id-3 div.sk-label label {font-family: monospace;font-weight: bold;display: inline-block;line-height: 1.2em;}#sk-container-id-3 div.sk-label-container {text-align: center;}#sk-container-id-3 div.sk-container {/* jupyter's `normalize.less` sets `[hidden] { display: none; }` but bootstrap.min.css set `[hidden] { display: none !important; }` so we also need the `!important` here to be able to override the default hidden behavior on the sphinx rendered scikit-learn.org. See: https://github.com/scikit-learn/scikit-learn/issues/21755 */display: inline-block !important;position: relative;}#sk-container-id-3 div.sk-text-repr-fallback {display: none;}</style><div id=\"sk-container-id-3\" class=\"sk-top-container\"><div class=\"sk-text-repr-fallback\"><pre>LogisticRegression(C=0.0316228, class_weight=&#x27;balanced&#x27;, intercept_scaling=1.0,\n",
              "                   max_iter=500, penalty=&#x27;l1&#x27;, random_state=49,\n",
              "                   solver=&#x27;liblinear&#x27;)</pre><b>In a Jupyter environment, please rerun this cell to show the HTML representation or trust the notebook. <br />On GitHub, the HTML representation is unable to render, please try loading this page with nbviewer.org.</b></div><div class=\"sk-container\" hidden><div class=\"sk-item\"><div class=\"sk-estimator sk-toggleable\"><input class=\"sk-toggleable__control sk-hidden--visually\" id=\"sk-estimator-id-3\" type=\"checkbox\" checked><label for=\"sk-estimator-id-3\" class=\"sk-toggleable__label sk-toggleable__label-arrow\">LogisticRegression</label><div class=\"sk-toggleable__content\"><pre>LogisticRegression(C=0.0316228, class_weight=&#x27;balanced&#x27;, intercept_scaling=1.0,\n",
              "                   max_iter=500, penalty=&#x27;l1&#x27;, random_state=49,\n",
              "                   solver=&#x27;liblinear&#x27;)</pre></div></div></div></div></div>"
            ],
            "text/plain": [
              "LogisticRegression(C=0.0316228, class_weight='balanced', intercept_scaling=1.0,\n",
              "                   max_iter=500, penalty='l1', random_state=49,\n",
              "                   solver='liblinear')"
            ]
          },
          "execution_count": 47,
          "metadata": {},
          "output_type": "execute_result"
        }
      ],
      "source": [
        "log_reg_1 = LogisticRegression(C=0.0316228, penalty='l1',\n",
        "                               fit_intercept=True, solver='liblinear', tol=0.0001, max_iter=500,\n",
        "                               class_weight='balanced',\n",
        "                               verbose=0,\n",
        "                               intercept_scaling=1.0,\n",
        "                               multi_class='auto',\n",
        "                               random_state=49)\n",
        "\n",
        "log_reg_1.fit(X_train, y_train)"
      ]
    },
    {
      "cell_type": "code",
      "execution_count": null,
      "metadata": {
        "execution": {
          "iopub.execute_input": "2023-11-27T06:24:51.891963Z",
          "iopub.status.busy": "2023-11-27T06:24:51.891669Z",
          "iopub.status.idle": "2023-11-27T06:24:51.945694Z",
          "shell.execute_reply": "2023-11-27T06:24:51.944217Z",
          "shell.execute_reply.started": "2023-11-27T06:24:51.891938Z"
        },
        "trusted": true,
        "id": "gOFFtQGjcikv",
        "outputId": "0e604596-4b5d-40d6-ce0b-dad4ac3b9e4f"
      },
      "outputs": [
        {
          "data": {
            "text/plain": [
              "0.6638680552238093"
            ]
          },
          "execution_count": 48,
          "metadata": {},
          "output_type": "execute_result"
        }
      ],
      "source": [
        "log_reg_1.score(X_test, y_test)"
      ]
    },
    {
      "cell_type": "markdown",
      "metadata": {
        "id": "v_MLf4F-cikv"
      },
      "source": [
        "Decision Tree"
      ]
    },
    {
      "cell_type": "code",
      "execution_count": null,
      "metadata": {
        "execution": {
          "iopub.execute_input": "2023-11-27T06:24:51.951137Z",
          "iopub.status.busy": "2023-11-27T06:24:51.949263Z",
          "iopub.status.idle": "2023-11-27T06:24:52.684551Z",
          "shell.execute_reply": "2023-11-27T06:24:52.683379Z",
          "shell.execute_reply.started": "2023-11-27T06:24:51.951098Z"
        },
        "trusted": true,
        "id": "KS1YKSMycikv",
        "outputId": "4aebdf41-fe5d-42d7-c7fa-095d8aa01b1f"
      },
      "outputs": [
        {
          "data": {
            "text/html": [
              "<style>#sk-container-id-4 {color: black;background-color: white;}#sk-container-id-4 pre{padding: 0;}#sk-container-id-4 div.sk-toggleable {background-color: white;}#sk-container-id-4 label.sk-toggleable__label {cursor: pointer;display: block;width: 100%;margin-bottom: 0;padding: 0.3em;box-sizing: border-box;text-align: center;}#sk-container-id-4 label.sk-toggleable__label-arrow:before {content: \"▸\";float: left;margin-right: 0.25em;color: #696969;}#sk-container-id-4 label.sk-toggleable__label-arrow:hover:before {color: black;}#sk-container-id-4 div.sk-estimator:hover label.sk-toggleable__label-arrow:before {color: black;}#sk-container-id-4 div.sk-toggleable__content {max-height: 0;max-width: 0;overflow: hidden;text-align: left;background-color: #f0f8ff;}#sk-container-id-4 div.sk-toggleable__content pre {margin: 0.2em;color: black;border-radius: 0.25em;background-color: #f0f8ff;}#sk-container-id-4 input.sk-toggleable__control:checked~div.sk-toggleable__content {max-height: 200px;max-width: 100%;overflow: auto;}#sk-container-id-4 input.sk-toggleable__control:checked~label.sk-toggleable__label-arrow:before {content: \"▾\";}#sk-container-id-4 div.sk-estimator input.sk-toggleable__control:checked~label.sk-toggleable__label {background-color: #d4ebff;}#sk-container-id-4 div.sk-label input.sk-toggleable__control:checked~label.sk-toggleable__label {background-color: #d4ebff;}#sk-container-id-4 input.sk-hidden--visually {border: 0;clip: rect(1px 1px 1px 1px);clip: rect(1px, 1px, 1px, 1px);height: 1px;margin: -1px;overflow: hidden;padding: 0;position: absolute;width: 1px;}#sk-container-id-4 div.sk-estimator {font-family: monospace;background-color: #f0f8ff;border: 1px dotted black;border-radius: 0.25em;box-sizing: border-box;margin-bottom: 0.5em;}#sk-container-id-4 div.sk-estimator:hover {background-color: #d4ebff;}#sk-container-id-4 div.sk-parallel-item::after {content: \"\";width: 100%;border-bottom: 1px solid gray;flex-grow: 1;}#sk-container-id-4 div.sk-label:hover label.sk-toggleable__label {background-color: #d4ebff;}#sk-container-id-4 div.sk-serial::before {content: \"\";position: absolute;border-left: 1px solid gray;box-sizing: border-box;top: 0;bottom: 0;left: 50%;z-index: 0;}#sk-container-id-4 div.sk-serial {display: flex;flex-direction: column;align-items: center;background-color: white;padding-right: 0.2em;padding-left: 0.2em;position: relative;}#sk-container-id-4 div.sk-item {position: relative;z-index: 1;}#sk-container-id-4 div.sk-parallel {display: flex;align-items: stretch;justify-content: center;background-color: white;position: relative;}#sk-container-id-4 div.sk-item::before, #sk-container-id-4 div.sk-parallel-item::before {content: \"\";position: absolute;border-left: 1px solid gray;box-sizing: border-box;top: 0;bottom: 0;left: 50%;z-index: -1;}#sk-container-id-4 div.sk-parallel-item {display: flex;flex-direction: column;z-index: 1;position: relative;background-color: white;}#sk-container-id-4 div.sk-parallel-item:first-child::after {align-self: flex-end;width: 50%;}#sk-container-id-4 div.sk-parallel-item:last-child::after {align-self: flex-start;width: 50%;}#sk-container-id-4 div.sk-parallel-item:only-child::after {width: 0;}#sk-container-id-4 div.sk-dashed-wrapped {border: 1px dashed gray;margin: 0 0.4em 0.5em 0.4em;box-sizing: border-box;padding-bottom: 0.4em;background-color: white;}#sk-container-id-4 div.sk-label label {font-family: monospace;font-weight: bold;display: inline-block;line-height: 1.2em;}#sk-container-id-4 div.sk-label-container {text-align: center;}#sk-container-id-4 div.sk-container {/* jupyter's `normalize.less` sets `[hidden] { display: none; }` but bootstrap.min.css set `[hidden] { display: none !important; }` so we also need the `!important` here to be able to override the default hidden behavior on the sphinx rendered scikit-learn.org. See: https://github.com/scikit-learn/scikit-learn/issues/21755 */display: inline-block !important;position: relative;}#sk-container-id-4 div.sk-text-repr-fallback {display: none;}</style><div id=\"sk-container-id-4\" class=\"sk-top-container\"><div class=\"sk-text-repr-fallback\"><pre>DecisionTreeClassifier(class_weight=&#x27;balanced&#x27;, max_depth=6,\n",
              "                       max_features=&#x27;log2&#x27;, min_samples_leaf=100,\n",
              "                       min_samples_split=100, random_state=49)</pre><b>In a Jupyter environment, please rerun this cell to show the HTML representation or trust the notebook. <br />On GitHub, the HTML representation is unable to render, please try loading this page with nbviewer.org.</b></div><div class=\"sk-container\" hidden><div class=\"sk-item\"><div class=\"sk-estimator sk-toggleable\"><input class=\"sk-toggleable__control sk-hidden--visually\" id=\"sk-estimator-id-4\" type=\"checkbox\" checked><label for=\"sk-estimator-id-4\" class=\"sk-toggleable__label sk-toggleable__label-arrow\">DecisionTreeClassifier</label><div class=\"sk-toggleable__content\"><pre>DecisionTreeClassifier(class_weight=&#x27;balanced&#x27;, max_depth=6,\n",
              "                       max_features=&#x27;log2&#x27;, min_samples_leaf=100,\n",
              "                       min_samples_split=100, random_state=49)</pre></div></div></div></div></div>"
            ],
            "text/plain": [
              "DecisionTreeClassifier(class_weight='balanced', max_depth=6,\n",
              "                       max_features='log2', min_samples_leaf=100,\n",
              "                       min_samples_split=100, random_state=49)"
            ]
          },
          "execution_count": 49,
          "metadata": {},
          "output_type": "execute_result"
        }
      ],
      "source": [
        "dec_tree_2 = DecisionTreeClassifier(criterion='gini',\n",
        "                                   max_depth= 6,\n",
        "                                   max_features='log2',\n",
        "                                   min_samples_leaf=100,\n",
        "                                   min_samples_split=100,\n",
        "                                   class_weight='balanced',\n",
        "                                   random_state=49,\n",
        "                                   splitter='best',\n",
        "                                   min_weight_fraction_leaf=0.0,\n",
        "                                   max_leaf_nodes=None,\n",
        "                                   min_impurity_decrease=0.0,\n",
        "                                   ccp_alpha=0.0,)\n",
        "\n",
        "dec_tree_2.fit(X_train, y_train)"
      ]
    },
    {
      "cell_type": "code",
      "execution_count": null,
      "metadata": {
        "execution": {
          "iopub.execute_input": "2023-11-27T06:24:52.686005Z",
          "iopub.status.busy": "2023-11-27T06:24:52.685710Z",
          "iopub.status.idle": "2023-11-27T06:24:52.728817Z",
          "shell.execute_reply": "2023-11-27T06:24:52.727811Z",
          "shell.execute_reply.started": "2023-11-27T06:24:52.685980Z"
        },
        "trusted": true,
        "id": "fdaPX4_fcikv",
        "outputId": "2149b671-d0dc-496e-964a-fc02c9147384"
      },
      "outputs": [
        {
          "data": {
            "text/plain": [
              "0.7195158362394306"
            ]
          },
          "execution_count": 50,
          "metadata": {},
          "output_type": "execute_result"
        }
      ],
      "source": [
        "dec_tree_2.score(X_test, y_test)"
      ]
    },
    {
      "cell_type": "markdown",
      "metadata": {
        "id": "Y3_Migxpcikw"
      },
      "source": [
        "Random Forest"
      ]
    },
    {
      "cell_type": "code",
      "execution_count": null,
      "metadata": {
        "execution": {
          "iopub.execute_input": "2023-11-27T06:24:52.730430Z",
          "iopub.status.busy": "2023-11-27T06:24:52.730062Z",
          "iopub.status.idle": "2023-11-27T06:25:05.096169Z",
          "shell.execute_reply": "2023-11-27T06:25:05.095204Z",
          "shell.execute_reply.started": "2023-11-27T06:24:52.730401Z"
        },
        "trusted": true,
        "id": "nc28WZK9cikw",
        "outputId": "7d862b06-bec5-460e-e865-e56df697dbf8"
      },
      "outputs": [
        {
          "data": {
            "text/html": [
              "<style>#sk-container-id-5 {color: black;background-color: white;}#sk-container-id-5 pre{padding: 0;}#sk-container-id-5 div.sk-toggleable {background-color: white;}#sk-container-id-5 label.sk-toggleable__label {cursor: pointer;display: block;width: 100%;margin-bottom: 0;padding: 0.3em;box-sizing: border-box;text-align: center;}#sk-container-id-5 label.sk-toggleable__label-arrow:before {content: \"▸\";float: left;margin-right: 0.25em;color: #696969;}#sk-container-id-5 label.sk-toggleable__label-arrow:hover:before {color: black;}#sk-container-id-5 div.sk-estimator:hover label.sk-toggleable__label-arrow:before {color: black;}#sk-container-id-5 div.sk-toggleable__content {max-height: 0;max-width: 0;overflow: hidden;text-align: left;background-color: #f0f8ff;}#sk-container-id-5 div.sk-toggleable__content pre {margin: 0.2em;color: black;border-radius: 0.25em;background-color: #f0f8ff;}#sk-container-id-5 input.sk-toggleable__control:checked~div.sk-toggleable__content {max-height: 200px;max-width: 100%;overflow: auto;}#sk-container-id-5 input.sk-toggleable__control:checked~label.sk-toggleable__label-arrow:before {content: \"▾\";}#sk-container-id-5 div.sk-estimator input.sk-toggleable__control:checked~label.sk-toggleable__label {background-color: #d4ebff;}#sk-container-id-5 div.sk-label input.sk-toggleable__control:checked~label.sk-toggleable__label {background-color: #d4ebff;}#sk-container-id-5 input.sk-hidden--visually {border: 0;clip: rect(1px 1px 1px 1px);clip: rect(1px, 1px, 1px, 1px);height: 1px;margin: -1px;overflow: hidden;padding: 0;position: absolute;width: 1px;}#sk-container-id-5 div.sk-estimator {font-family: monospace;background-color: #f0f8ff;border: 1px dotted black;border-radius: 0.25em;box-sizing: border-box;margin-bottom: 0.5em;}#sk-container-id-5 div.sk-estimator:hover {background-color: #d4ebff;}#sk-container-id-5 div.sk-parallel-item::after {content: \"\";width: 100%;border-bottom: 1px solid gray;flex-grow: 1;}#sk-container-id-5 div.sk-label:hover label.sk-toggleable__label {background-color: #d4ebff;}#sk-container-id-5 div.sk-serial::before {content: \"\";position: absolute;border-left: 1px solid gray;box-sizing: border-box;top: 0;bottom: 0;left: 50%;z-index: 0;}#sk-container-id-5 div.sk-serial {display: flex;flex-direction: column;align-items: center;background-color: white;padding-right: 0.2em;padding-left: 0.2em;position: relative;}#sk-container-id-5 div.sk-item {position: relative;z-index: 1;}#sk-container-id-5 div.sk-parallel {display: flex;align-items: stretch;justify-content: center;background-color: white;position: relative;}#sk-container-id-5 div.sk-item::before, #sk-container-id-5 div.sk-parallel-item::before {content: \"\";position: absolute;border-left: 1px solid gray;box-sizing: border-box;top: 0;bottom: 0;left: 50%;z-index: -1;}#sk-container-id-5 div.sk-parallel-item {display: flex;flex-direction: column;z-index: 1;position: relative;background-color: white;}#sk-container-id-5 div.sk-parallel-item:first-child::after {align-self: flex-end;width: 50%;}#sk-container-id-5 div.sk-parallel-item:last-child::after {align-self: flex-start;width: 50%;}#sk-container-id-5 div.sk-parallel-item:only-child::after {width: 0;}#sk-container-id-5 div.sk-dashed-wrapped {border: 1px dashed gray;margin: 0 0.4em 0.5em 0.4em;box-sizing: border-box;padding-bottom: 0.4em;background-color: white;}#sk-container-id-5 div.sk-label label {font-family: monospace;font-weight: bold;display: inline-block;line-height: 1.2em;}#sk-container-id-5 div.sk-label-container {text-align: center;}#sk-container-id-5 div.sk-container {/* jupyter's `normalize.less` sets `[hidden] { display: none; }` but bootstrap.min.css set `[hidden] { display: none !important; }` so we also need the `!important` here to be able to override the default hidden behavior on the sphinx rendered scikit-learn.org. See: https://github.com/scikit-learn/scikit-learn/issues/21755 */display: inline-block !important;position: relative;}#sk-container-id-5 div.sk-text-repr-fallback {display: none;}</style><div id=\"sk-container-id-5\" class=\"sk-top-container\"><div class=\"sk-text-repr-fallback\"><pre>RandomForestClassifier(class_weight=&#x27;balanced&#x27;, max_depth=7,\n",
              "                       max_features=&#x27;auto&#x27;, min_samples_leaf=60,\n",
              "                       min_samples_split=50, n_estimators=30, random_state=49)</pre><b>In a Jupyter environment, please rerun this cell to show the HTML representation or trust the notebook. <br />On GitHub, the HTML representation is unable to render, please try loading this page with nbviewer.org.</b></div><div class=\"sk-container\" hidden><div class=\"sk-item\"><div class=\"sk-estimator sk-toggleable\"><input class=\"sk-toggleable__control sk-hidden--visually\" id=\"sk-estimator-id-5\" type=\"checkbox\" checked><label for=\"sk-estimator-id-5\" class=\"sk-toggleable__label sk-toggleable__label-arrow\">RandomForestClassifier</label><div class=\"sk-toggleable__content\"><pre>RandomForestClassifier(class_weight=&#x27;balanced&#x27;, max_depth=7,\n",
              "                       max_features=&#x27;auto&#x27;, min_samples_leaf=60,\n",
              "                       min_samples_split=50, n_estimators=30, random_state=49)</pre></div></div></div></div></div>"
            ],
            "text/plain": [
              "RandomForestClassifier(class_weight='balanced', max_depth=7,\n",
              "                       max_features='auto', min_samples_leaf=60,\n",
              "                       min_samples_split=50, n_estimators=30, random_state=49)"
            ]
          },
          "execution_count": 51,
          "metadata": {},
          "output_type": "execute_result"
        }
      ],
      "source": [
        "rfc_3 = RandomForestClassifier(n_estimators=30,criterion='gini',\n",
        "                                   max_depth= 7,\n",
        "                                   max_features='auto',\n",
        "                                   min_samples_leaf=60,\n",
        "                                   min_samples_split=50,\n",
        "                                   class_weight='balanced',\n",
        "                                   random_state=49,\n",
        "                                   min_weight_fraction_leaf=0.0,\n",
        "                                   max_leaf_nodes=None,\n",
        "                                   min_impurity_decrease=0.0,\n",
        "                                   ccp_alpha=0.0,)\n",
        "\n",
        "rfc_3.fit(X_train, y_train)"
      ]
    },
    {
      "cell_type": "code",
      "execution_count": null,
      "metadata": {
        "execution": {
          "iopub.execute_input": "2023-11-27T06:25:05.097850Z",
          "iopub.status.busy": "2023-11-27T06:25:05.097491Z",
          "iopub.status.idle": "2023-11-27T06:25:05.475506Z",
          "shell.execute_reply": "2023-11-27T06:25:05.474593Z",
          "shell.execute_reply.started": "2023-11-27T06:25:05.097818Z"
        },
        "trusted": true,
        "id": "NTB5PgH6cikw",
        "outputId": "c24f1688-d786-43f7-f419-42751ec2b893"
      },
      "outputs": [
        {
          "data": {
            "text/plain": [
              "0.7454975397697415"
            ]
          },
          "execution_count": 52,
          "metadata": {},
          "output_type": "execute_result"
        }
      ],
      "source": [
        "rfc_3.score(X_test, y_test)"
      ]
    },
    {
      "cell_type": "code",
      "execution_count": null,
      "metadata": {
        "execution": {
          "iopub.execute_input": "2023-11-27T06:59:39.549278Z",
          "iopub.status.busy": "2023-11-27T06:59:39.548895Z",
          "iopub.status.idle": "2023-11-27T06:59:39.823699Z",
          "shell.execute_reply": "2023-11-27T06:59:39.822744Z",
          "shell.execute_reply.started": "2023-11-27T06:59:39.549245Z"
        },
        "trusted": true,
        "id": "WNqvacBEcikx",
        "outputId": "1829a80c-3a7b-4148-cd83-0d3ddde2504e"
      },
      "outputs": [
        {
          "data": {
            "image/png": "[encoded data removed]",
            "text/plain": [
              "<Figure size 1000x500 with 1 Axes>"
            ]
          },
          "metadata": {},
          "output_type": "display_data"
        }
      ],
      "source": [
        "acc=[0.6638680552238093,0.7195158362394306,\n",
        "0.7454975397697415]\n",
        "model_names=['Logistic Regression','Decision Tree','Random Forest']\n",
        "fig = plt.figure(figsize = (10, 5))\n",
        "\n",
        "\n",
        "# creating the bar plot\n",
        "plt.bar(model_names, acc, color ='blue',\n",
        "        width = 0.4)\n",
        "\n",
        "plt.xlabel(\"Feature Names\")\n",
        "plt.ylabel(\"Accuracy\")\n",
        "plt.title(\"Accuracy by model with baseline feature\")\n",
        "plt.show()"
      ]
    },
    {
      "cell_type": "code",
      "execution_count": null,
      "metadata": {
        "execution": {
          "iopub.execute_input": "2023-11-27T05:50:46.748816Z",
          "iopub.status.busy": "2023-11-27T05:50:46.748467Z",
          "iopub.status.idle": "2023-11-27T06:22:23.125112Z",
          "shell.execute_reply": "2023-11-27T06:22:23.123875Z",
          "shell.execute_reply.started": "2023-11-27T05:50:46.748787Z"
        },
        "trusted": true,
        "id": "2WzZe4OPcikx",
        "outputId": "a4c6842e-aafe-4368-ab1a-4b6f4dd72b07"
      },
      "outputs": [
        {
          "name": "stdout",
          "output_type": "stream",
          "text": [
            "****************************************************************************************************\n",
            "# Tuning hyper-parameters for accuracy\n",
            "****************************************************************************************************\n",
            "\n",
            "Best parameters set found on development set:\n",
            "\n",
            "{'randomforestclassifier__criterion': 'entropy', 'randomforestclassifier__max_depth': 10, 'randomforestclassifier__min_samples_split': 3}\n",
            "\n",
            "Best score on development set:\n",
            "\n",
            "Accuracy: 63.18\n",
            "****************************************************************************************************\n",
            "# Tuning hyper-parameters for accuracy\n",
            "****************************************************************************************************\n",
            "\n",
            "Best parameters set found on development set:\n",
            "\n",
            "{'randomforestclassifier__criterion': 'entropy', 'randomforestclassifier__max_depth': 300, 'randomforestclassifier__min_samples_split': 2}\n",
            "\n",
            "Best score on development set:\n",
            "\n",
            "Accuracy: 95.76\n",
            "****************************************************************************************************\n",
            "# Tuning hyper-parameters for accuracy\n",
            "****************************************************************************************************\n",
            "\n",
            "Best parameters set found on development set:\n",
            "\n",
            "{'randomforestclassifier__criterion': 'entropy', 'randomforestclassifier__max_depth': 500, 'randomforestclassifier__min_samples_split': 2}\n",
            "\n",
            "Best score on development set:\n",
            "\n",
            "Accuracy: 99.58\n"
          ]
        }
      ],
      "source": [
        "accuracy = []\n",
        "feature_names = [\"Baseline\", \"Graph Features\", \"Graph Features with Community Detection\"]\n",
        "features = [\n",
        "    # Baseline features\n",
        "    ['InscClaimAmtReimbursed',\n",
        "     'DeductibleAmtPaid',\n",
        "     'Gender',\n",
        "     'Race',\n",
        "     'NoOfMonths_PartACov',\n",
        "     'NoOfMonths_PartBCov',\n",
        "     'IPAnnualReimbursementAmt',\n",
        "     'IPAnnualDeductibleAmt',\n",
        "     'OPAnnualReimbursementAmt',\n",
        "     'OPAnnualDeductibleAmt'],\n",
        "    # Baseline + Graph Features\n",
        "    ['InscClaimAmtReimbursed',\n",
        "     'DeductibleAmtPaid',\n",
        "     'Gender',\n",
        "     'Race',\n",
        "     'NoOfMonths_PartACov',\n",
        "     'NoOfMonths_PartBCov',\n",
        "     'IPAnnualReimbursementAmt',\n",
        "     'IPAnnualDeductibleAmt',\n",
        "     'OPAnnualReimbursementAmt',\n",
        "     'OPAnnualDeductibleAmt',\n",
        "     'Provider_degree',\n",
        "    #  'Provider_closeness_centrality',\n",
        "     'Provider_eigenvector_centrality',\n",
        "     'Provider_pagerank',\n",
        "     'AttendingPhysician_degree',\n",
        "    #  'AttendingPhysician_closeness_centrality',\n",
        "     'AttendingPhysician_eigenvector_centrality',\n",
        "    'AttendingPhysician_pagerank'],\n",
        "    # Baseline + Graph Features + Community Detection\n",
        "    ['InscClaimAmtReimbursed',\n",
        "     'DeductibleAmtPaid',\n",
        "     'Gender',\n",
        "     'Race',\n",
        "     'NoOfMonths_PartACov',\n",
        "     'NoOfMonths_PartBCov',\n",
        "     'IPAnnualReimbursementAmt',\n",
        "     'IPAnnualDeductibleAmt',\n",
        "     'OPAnnualReimbursementAmt',\n",
        "     'OPAnnualDeductibleAmt',\n",
        "     'Provider_degree',\n",
        "    #  'Provider_closeness_centrality',\n",
        "     'Provider_eigenvector_centrality',\n",
        "     'Provider_pagerank',\n",
        "     'AttendingPhysician_degree',\n",
        "    #  'AttendingPhysician_closeness_centrality',\n",
        "     'AttendingPhysician_eigenvector_centrality',\n",
        "    'AttendingPhysician_pagerank',\n",
        "     'AttendingPhysician_cluster']\n",
        "]\n",
        "\n",
        "hyper_parameter_grids_RFC = [\n",
        "    { # Grid 1: No regularization\n",
        "      \"randomforestclassifier__criterion\": ['gini'],\n",
        "      \"randomforestclassifier__max_depth\": [10, 20, 50, 100, 250, 300, 500],\n",
        "      \"randomforestclassifier__min_samples_split\": [2, 3, 5, 10, 20, 30],\n",
        "    },\n",
        "    { # Grid 2: L2 regularization\n",
        "      \"randomforestclassifier__criterion\": ['entropy'],\n",
        "      \"randomforestclassifier__max_depth\": [10, 20, 50, 100, 250, 300, 500],\n",
        "      \"randomforestclassifier__min_samples_split\": [2, 3, 5, 10, 20, 30],\n",
        "\n",
        "    },\n",
        "]\n",
        "\n",
        "pipeline_RFC = make_pipeline(StandardScaler(), RandomForestClassifier(random_state=69))\n",
        "\n",
        "\n",
        "for feature in features:\n",
        "    print(\"*\" * 100)\n",
        "    print(\"# Tuning hyper-parameters for accuracy\")\n",
        "    print(\"*\" * 100)\n",
        "    print()\n",
        "\n",
        "    # This performs gridsearch, evaluating each set of hyper-parameters using k-fold\n",
        "    # cross validation.\n",
        "    clf = HalvingGridSearchCV(pipeline_RFC, hyper_parameter_grids_RFC, scoring=\"accuracy\", cv=4, n_jobs=-1)\n",
        "\n",
        "    X_train_subset = X_train[feature]\n",
        "    X_test_subset = X_test[feature]\n",
        "\n",
        "    clf.fit(X_train_subset, y_train)\n",
        "\n",
        "    acc = round(clf.best_estimator_.score(X_test_subset, y_test) * 100, 2)\n",
        "\n",
        "    print(\"Best parameters set found on development set:\")\n",
        "    print()\n",
        "    print(clf.best_params_)\n",
        "    print()\n",
        "    print(\"Best score on development set:\")\n",
        "    print()\n",
        "\n",
        "    print(f\"Accuracy: {acc}\")\n",
        "    accuracy.append(acc)"
      ]
    },
    {
      "cell_type": "code",
      "execution_count": null,
      "metadata": {
        "execution": {
          "iopub.execute_input": "2023-11-27T06:59:59.446987Z",
          "iopub.status.busy": "2023-11-27T06:59:59.446305Z",
          "iopub.status.idle": "2023-11-27T06:59:59.694911Z",
          "shell.execute_reply": "2023-11-27T06:59:59.693921Z",
          "shell.execute_reply.started": "2023-11-27T06:59:59.446952Z"
        },
        "trusted": true,
        "id": "X3U-gplucik1",
        "outputId": "fa0ea742-f674-44d4-9180-57e753408be9"
      },
      "outputs": [
        {
          "data": {
            "image/png": "[encoded data removed]",
            "text/plain": [
              "<Figure size 1000x500 with 1 Axes>"
            ]
          },
          "metadata": {},
          "output_type": "display_data"
        }
      ],
      "source": [
        "fig = plt.figure(figsize = (10, 5))\n",
        "\n",
        "\n",
        "# creating the bar plot\n",
        "plt.bar(feature_names, accuracy, color ='maroon',\n",
        "        width = 0.4)\n",
        "\n",
        "plt.xlabel(\"Feature Names\")\n",
        "plt.ylabel(\"Accuracy\")\n",
        "plt.title(\"Accuracy by feature\")\n",
        "plt.show()\n"
      ]
    },
    {
      "cell_type": "code",
      "execution_count": null,
      "metadata": {
        "execution": {
          "iopub.execute_input": "2023-11-27T07:00:11.130506Z",
          "iopub.status.busy": "2023-11-27T07:00:11.130143Z",
          "iopub.status.idle": "2023-11-27T07:00:12.449024Z",
          "shell.execute_reply": "2023-11-27T07:00:12.448118Z",
          "shell.execute_reply.started": "2023-11-27T07:00:11.130478Z"
        },
        "trusted": true,
        "id": "hh0WtEehcik1",
        "outputId": "ae593061-fc3a-4e7e-fd73-f4789f66b176"
      },
      "outputs": [
        {
          "data": {
            "image/png": "[encoded data removed]",
            "text/plain": [
              "<Figure size 640x480 with 1 Axes>"
            ]
          },
          "metadata": {},
          "output_type": "display_data"
        }
      ],
      "source": [
        "\n",
        "#define metrics\n",
        "y_pred_proba = clf.best_estimator_.steps[1][1].predict_proba(X_test)[::,1]\n",
        "fpr, tpr, _ = metrics.roc_curve(y_test,  y_pred_proba)\n",
        "auc = metrics.roc_auc_score(y_test, y_pred_proba)\n",
        "\n",
        "#create ROC curve\n",
        "plt.plot(fpr,tpr,label=\"AUC=\"+str(auc))\n",
        "plt.ylabel('True Positive Rate')\n",
        "plt.xlabel('False Positive Rate')\n",
        "plt.legend(loc=4)\n",
        "plt.show()"
      ]
    },
    {
      "cell_type": "code",
      "execution_count": null,
      "metadata": {
        "id": "3JzaOGnccik1"
      },
      "outputs": [],
      "source": [
        "bar_data = pd.DataFrame(\n",
        "   dict(\n",
        "      labels = list(X_train.columns),\n",
        "      feature_importance = clf.best_estimator_.steps[1][1].feature_importances_\n",
        "   )\n",
        ")\n",
        "\n",
        "bar_data = bar_data.sort_values('feature_importance', ascending=False)\n",
        "\n",
        "bar_data.plot(x=\"labels\", y=\"feature_importance\", kind=\"bar\")"
      ]
    },
    {
      "cell_type": "code",
      "execution_count": null,
      "metadata": {
        "id": "21_YyJXicik1"
      },
      "outputs": [],
      "source": []
    }
  ],
  "metadata": {
    "kaggle": {
      "accelerator": "nvidiaTeslaT4",
      "dataSources": [
        {
          "datasetId": 188596,
          "sourceId": 421248,
          "sourceType": "datasetVersion"
        }
      ],
      "dockerImageVersionId": 30588,
      "isGpuEnabled": true,
      "isInternetEnabled": true,
      "language": "python",
      "sourceType": "notebook"
    },
    "kernelspec": {
      "display_name": "Python 3",
      "language": "python",
      "name": "python3"
    },
    "language_info": {
      "codemirror_mode": {
        "name": "ipython",
        "version": 3
      },
      "file_extension": ".py",
      "mimetype": "text/x-python",
      "name": "python",
      "nbconvert_exporter": "python",
      "pygments_lexer": "ipython3",
      "version": "3.10.12"
    },
    "colab": {
      "provenance": []
    }
  },
  "nbformat": 4,
  "nbformat_minor": 0
}